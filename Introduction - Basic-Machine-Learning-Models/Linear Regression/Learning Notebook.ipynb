{
 "cells": [
  {
   "cell_type": "markdown",
   "id": "67511d70-3740-470c-a2cf-4bbb44d1a885",
   "metadata": {},
   "source": [
    "# Linear Regression\n",
    "\n",
    "In this notebook you will learn:\n",
    "1. How to load a data file\n",
    "2. How to use this data to train a simple machine learning regression model\n",
    "3. How to evaluate the performance of your model\n",
    "4. How to interpret your model\n",
    "\n",
    "\n",
    "## Why Linear Regression\n",
    "\n",
    "1. Simple model\n",
    "2. Good interpretation of the coefficients\n",
    "3. Computationally efficient\n",
    "4. Low risk of overfitting\n",
    "5. 5. Great baseline model for regression"
   ]
  },
  {
   "cell_type": "markdown",
   "id": "a7eccada-7833-4518-963a-9d961a050fd8",
   "metadata": {},
   "source": [
    "# Imports"
   ]
  },
  {
   "cell_type": "code",
   "execution_count": 2,
   "id": "3066a883-132f-4959-a859-386103732831",
   "metadata": {},
   "outputs": [],
   "source": [
    "from sklearn.linear_model import LinearRegression"
   ]
  },
  {
   "cell_type": "code",
   "execution_count": 3,
   "id": "43e57b59-665c-414a-bf68-6c7fb26f8d95",
   "metadata": {},
   "outputs": [],
   "source": [
    "import pandas as pd\n",
    "import numpy as np\n",
    "import os"
   ]
  },
  {
   "cell_type": "markdown",
   "id": "fb594ece-dabe-4c1e-bc30-e7e341c04075",
   "metadata": {},
   "source": [
    "# Read the data"
   ]
  },
  {
   "cell_type": "code",
   "execution_count": 4,
   "id": "7334ba80-5dd9-41fb-af24-f1405870ebcf",
   "metadata": {},
   "outputs": [],
   "source": [
    "df = pd.read_csv('data/housing.csv')"
   ]
  },
  {
   "cell_type": "code",
   "execution_count": 5,
   "id": "4b93a5fe-896e-4493-a16b-68d5ad63146e",
   "metadata": {},
   "outputs": [
    {
     "data": {
      "text/html": [
       "<div>\n",
       "<style scoped>\n",
       "    .dataframe tbody tr th:only-of-type {\n",
       "        vertical-align: middle;\n",
       "    }\n",
       "\n",
       "    .dataframe tbody tr th {\n",
       "        vertical-align: top;\n",
       "    }\n",
       "\n",
       "    .dataframe thead th {\n",
       "        text-align: right;\n",
       "    }\n",
       "</style>\n",
       "<table border=\"1\" class=\"dataframe\">\n",
       "  <thead>\n",
       "    <tr style=\"text-align: right;\">\n",
       "      <th></th>\n",
       "      <th>RM</th>\n",
       "      <th>LSTAT</th>\n",
       "      <th>PTRATIO</th>\n",
       "      <th>MEDV</th>\n",
       "    </tr>\n",
       "  </thead>\n",
       "  <tbody>\n",
       "    <tr>\n",
       "      <th>0</th>\n",
       "      <td>6.575</td>\n",
       "      <td>4.98</td>\n",
       "      <td>15.3</td>\n",
       "      <td>504000.0</td>\n",
       "    </tr>\n",
       "    <tr>\n",
       "      <th>1</th>\n",
       "      <td>6.421</td>\n",
       "      <td>9.14</td>\n",
       "      <td>17.8</td>\n",
       "      <td>453600.0</td>\n",
       "    </tr>\n",
       "    <tr>\n",
       "      <th>2</th>\n",
       "      <td>7.185</td>\n",
       "      <td>4.03</td>\n",
       "      <td>17.8</td>\n",
       "      <td>728700.0</td>\n",
       "    </tr>\n",
       "    <tr>\n",
       "      <th>3</th>\n",
       "      <td>6.998</td>\n",
       "      <td>2.94</td>\n",
       "      <td>18.7</td>\n",
       "      <td>701400.0</td>\n",
       "    </tr>\n",
       "    <tr>\n",
       "      <th>4</th>\n",
       "      <td>7.147</td>\n",
       "      <td>5.33</td>\n",
       "      <td>18.7</td>\n",
       "      <td>760200.0</td>\n",
       "    </tr>\n",
       "  </tbody>\n",
       "</table>\n",
       "</div>"
      ],
      "text/plain": [
       "      RM  LSTAT  PTRATIO      MEDV\n",
       "0  6.575   4.98     15.3  504000.0\n",
       "1  6.421   9.14     17.8  453600.0\n",
       "2  7.185   4.03     17.8  728700.0\n",
       "3  6.998   2.94     18.7  701400.0\n",
       "4  7.147   5.33     18.7  760200.0"
      ]
     },
     "execution_count": 5,
     "metadata": {},
     "output_type": "execute_result"
    }
   ],
   "source": [
    "df.head(5)"
   ]
  },
  {
   "cell_type": "code",
   "execution_count": 6,
   "id": "6bd595a2-0a3a-46df-a240-3c2baaec636d",
   "metadata": {},
   "outputs": [
    {
     "data": {
      "text/plain": [
       "(489, 4)"
      ]
     },
     "execution_count": 6,
     "metadata": {},
     "output_type": "execute_result"
    }
   ],
   "source": [
    "df.shape"
   ]
  },
  {
   "cell_type": "markdown",
   "id": "aa7d046d-2c2a-4231-958d-fbc229a6d41e",
   "metadata": {},
   "source": [
    "There are 489 rows and 4 columns in this dataset "
   ]
  },
  {
   "cell_type": "markdown",
   "id": "c64ab08f-76cd-4cd3-a0c0-54d83f8e734a",
   "metadata": {},
   "source": [
    "## Some documentation about this data"
   ]
  },
  {
   "cell_type": "markdown",
   "id": "6ff75fbc-21a5-4a27-af93-4cf1551062df",
   "metadata": {},
   "source": [
    "Dataset taken from Boston census data. Contains socio-economic data as well as value of houses in each area"
   ]
  },
  {
   "cell_type": "markdown",
   "id": "6ac433a1-9557-4cc3-8637-cffba13af7c1",
   "metadata": {},
   "source": [
    "- **RM** - average number of rooms per house\n",
    "- **LSTAT** - % lower status of the population\n",
    "- **PTRATIO** - pupil-teacher ratio by town\n",
    "- **MEDV** - Median value of owner-occupied homes"
   ]
  },
  {
   "cell_type": "markdown",
   "id": "cf6054f9-48f0-432e-bbb9-d1c2e37356d2",
   "metadata": {},
   "source": [
    "# Our goal\n",
    "\n",
    "We wan to predict the house price given the socio-economic condition of the area.\n",
    "\n",
    "# Why\n",
    "\n",
    "## For Real Estate Agents and Companies\n",
    "\n",
    "1. **Pricing Strategy**: Agents can set competitive prices for homes, informed by predictive data rather than solely relying on intuition or outdated benchmarks.\n",
    "2. **Investment Scouting**: Identify underpriced neighborhoods or properties for investments.\n",
    "3. **Marketing Focus**: Prioritize marketing efforts in areas where house prices are predicted to rise.\n",
    "\n",
    "## For Homebuyers and Homeowners\n",
    "\n",
    "1. **Negotiation Power**: Knowing the predicted median value can give buyers a stronger negotiating position.\n",
    "2. **Long-term Investment**: Homebuyers can make more informed decisions about the future value of their investment.\n",
    "\n",
    "## For Financial Institutions\n",
    "\n",
    "1. **Risk Assessment**: Banks can better assess the risk associated with mortgage lending in different neighborhoods.\n",
    "2. **Asset Valuation**: For institutions holding real estate assets, a predictive model can help in the accurate valuation of their portfolio."
   ]
  },
  {
   "cell_type": "markdown",
   "id": "f7ec63c5-246d-457c-9c41-1dda8fc4d88c",
   "metadata": {},
   "source": [
    "![Example Image](../media/7ynd4l.jpg)"
   ]
  },
  {
   "cell_type": "code",
   "execution_count": 7,
   "id": "ba137d3b-2fd6-4b4a-a599-71fdddad7181",
   "metadata": {},
   "outputs": [],
   "source": [
    "# define features and target\n",
    "X = df[['RM','LSTAT','PTRATIO']]\n",
    "y = df['MEDV']"
   ]
  },
  {
   "cell_type": "code",
   "execution_count": 8,
   "id": "8bc7c01f-fa47-40d6-a0c2-c349c4ee51f0",
   "metadata": {},
   "outputs": [
    {
     "data": {
      "text/html": [
       "<style>#sk-container-id-1 {color: black;background-color: white;}#sk-container-id-1 pre{padding: 0;}#sk-container-id-1 div.sk-toggleable {background-color: white;}#sk-container-id-1 label.sk-toggleable__label {cursor: pointer;display: block;width: 100%;margin-bottom: 0;padding: 0.3em;box-sizing: border-box;text-align: center;}#sk-container-id-1 label.sk-toggleable__label-arrow:before {content: \"▸\";float: left;margin-right: 0.25em;color: #696969;}#sk-container-id-1 label.sk-toggleable__label-arrow:hover:before {color: black;}#sk-container-id-1 div.sk-estimator:hover label.sk-toggleable__label-arrow:before {color: black;}#sk-container-id-1 div.sk-toggleable__content {max-height: 0;max-width: 0;overflow: hidden;text-align: left;background-color: #f0f8ff;}#sk-container-id-1 div.sk-toggleable__content pre {margin: 0.2em;color: black;border-radius: 0.25em;background-color: #f0f8ff;}#sk-container-id-1 input.sk-toggleable__control:checked~div.sk-toggleable__content {max-height: 200px;max-width: 100%;overflow: auto;}#sk-container-id-1 input.sk-toggleable__control:checked~label.sk-toggleable__label-arrow:before {content: \"▾\";}#sk-container-id-1 div.sk-estimator input.sk-toggleable__control:checked~label.sk-toggleable__label {background-color: #d4ebff;}#sk-container-id-1 div.sk-label input.sk-toggleable__control:checked~label.sk-toggleable__label {background-color: #d4ebff;}#sk-container-id-1 input.sk-hidden--visually {border: 0;clip: rect(1px 1px 1px 1px);clip: rect(1px, 1px, 1px, 1px);height: 1px;margin: -1px;overflow: hidden;padding: 0;position: absolute;width: 1px;}#sk-container-id-1 div.sk-estimator {font-family: monospace;background-color: #f0f8ff;border: 1px dotted black;border-radius: 0.25em;box-sizing: border-box;margin-bottom: 0.5em;}#sk-container-id-1 div.sk-estimator:hover {background-color: #d4ebff;}#sk-container-id-1 div.sk-parallel-item::after {content: \"\";width: 100%;border-bottom: 1px solid gray;flex-grow: 1;}#sk-container-id-1 div.sk-label:hover label.sk-toggleable__label {background-color: #d4ebff;}#sk-container-id-1 div.sk-serial::before {content: \"\";position: absolute;border-left: 1px solid gray;box-sizing: border-box;top: 0;bottom: 0;left: 50%;z-index: 0;}#sk-container-id-1 div.sk-serial {display: flex;flex-direction: column;align-items: center;background-color: white;padding-right: 0.2em;padding-left: 0.2em;position: relative;}#sk-container-id-1 div.sk-item {position: relative;z-index: 1;}#sk-container-id-1 div.sk-parallel {display: flex;align-items: stretch;justify-content: center;background-color: white;position: relative;}#sk-container-id-1 div.sk-item::before, #sk-container-id-1 div.sk-parallel-item::before {content: \"\";position: absolute;border-left: 1px solid gray;box-sizing: border-box;top: 0;bottom: 0;left: 50%;z-index: -1;}#sk-container-id-1 div.sk-parallel-item {display: flex;flex-direction: column;z-index: 1;position: relative;background-color: white;}#sk-container-id-1 div.sk-parallel-item:first-child::after {align-self: flex-end;width: 50%;}#sk-container-id-1 div.sk-parallel-item:last-child::after {align-self: flex-start;width: 50%;}#sk-container-id-1 div.sk-parallel-item:only-child::after {width: 0;}#sk-container-id-1 div.sk-dashed-wrapped {border: 1px dashed gray;margin: 0 0.4em 0.5em 0.4em;box-sizing: border-box;padding-bottom: 0.4em;background-color: white;}#sk-container-id-1 div.sk-label label {font-family: monospace;font-weight: bold;display: inline-block;line-height: 1.2em;}#sk-container-id-1 div.sk-label-container {text-align: center;}#sk-container-id-1 div.sk-container {/* jupyter's `normalize.less` sets `[hidden] { display: none; }` but bootstrap.min.css set `[hidden] { display: none !important; }` so we also need the `!important` here to be able to override the default hidden behavior on the sphinx rendered scikit-learn.org. See: https://github.com/scikit-learn/scikit-learn/issues/21755 */display: inline-block !important;position: relative;}#sk-container-id-1 div.sk-text-repr-fallback {display: none;}</style><div id=\"sk-container-id-1\" class=\"sk-top-container\"><div class=\"sk-text-repr-fallback\"><pre>LinearRegression()</pre><b>In a Jupyter environment, please rerun this cell to show the HTML representation or trust the notebook. <br />On GitHub, the HTML representation is unable to render, please try loading this page with nbviewer.org.</b></div><div class=\"sk-container\" hidden><div class=\"sk-item\"><div class=\"sk-estimator sk-toggleable\"><input class=\"sk-toggleable__control sk-hidden--visually\" id=\"sk-estimator-id-1\" type=\"checkbox\" checked><label for=\"sk-estimator-id-1\" class=\"sk-toggleable__label sk-toggleable__label-arrow\">LinearRegression</label><div class=\"sk-toggleable__content\"><pre>LinearRegression()</pre></div></div></div></div></div>"
      ],
      "text/plain": [
       "LinearRegression()"
      ]
     },
     "execution_count": 8,
     "metadata": {},
     "output_type": "execute_result"
    }
   ],
   "source": [
    "# intialize the model\n",
    "model = LinearRegression()\n",
    "\n",
    "# train the model on this data\n",
    "model.fit(X,y)"
   ]
  },
  {
   "cell_type": "markdown",
   "id": "27d238f2-13cd-4c63-af61-1e889c3d37e8",
   "metadata": {},
   "source": [
    "![Example Image](../media/7yndow.jpg)"
   ]
  },
  {
   "cell_type": "markdown",
   "id": "ee72ba51-efc2-47e6-8263-07986a35d971",
   "metadata": {},
   "source": [
    "Yup, the model just trained to use the features **RM**, **LSTAT** and **PTRATIO** to predict the **MEDV**. \n",
    "\n",
    "Let's look at the model predictions"
   ]
  },
  {
   "cell_type": "code",
   "execution_count": 14,
   "id": "ea790e01-960a-4d1c-971b-2559cacec878",
   "metadata": {},
   "outputs": [],
   "source": [
    "preds = model.predict(X)"
   ]
  },
  {
   "cell_type": "code",
   "execution_count": 15,
   "id": "58222357-1d9e-4996-87cc-481aa22edb01",
   "metadata": {},
   "outputs": [
    {
     "data": {
      "text/plain": [
       "array([632371.7, 525177.1, 646753.1])"
      ]
     },
     "execution_count": 15,
     "metadata": {},
     "output_type": "execute_result"
    },
    {
     "data": {
      "text/plain": [
       "(489,)"
      ]
     },
     "execution_count": 15,
     "metadata": {},
     "output_type": "execute_result"
    }
   ],
   "source": [
    "preds[:3].round(1) # showing first 3 predictions\n",
    "\n",
    "# how many predictions do we have?\n",
    "preds.shape"
   ]
  },
  {
   "cell_type": "markdown",
   "id": "823493e2-304c-49e6-8c09-2d76467bfe93",
   "metadata": {},
   "source": [
    "Why did the model produce 489 predictions?"
   ]
  },
  {
   "cell_type": "markdown",
   "id": "61060f0c-26a6-4edc-a513-b23e210c6c47",
   "metadata": {},
   "source": [
    "-----"
   ]
  },
  {
   "cell_type": "markdown",
   "id": "fbb7ae07-c431-4251-b2fc-5047ce43a6d4",
   "metadata": {},
   "source": [
    "Let's say we have a new neighborhood for which we want to have an estimate of the median house price."
   ]
  },
  {
   "cell_type": "code",
   "execution_count": 17,
   "id": "dbf920b4",
   "metadata": {},
   "outputs": [
    {
     "data": {
      "text/html": [
       "<div>\n",
       "<style scoped>\n",
       "    .dataframe tbody tr th:only-of-type {\n",
       "        vertical-align: middle;\n",
       "    }\n",
       "\n",
       "    .dataframe tbody tr th {\n",
       "        vertical-align: top;\n",
       "    }\n",
       "\n",
       "    .dataframe thead th {\n",
       "        text-align: right;\n",
       "    }\n",
       "</style>\n",
       "<table border=\"1\" class=\"dataframe\">\n",
       "  <thead>\n",
       "    <tr style=\"text-align: right;\">\n",
       "      <th></th>\n",
       "      <th>RM</th>\n",
       "      <th>LSTAT</th>\n",
       "      <th>PTRATIO</th>\n",
       "    </tr>\n",
       "  </thead>\n",
       "  <tbody>\n",
       "    <tr>\n",
       "      <th>new neighborhood</th>\n",
       "      <td>6.42</td>\n",
       "      <td>8.04</td>\n",
       "      <td>16.1</td>\n",
       "    </tr>\n",
       "  </tbody>\n",
       "</table>\n",
       "</div>"
      ],
      "text/plain": [
       "                    RM  LSTAT  PTRATIO\n",
       "new neighborhood  6.42   8.04     16.1"
      ]
     },
     "execution_count": 17,
     "metadata": {},
     "output_type": "execute_result"
    }
   ],
   "source": [
    "new_neighborhood = pd.DataFrame(data=[[6.42, 8.04, 16.1]],\n",
    "                                columns=['RM','LSTAT','PTRATIO'], index=['new neighborhood'])\n",
    "new_neighborhood                       "
   ]
  },
  {
   "cell_type": "markdown",
   "id": "d40e3fd9-d41a-4d0a-827a-9f302c2d5abc",
   "metadata": {},
   "source": [
    "How much would housing cost here?"
   ]
  },
  {
   "cell_type": "code",
   "execution_count": 18,
   "id": "1de284b7-c4d9-4ffd-9d40-66fd2357e246",
   "metadata": {},
   "outputs": [],
   "source": [
    "prediction = model.predict(new_neighborhood)"
   ]
  },
  {
   "cell_type": "code",
   "execution_count": 19,
   "id": "f91e91e9-b0ca-48d7-a67a-82cfa20e7a2e",
   "metadata": {},
   "outputs": [
    {
     "data": {
      "text/plain": [
       "array([570161.45407884])"
      ]
     },
     "execution_count": 19,
     "metadata": {},
     "output_type": "execute_result"
    }
   ],
   "source": [
    "prediction"
   ]
  },
  {
   "cell_type": "markdown",
   "id": "aa654d62-16bb-4c6a-9fe0-2c764ead62cf",
   "metadata": {},
   "source": [
    "The model predicts a median house will cost 570k$ in this neighborhood!"
   ]
  },
  {
   "cell_type": "markdown",
   "id": "35379ff7-af5f-438d-9002-0612fdb94ba0",
   "metadata": {},
   "source": [
    "----"
   ]
  },
  {
   "cell_type": "markdown",
   "id": "b943306e-520c-4e06-a8c3-d5878c329953",
   "metadata": {},
   "source": [
    "You can now head over to Exercise 1 - Linear Regression"
   ]
  },
  {
   "cell_type": "markdown",
   "id": "77fef54f-cdaf-4597-8897-6d49f36610a9",
   "metadata": {},
   "source": [
    "![Example Image](../media/force.jpg)"
   ]
  },
  {
   "cell_type": "markdown",
   "id": "8e0e777c-7761-4879-80ca-389ac7f7fa35",
   "metadata": {},
   "source": [
    "# Can we trust out model's predictions?"
   ]
  },
  {
   "cell_type": "markdown",
   "id": "2b90713f-e482-451a-9570-97fc94fd08b3",
   "metadata": {},
   "source": [
    "Let's take a look at the first 5 rows of the dataset as well as their respective predictions"
   ]
  },
  {
   "cell_type": "code",
   "execution_count": 50,
   "id": "e8589d34-55a2-4a37-9d4f-e5029b666256",
   "metadata": {},
   "outputs": [
    {
     "data": {
      "text/plain": [
       "array([504000., 453600., 728700., 701400., 760200.])"
      ]
     },
     "execution_count": 50,
     "metadata": {},
     "output_type": "execute_result"
    }
   ],
   "source": [
    "y.to_numpy()[:5]"
   ]
  },
  {
   "cell_type": "code",
   "execution_count": 52,
   "id": "b2df7de5-5629-4cd4-8ba6-cde678b55f64",
   "metadata": {},
   "outputs": [
    {
     "data": {
      "text/plain": [
       "array([632372., 525177., 646753., 624848., 611817.])"
      ]
     },
     "execution_count": 52,
     "metadata": {},
     "output_type": "execute_result"
    }
   ],
   "source": [
    "preds[:5].round(0)"
   ]
  },
  {
   "cell_type": "markdown",
   "id": "a9047034-8444-4130-b979-cca7730abe17",
   "metadata": {},
   "source": [
    "It is noticeable that our model is off, but how far off?\n",
    "\n",
    "Let's look at the errors of the model by comparing its predictions to the actual prices"
   ]
  },
  {
   "cell_type": "code",
   "execution_count": 53,
   "id": "2d64a93f-1fe2-42d1-8cd2-df675173d267",
   "metadata": {},
   "outputs": [
    {
     "data": {
      "text/plain": [
       "0     -128371.739762\n",
       "1      -71577.148313\n",
       "2       81946.881920\n",
       "3       76551.704130\n",
       "4      148383.407464\n",
       "           ...      \n",
       "484     -1541.448492\n",
       "485     -4797.202628\n",
       "486    -46918.775678\n",
       "487    -61950.456779\n",
       "488   -192725.539836\n",
       "Name: MEDV, Length: 489, dtype: float64"
      ]
     },
     "execution_count": 53,
     "metadata": {},
     "output_type": "execute_result"
    }
   ],
   "source": [
    "y - preds"
   ]
  },
  {
   "cell_type": "markdown",
   "id": "422db977-219c-4c6d-86ef-19f7bfbbb643",
   "metadata": {},
   "source": [
    "Pretty cool! Sometimes the model mistakes the price by 100k€, other times it is only slightly off"
   ]
  },
  {
   "cell_type": "markdown",
   "id": "7b4ae5ed-625e-40f4-bb55-00f70eae17f9",
   "metadata": {},
   "source": [
    "What error can we expect from this model, on average?"
   ]
  },
  {
   "cell_type": "code",
   "execution_count": 57,
   "id": "0478c40d-15f2-426c-a745-329f03fe7809",
   "metadata": {},
   "outputs": [
    {
     "data": {
      "text/plain": [
       "8.379998626396944e-11"
      ]
     },
     "execution_count": 57,
     "metadata": {},
     "output_type": "execute_result"
    }
   ],
   "source": [
    "np.mean(y - preds)"
   ]
  },
  {
   "cell_type": "markdown",
   "id": "144c05a2-306f-48a8-842d-197998a29ab5",
   "metadata": {},
   "source": [
    "Zero doesnt' sound right. Can anyone guess why this is happening?"
   ]
  },
  {
   "cell_type": "markdown",
   "id": "499da99b-cfca-45ef-aa9c-b1d3484b741f",
   "metadata": {},
   "source": [
    "----"
   ]
  },
  {
   "cell_type": "markdown",
   "id": "46ba715c-0355-413f-a185-0c1427bb00fe",
   "metadata": {},
   "source": [
    "Besides the mean, how are my errors distributed?"
   ]
  },
  {
   "cell_type": "code",
   "execution_count": 28,
   "id": "68685085-538d-453b-8792-3d99f2421397",
   "metadata": {},
   "outputs": [
    {
     "data": {
      "text/plain": [
       "count       489.000000\n",
       "mean      65458.439640\n",
       "std       58529.854176\n",
       "min          54.954736\n",
       "25%       23275.299088\n",
       "50%       50337.575514\n",
       "75%       92006.405259\n",
       "max      326444.255481\n",
       "Name: MEDV, dtype: float64"
      ]
     },
     "execution_count": 28,
     "metadata": {},
     "output_type": "execute_result"
    }
   ],
   "source": [
    "errors = np.abs(y - preds)\n",
    "errors.describe()"
   ]
  },
  {
   "cell_type": "markdown",
   "id": "fd8e2ac0-df46-44f7-bd10-4c62385f78a0",
   "metadata": {},
   "source": [
    "We can also visualize a distribution using box plots!"
   ]
  },
  {
   "cell_type": "code",
   "execution_count": 31,
   "id": "7b94448a-e361-41c6-83de-6a520ff127cd",
   "metadata": {},
   "outputs": [
    {
     "data": {
      "text/plain": [
       "<Axes: title={'center': 'distribution of the (absolute) errors'}>"
      ]
     },
     "execution_count": 31,
     "metadata": {},
     "output_type": "execute_result"
    },
    {
     "data": {
      "image/png": "[encoded data removed]",
      "text/plain": [
       "<Figure size 640x480 with 1 Axes>"
      ]
     },
     "metadata": {},
     "output_type": "display_data"
    }
   ],
   "source": [
    "errors.plot.box(title='distribution of the (absolute) errors')"
   ]
  },
  {
   "cell_type": "markdown",
   "id": "f07b16d8-d365-4674-88af-84e1273b2070",
   "metadata": {},
   "source": [
    "# Can we interpret a Linear Regression Model?\n",
    "\n",
    "$$ y = \\beta_0 x_0 + \\beta_1 x_1 + \\beta_2 x_2 + b$$"
   ]
  },
  {
   "cell_type": "code",
   "execution_count": 11,
   "id": "636eed12-5587-4397-9ef3-1cde26492886",
   "metadata": {},
   "outputs": [
    {
     "data": {
      "text/plain": [
       "array([ 86565.23613299, -10849.34038381, -19492.11563515])"
      ]
     },
     "execution_count": 11,
     "metadata": {},
     "output_type": "execute_result"
    },
    {
     "data": {
      "text/plain": [
       "415464.39651672955"
      ]
     },
     "execution_count": 11,
     "metadata": {},
     "output_type": "execute_result"
    }
   ],
   "source": [
    "model.coef_\n",
    "model.intercept_"
   ]
  },
  {
   "cell_type": "markdown",
   "id": "87c1a72c-443c-40f0-98ec-53bcf81b04e2",
   "metadata": {},
   "source": [
    "Each coefficient corresponds to the trained $\\beta$ parameters in the same order you passed to the model, so:\n",
    "\n",
    "- $\\beta_0$ corresponds to the 'RM' \n",
    "- $\\beta_1$ corresponds to the 'LSTAT' \n",
    "- $\\beta_2$ corresponds to the 'PTRATIO'\n",
    "\n",
    "and finally, $b$ is the intercept parameter that adds a lot of flexibility to the model."
   ]
  },
  {
   "cell_type": "code",
   "execution_count": 14,
   "id": "546f9ebf-46f0-4607-a46b-20a88e60c8b4",
   "metadata": {},
   "outputs": [
    {
     "data": {
      "text/plain": [
       "Index(['RM', 'LSTAT', 'PTRATIO'], dtype='object')"
      ]
     },
     "execution_count": 14,
     "metadata": {},
     "output_type": "execute_result"
    }
   ],
   "source": [
    "# We can confirm the Betas by listing the columns of X\n",
    "X.columns"
   ]
  },
  {
   "cell_type": "markdown",
   "id": "bfddadee-2b2a-4ba5-a613-866182e76f03",
   "metadata": {},
   "source": [
    "In a Linear Regression, $y$ is linear on the parameters $\\beta$. This means that each $\\beta_i$ represents the change in $y$ for a unit change in $x_i$.\n",
    "\n",
    "And while the model isn't perfect by any means, we can make sense of how it is making its decisions:\n",
    "1. $\\beta_0$ is very high, which means that as we consider houses with more rooms, we expect the price to go up (**makes sense!**)\n",
    "2. $\\beta_1$ is negative, which means that a neighborhood where the % of low socio-economic status  population increases, then the house prices decrease (**makes sense!**)\n",
    "3. $\\beta_2$ is negative, which means that if for example, the pupil-teacher ration goes from 10 to 100, it means the quality of education won't be as good, making the price go down (**makes sense!**)"
   ]
  },
  {
   "cell_type": "code",
   "execution_count": null,
   "id": "90c6c673-2723-407f-9adc-9fa50ba340f2",
   "metadata": {},
   "outputs": [],
   "source": []
  }
 ],
 "metadata": {
  "kernelspec": {
   "display_name": "Python 3 (ipykernel)",
   "language": "python",
   "name": "python3"
  },
  "language_info": {
   "codemirror_mode": {
    "name": "ipython",
    "version": 3
   },
   "file_extension": ".py",
   "mimetype": "text/x-python",
   "name": "python",
   "nbconvert_exporter": "python",
   "pygments_lexer": "ipython3",
   "version": "3.10.9"
  }
 },
 "nbformat": 4,
 "nbformat_minor": 5
}
