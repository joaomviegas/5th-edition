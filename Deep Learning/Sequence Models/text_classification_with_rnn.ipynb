{
 "cells": [
  {
   "cell_type": "code",
   "execution_count": 1,
   "metadata": {},
   "outputs": [],
   "source": [
    "from tqdm import tqdm\n",
    "import torch\n",
    "import torch.nn as nn"
   ]
  },
  {
   "cell_type": "markdown",
   "metadata": {},
   "source": [
    "# **Dataset**\n",
    "\n",
    "We will use the HuggingFace library to download the dataset named \"imdb\". \n",
    "\n",
    "The dataset contains the movie reviews and the respective label informing about its sentiment: positive or negaive.\n"
   ]
  },
  {
   "cell_type": "code",
   "execution_count": 2,
   "metadata": {},
   "outputs": [
    {
     "name": "stderr",
     "output_type": "stream",
     "text": [
      "Found cached dataset imdb (/Users/miguelwon/.cache/huggingface/datasets/imdb/plain_text/1.0.0/d613c88cf8fa3bab83b4ded3713f1f74830d1100e171db75bbddb80b3345c9c0)\n"
     ]
    },
    {
     "data": {
      "application/vnd.jupyter.widget-view+json": {
       "model_id": "cea4edf1e12945c5b2f59bea52e8c207",
       "version_major": 2,
       "version_minor": 0
      },
      "text/plain": [
       "  0%|          | 0/3 [00:00<?, ?it/s]"
      ]
     },
     "metadata": {},
     "output_type": "display_data"
    }
   ],
   "source": [
    "from datasets import load_dataset\n",
    "dados_imdb = load_dataset('imdb')"
   ]
  },
  {
   "cell_type": "code",
   "execution_count": 3,
   "metadata": {},
   "outputs": [
    {
     "data": {
      "text/plain": [
       "DatasetDict({\n",
       "    train: Dataset({\n",
       "        features: ['text', 'label'],\n",
       "        num_rows: 25000\n",
       "    })\n",
       "    test: Dataset({\n",
       "        features: ['text', 'label'],\n",
       "        num_rows: 25000\n",
       "    })\n",
       "    unsupervised: Dataset({\n",
       "        features: ['text', 'label'],\n",
       "        num_rows: 50000\n",
       "    })\n",
       "})"
      ]
     },
     "execution_count": 3,
     "metadata": {},
     "output_type": "execute_result"
    }
   ],
   "source": [
    "#Let's see the dataset structure\n",
    "dados_imdb"
   ]
  },
  {
   "cell_type": "markdown",
   "metadata": {},
   "source": [
    "Exercise 2: Ok, now print the first three examples of the train dataset"
   ]
  },
  {
   "cell_type": "code",
   "execution_count": 4,
   "metadata": {},
   "outputs": [
    {
     "name": "stdout",
     "output_type": "stream",
     "text": [
      "{'text': 'I rented I AM CURIOUS-YELLOW from my video store because of all the controversy that surrounded it when it was first released in 1967. I also heard that at first it was seized by U.S. customs if it ever tried to enter this country, therefore being a fan of films considered \"controversial\" I really had to see this for myself.<br /><br />The plot is centered around a young Swedish drama student named Lena who wants to learn everything she can about life. In particular she wants to focus her attentions to making some sort of documentary on what the average Swede thought about certain political issues such as the Vietnam War and race issues in the United States. In between asking politicians and ordinary denizens of Stockholm about their opinions on politics, she has sex with her drama teacher, classmates, and married men.<br /><br />What kills me about I AM CURIOUS-YELLOW is that 40 years ago, this was considered pornographic. Really, the sex and nudity scenes are few and far between, even then it\\'s not shot like some cheaply made porno. While my countrymen mind find it shocking, in reality sex and nudity are a major staple in Swedish cinema. Even Ingmar Bergman, arguably their answer to good old boy John Ford, had sex scenes in his films.<br /><br />I do commend the filmmakers for the fact that any sex shown in the film is shown for artistic purposes rather than just to shock people and make money to be shown in pornographic theaters in America. I AM CURIOUS-YELLOW is a good film for anyone wanting to study the meat and potatoes (no pun intended) of Swedish cinema. But really, this film doesn\\'t have much of a plot.', 'label': 0}\n",
      "{'text': '\"I Am Curious: Yellow\" is a risible and pretentious steaming pile. It doesn\\'t matter what one\\'s political views are because this film can hardly be taken seriously on any level. As for the claim that frontal male nudity is an automatic NC-17, that isn\\'t true. I\\'ve seen R-rated films with male nudity. Granted, they only offer some fleeting views, but where are the R-rated films with gaping vulvas and flapping labia? Nowhere, because they don\\'t exist. The same goes for those crappy cable shows: schlongs swinging in the breeze but not a clitoris in sight. And those pretentious indie movies like The Brown Bunny, in which we\\'re treated to the site of Vincent Gallo\\'s throbbing johnson, but not a trace of pink visible on Chloe Sevigny. Before crying (or implying) \"double-standard\" in matters of nudity, the mentally obtuse should take into account one unavoidably obvious anatomical difference between men and women: there are no genitals on display when actresses appears nude, and the same cannot be said for a man. In fact, you generally won\\'t see female genitals in an American film in anything short of porn or explicit erotica. This alleged double-standard is less a double standard than an admittedly depressing ability to come to terms culturally with the insides of women\\'s bodies.', 'label': 0}\n",
      "{'text': \"If only to avoid making this type of film in the future. This film is interesting as an experiment but tells no cogent story.<br /><br />One might feel virtuous for sitting thru it because it touches on so many IMPORTANT issues but it does so without any discernable motive. The viewer comes away with no new perspectives (unless one comes up with one while one's mind wanders, as it will invariably do during this pointless film).<br /><br />One might better spend one's time staring out a window at a tree growing.<br /><br />\", 'label': 0}\n"
     ]
    }
   ],
   "source": [
    "for i in range(3):\n",
    "    print(dados_imdb['train'][i])"
   ]
  },
  {
   "cell_type": "markdown",
   "metadata": {},
   "source": [
    "# Tokenization \n",
    "\n",
    "A very important step when wokring with sequence models, is the tokenization. This step is responsible for split the text into tokens, where each token is the sequence unit that will be used by the model. It can be a word, a character, a subword, etc, depending on the tokenization method.\n",
    "\n",
    "In this case, we will use a traditional tokenization method: word tokenization. For this method we want to spli the text into words. We will use word_tokenizer from the nltk library.\n"
   ]
  },
  {
   "cell_type": "code",
   "execution_count": 5,
   "metadata": {},
   "outputs": [
    {
     "name": "stdout",
     "output_type": "stream",
     "text": [
      "['i', 'rented', 'i', 'am', 'from', 'my', 'video', 'store', 'because', 'of', 'all', 'the', 'controversy', 'that', 'surrounded', 'it', 'when', 'it', 'was', 'first', 'released', 'in', '1967', 'i', 'also', 'heard', 'that', 'at', 'first', 'it', 'was', 'seized', 'by', 'customs', 'if', 'it', 'ever', 'tried', 'to', 'enter', 'this', 'country', 'therefore', 'being', 'a', 'fan', 'of', 'films', 'considered', 'controversial', 'i', 'really', 'had', 'to', 'see', 'this', 'for', 'br', 'br', 'the', 'plot', 'is', 'centered', 'around', 'a', 'young', 'swedish', 'drama', 'student', 'named', 'lena', 'who', 'wants', 'to', 'learn', 'everything', 'she', 'can', 'about', 'life', 'in', 'particular', 'she', 'wants', 'to', 'focus', 'her', 'attentions', 'to', 'making', 'some', 'sort', 'of', 'documentary', 'on', 'what', 'the', 'average', 'swede', 'thought', 'about', 'certain', 'political', 'issues', 'such', 'as', 'the', 'vietnam', 'war', 'and', 'race', 'issues', 'in', 'the', 'united', 'states', 'in', 'between', 'asking', 'politicians', 'and', 'ordinary', 'denizens', 'of', 'stockholm', 'about', 'their', 'opinions', 'on', 'politics', 'she', 'has', 'sex', 'with', 'her', 'drama', 'teacher', 'classmates', 'and', 'married', 'br', 'br', 'what', 'kills', 'me', 'about', 'i', 'am', 'is', 'that', '40', 'years', 'ago', 'this', 'was', 'considered', 'pornographic', 'really', 'the', 'sex', 'and', 'nudity', 'scenes', 'are', 'few', 'and', 'far', 'between', 'even', 'then', 'it', 'not', 'shot', 'like', 'some', 'cheaply', 'made', 'porno', 'while', 'my', 'countrymen', 'mind', 'find', 'it', 'shocking', 'in', 'reality', 'sex', 'and', 'nudity', 'are', 'a', 'major', 'staple', 'in', 'swedish', 'cinema', 'even', 'ingmar', 'bergman', 'arguably', 'their', 'answer', 'to', 'good', 'old', 'boy', 'john', 'ford', 'had', 'sex', 'scenes', 'in', 'his', 'br', 'br', 'i', 'do', 'commend', 'the', 'filmmakers', 'for', 'the', 'fact', 'that', 'any', 'sex', 'shown', 'in', 'the', 'film', 'is', 'shown', 'for', 'artistic', 'purposes', 'rather', 'than', 'just', 'to', 'shock', 'people', 'and', 'make', 'money', 'to', 'be', 'shown', 'in', 'pornographic', 'theaters', 'in', 'america', 'i', 'am', 'is', 'a', 'good', 'film', 'for', 'anyone', 'wanting', 'to', 'study', 'the', 'meat', 'and', 'potatoes', 'no', 'pun', 'intended', 'of', 'swedish', 'cinema', 'but', 'really', 'this', 'film', 'does', 'have', 'much', 'of', 'a', 'plot']\n"
     ]
    }
   ],
   "source": [
    "from nltk.tokenize import word_tokenize\n",
    "from string import punctuation\n",
    "def contains_punctuation(text):\n",
    "    return any(c in punctuation for c in text)\n",
    "        \n",
    "def tokenize(text):\n",
    "    return [tk.lower() for tk in word_tokenize(text) if not contains_punctuation(tk)]\n",
    "\n",
    "test = dados_imdb['train'][0]['text']\n",
    "tokens = tokenize(test)\n",
    "print(tokens)"
   ]
  },
  {
   "cell_type": "markdown",
   "metadata": {},
   "source": [
    "# Vocabulary\n",
    "\n",
    "After tokenization, we will create a vocabulary, which is a dictionary that maps each token to an index. \n",
    "The vocabulary is necessary because the model will train with a closed set of tokens. So, we need to create a vocabulary with all the tokens that we want to use in the model. \n",
    "\n",
    "Furthermore, when building this vocabulary we will also map tokens to numbers. This is important because the model will work with numbers, not with words. So, we need to map each token to a number.\n",
    "\n",
    "We will build the vocabulary using the train dataset only. For that we will first count the frequency of each token in the train dataset. "
   ]
  },
  {
   "cell_type": "code",
   "execution_count": 7,
   "metadata": {},
   "outputs": [
    {
     "name": "stdout",
     "output_type": "stream",
     "text": [
      "Lenght of vocabulary: 73119\n"
     ]
    }
   ],
   "source": [
    "from collections import defaultdict, Counter\n",
    "\n",
    "vocab_count = defaultdict(int)\n",
    "for review in dados_imdb['train']:\n",
    "    for tk in tokenize(review['text']):\n",
    "        vocab_count[tk] += 1\n",
    "print(\"Lenght of vocabulary:\", len(vocab_count))"
   ]
  },
  {
   "cell_type": "markdown",
   "metadata": {},
   "source": [
    "73k is a big vocabulary. Let's apply a filter to remove the less frequent tokens. \n",
    "\n",
    "We can do this because the less frequent tokens are usually typos or names that are not relevant to the model.\n",
    "\n",
    "Let's filter the vocabulary to remove the tokens present less than 5 times in the train dataset."
   ]
  },
  {
   "cell_type": "code",
   "execution_count": 8,
   "metadata": {},
   "outputs": [
    {
     "name": "stdout",
     "output_type": "stream",
     "text": [
      "Lenght of filtered vocabulary: 19581\n"
     ]
    }
   ],
   "source": [
    "min_freq = 10\n",
    "filtered_vocab = [t for t, c in vocab_count.items() if c >= min_freq]\n",
    "print(\"Lenght of filtered vocabulary:\", len(filtered_vocab))"
   ]
  },
  {
   "cell_type": "markdown",
   "metadata": {},
   "source": [
    "So this is a more reasonable vocabulary size.\n",
    "\n",
    "Now we can build the vocabulary dictionary that maps each word to a unique integer (it equivalent to its ID)\n",
    "\n",
    "Note that will start at 1, not 0. This is because we will use 0 for padding."
   ]
  },
  {
   "cell_type": "code",
   "execution_count": 9,
   "metadata": {},
   "outputs": [],
   "source": [
    "filtered_vocab = ['<pad>','<sos>','<eos>'] + filtered_vocab"
   ]
  },
  {
   "cell_type": "code",
   "execution_count": 10,
   "metadata": {},
   "outputs": [
    {
     "data": {
      "text/plain": [
       "['<pad>',\n",
       " '<sos>',\n",
       " '<eos>',\n",
       " 'i',\n",
       " 'rented',\n",
       " 'am',\n",
       " 'from',\n",
       " 'my',\n",
       " 'video',\n",
       " 'store']"
      ]
     },
     "execution_count": 10,
     "metadata": {},
     "output_type": "execute_result"
    }
   ],
   "source": [
    "filtered_vocab[:10]"
   ]
  },
  {
   "cell_type": "code",
   "execution_count": 11,
   "metadata": {},
   "outputs": [],
   "source": [
    "tok2id = {}\n",
    "id2tok = {}\n",
    "for i,palavra in enumerate(filtered_vocab):\n",
    "    tok2id[palavra] = i\n",
    "    id2tok[i] = palavra"
   ]
  },
  {
   "cell_type": "markdown",
   "metadata": {},
   "source": [
    "Now that we have the vocabulary dictionary, we can use it to convert the tweets to sequences of integers.\n",
    "\n",
    "Also, we can create a list with the encoded labels "
   ]
  },
  {
   "cell_type": "code",
   "execution_count": 12,
   "metadata": {},
   "outputs": [
    {
     "name": "stderr",
     "output_type": "stream",
     "text": [
      "100%|██████████| 25000/25000 [00:19<00:00, 1305.69it/s]\n"
     ]
    }
   ],
   "source": [
    "train_token_ids = []\n",
    "train_labels = []\n",
    "for review in tqdm(dados_imdb['train']):\n",
    "    texto = review['text']\n",
    "    tokens = tokenize(texto)\n",
    "    tokens_ids = [tok2id[tk] for tk in tokens if tk in tok2id]\n",
    "    train_token_ids.append(tokens_ids)\n",
    "    train_labels.append(review['label'])"
   ]
  },
  {
   "cell_type": "code",
   "execution_count": 13,
   "metadata": {},
   "outputs": [
    {
     "name": "stdout",
     "output_type": "stream",
     "text": [
      "['i', 'rented', 'i', 'am', 'from', 'my', 'video', 'store', 'because', 'of', 'all', 'the', 'controversy', 'that', 'surrounded', 'it', 'when', 'it', 'was', 'first', 'released', 'in', '1967', 'i', 'also', 'heard', 'that', 'at', 'first', 'it', 'was', 'seized', 'by', 'customs', 'if', 'it', 'ever', 'tried', 'to', 'enter', 'this', 'country', 'therefore', 'being', 'a', 'fan', 'of', 'films', 'considered', 'controversial', 'i', 'really', 'had', 'to', 'see', 'this', 'for', 'br', 'br', 'the', 'plot', 'is', 'centered', 'around', 'a', 'young', 'swedish', 'drama', 'student', 'named', 'lena', 'who', 'wants', 'to', 'learn', 'everything', 'she', 'can', 'about', 'life', 'in', 'particular', 'she', 'wants', 'to', 'focus', 'her', 'attentions', 'to', 'making', 'some', 'sort', 'of', 'documentary', 'on', 'what', 'the', 'average', 'thought', 'about', 'certain', 'political', 'issues', 'such', 'as', 'the', 'vietnam', 'war', 'and', 'race', 'issues', 'in', 'the', 'united', 'states', 'in', 'between', 'asking', 'politicians', 'and', 'ordinary', 'denizens', 'of', 'about', 'their', 'opinions', 'on', 'politics', 'she', 'has', 'sex', 'with', 'her', 'drama', 'teacher', 'classmates', 'and', 'married', 'br', 'br', 'what', 'kills', 'me', 'about', 'i', 'am', 'is', 'that', '40', 'years', 'ago', 'this', 'was', 'considered', 'pornographic', 'really', 'the', 'sex', 'and', 'nudity', 'scenes', 'are', 'few', 'and', 'far', 'between', 'even', 'then', 'it', 'not', 'shot', 'like', 'some', 'cheaply', 'made', 'porno', 'while', 'my', 'mind', 'find', 'it', 'shocking', 'in', 'reality', 'sex', 'and', 'nudity', 'are', 'a', 'major', 'staple', 'in', 'swedish', 'cinema', 'even', 'ingmar', 'bergman', 'arguably', 'their', 'answer', 'to', 'good', 'old', 'boy', 'john', 'ford', 'had', 'sex', 'scenes', 'in', 'his', 'br', 'br', 'i', 'do', 'commend', 'the', 'filmmakers', 'for', 'the', 'fact', 'that', 'any', 'sex', 'shown', 'in', 'the', 'film', 'is', 'shown', 'for', 'artistic', 'purposes', 'rather', 'than', 'just', 'to', 'shock', 'people', 'and', 'make', 'money', 'to', 'be', 'shown', 'in', 'pornographic', 'theaters', 'in', 'america', 'i', 'am', 'is', 'a', 'good', 'film', 'for', 'anyone', 'wanting', 'to', 'study', 'the', 'meat', 'and', 'potatoes', 'no', 'pun', 'intended', 'of', 'swedish', 'cinema', 'but', 'really', 'this', 'film', 'does', 'have', 'much', 'of', 'a', 'plot']\n"
     ]
    }
   ],
   "source": [
    "print([id2tok[tk_id] for tk_id in train_token_ids[0]])"
   ]
  },
  {
   "cell_type": "markdown",
   "metadata": {},
   "source": [
    "We need to truncate and pad the sequences to the same lenght. \n",
    "First, we check the distribution of the sequence lenghts. Then, we choose a maximum lenght that will be used to truncate and pad the sequences."
   ]
  },
  {
   "cell_type": "code",
   "execution_count": 15,
   "metadata": {},
   "outputs": [
    {
     "data": {
      "image/png": "[encoded data removed]",
      "text/plain": [
       "<Figure size 640x480 with 1 Axes>"
      ]
     },
     "metadata": {},
     "output_type": "display_data"
    }
   ],
   "source": [
    "import matplotlib.pyplot as plt\n",
    "\n",
    "\n",
    "# Define a list of sequence lengths\n",
    "lengths = [len(seq) for seq in train_token_ids]\n",
    "# Create a histogram\n",
    "plt.hist(lengths, bins=100)\n",
    "# Add labels\n",
    "plt.xlabel('Sequence Length')\n",
    "plt.ylabel('Frequency')\n",
    "# Show the plot\n",
    "plt.show()"
   ]
  },
  {
   "cell_type": "markdown",
   "metadata": {},
   "source": [
    "OK, let's pad to a maximum of 500 tokens. Is likely that the sentiment is at the beginning of the sequence."
   ]
  },
  {
   "cell_type": "code",
   "execution_count": 16,
   "metadata": {},
   "outputs": [],
   "source": [
    "# We not apply the padding to the sequences, so that all sequences have the same length.\n",
    "# If the sequence is higher than the max_length, we truncate it. If it is smaller, we pad it with 0.\n",
    "\n",
    "def pad_sequence(seq, max_length = 500):\n",
    "    return seq[:max_length] if len(seq) > max_length else [0] * (max_length - len(seq)) + seq\n",
    "\n",
    "train_token_ids = [pad_sequence(seq) for seq in train_token_ids]"
   ]
  },
  {
   "cell_type": "markdown",
   "metadata": {},
   "source": [
    "# Dataset and Dataloader\n",
    "\n",
    "We now need to create a dataloader that will us to iterate over batches, during the training process. For that we will use the dataset class from the HuuggingFace datasets library that allows to easily create a dataset from a list of examples."
   ]
  },
  {
   "cell_type": "code",
   "execution_count": 17,
   "metadata": {},
   "outputs": [],
   "source": [
    "from torch.utils.data import DataLoader\n",
    "from datasets import Dataset"
   ]
  },
  {
   "cell_type": "code",
   "execution_count": 19,
   "metadata": {},
   "outputs": [],
   "source": [
    "from torch.utils.data import DataLoader\n",
    "from datasets import Dataset\n",
    "\n",
    "list_data = [{'review':train_token_ids[i],'label':train_labels[i]} for i in range(len(train_token_ids))]\n",
    "train_dataset = Dataset.from_list(list_data)\n",
    "train_dataset = train_dataset.with_format(\"torch\")\n",
    "\n",
    "batch_size = 32 # number of sequences in each batch\n",
    "train_dataloader = DataLoader(train_dataset, shuffle=True, batch_size=batch_size) # train_dataloader is an iterator that returns a batch each time it is called"
   ]
  },
  {
   "cell_type": "markdown",
   "metadata": {},
   "source": [
    "# Repeat the same process for the test dataset\n",
    "\n",
    "Ok, so now we are going repeat the same process but for the test dataset but using the vocabulary that we created with the train dataset."
   ]
  },
  {
   "cell_type": "code",
   "execution_count": 20,
   "metadata": {},
   "outputs": [
    {
     "name": "stderr",
     "output_type": "stream",
     "text": [
      "100%|██████████| 25000/25000 [00:18<00:00, 1329.05it/s]\n"
     ]
    }
   ],
   "source": [
    "# tokenize, encode to ids and pad the sequences\n",
    "test_token_ids = []\n",
    "test_labels = []\n",
    "for review in tqdm(dados_imdb['test']):\n",
    "    texto = review['text']\n",
    "    tokens = tokenize(texto)\n",
    "    tokens_ids = [tok2id[tk] for tk in tokens if tk in tok2id]\n",
    "    test_token_ids.append(tokens_ids)\n",
    "    test_labels.append(review['label'])"
   ]
  },
  {
   "cell_type": "code",
   "execution_count": 21,
   "metadata": {},
   "outputs": [],
   "source": [
    "test_token_ids = [pad_sequence(seq) for seq in test_token_ids]"
   ]
  },
  {
   "cell_type": "code",
   "execution_count": 22,
   "metadata": {},
   "outputs": [],
   "source": [
    "# create the test dataset and dataloader\n",
    "list_data = [{'review':test_token_ids[i],'label':test_labels[i]} for i in range(len(test_token_ids))]\n",
    "test_dataset = Dataset.from_list(list_data)\n",
    "test_dataset = test_dataset.with_format(\"torch\")\n",
    "batch_size = 32\n",
    "test_dataloader = DataLoader(test_dataset, batch_size=batch_size) "
   ]
  },
  {
   "cell_type": "markdown",
   "metadata": {},
   "source": [
    "# One-hot vs Embedding\n",
    "\n",
    "When working with sequence models, we need to convert the tokens to numbers. There are two main ways to do this: one-hot encoding or embedding (dense representation).\n",
    "\n",
    "In one-hot representation, each token is represented by a vector with the size of the vocabulary. This vector is filled with zeros, except for the index that corresponds to the token, which is filled with one. For example:\n",
    "\n",
    "* Vocabulary: {I, love, cats}\n",
    "* One-hot representation of \"I\": [1, 0, 0]\n",
    "* One-hot representation of \"love\": [0, 1, 0]\n",
    "* One-hot representation of \"cats\": [0, 0, 1]\n",
    "\n",
    "On problem of this representation is that it is very sparse, since most of the vector is filled with zeros. So, it is not very efficient.\n",
    "Also, this representation does not capture the semantic of the tokens. For example, one-hot representation \n",
    "of semantically similar tokens are orthogonal vectors, which means that they are not similar at all.\n",
    "\n",
    "In embedding representation, each token is represented by a dense vector with a fixed size. This vector is filled with numbers, which are learned during the training process. For example:\n",
    "\n",
    "* Embedding representation of \"I\": [0.1, 0.2, 0.3]\n",
    "* Embedding representation of \"love\": [0.4, 0.5, 0.6]\n",
    "* Embedding representation of \"cats\": [0.7, 0.8, 0.9]\n",
    "\n",
    "This representation is more efficient than one-hot representation, since it is not sparse. This means that we can represent each \n",
    "token by a vector with a smaller size. Also, this representation will allow to build vector that encode the semantic of the tokens, resulting in similar vectors for semantically similar tokens. Furthermore, the use of dense vectors will allow better and smoother training process, because the gradients will be more stable."
   ]
  },
  {
   "cell_type": "markdown",
   "metadata": {},
   "source": [
    "We will use torch embedding layer to deal with the embedding representation.\n",
    "\n",
    "There are two ways to create an embedding layer: with random weights or with pre-trained weights.\n",
    "\n",
    "In case of random weights, the embedding layer will be trained during the training process. In case of pre-trained weights, the embedding layer will be initialized with pre-trained weights and then two options are possible: the weights will be frozen during the training process or we can choose to train the embedding layer as well. \n",
    "\n",
    "\n",
    "Is very simple to create an embedding layer with random weitghts:"
   ]
  },
  {
   "cell_type": "code",
   "execution_count": 23,
   "metadata": {},
   "outputs": [
    {
     "data": {
      "text/plain": [
       "Parameter containing:\n",
       "tensor([[-0.2490, -0.8219,  1.3262, -1.4039, -2.1352,  0.1941,  1.4937],\n",
       "        [ 0.5579, -0.2237,  1.2445,  0.0413, -0.9851, -1.2416,  0.0062],\n",
       "        [ 0.6102, -1.8001,  1.0985, -1.4031,  0.1936,  0.6545,  0.9164],\n",
       "        [-1.1998,  1.8247,  0.0066, -0.2990, -0.7800,  0.5601, -1.4515],\n",
       "        [-0.1557, -0.6846, -0.7219, -0.3413, -1.4996, -0.1387,  1.6648],\n",
       "        [-0.6571, -0.2279,  0.3645, -0.6872, -0.5007, -0.1122,  0.1135],\n",
       "        [-0.9880, -0.6142,  0.1248, -0.1842,  0.6028, -0.5164,  1.1818],\n",
       "        [ 0.1518,  1.1230,  0.0647, -0.6336,  0.8869,  1.1192, -1.0769],\n",
       "        [-0.5130, -1.9409, -1.4984,  0.3284,  0.3447,  0.1116,  1.0883],\n",
       "        [-1.2491, -1.9218, -0.2032,  0.1040,  1.9599,  1.0225,  1.0087]],\n",
       "       requires_grad=True)"
      ]
     },
     "execution_count": 23,
     "metadata": {},
     "output_type": "execute_result"
    }
   ],
   "source": [
    "# Embdding layer of 3 dimension and with a vobulary of size 10\n",
    "embedding_layer = nn.Embedding(10, 7) \n",
    "embedding_layer.weight"
   ]
  },
  {
   "cell_type": "markdown",
   "metadata": {},
   "source": [
    "# RNN layer \n",
    "\n",
    "Pytorch has a RNN layer that can be used to build a RNN model. We will use the following parameters:\n",
    "\n",
    "* input_size: the size of the input vector. In our case, it is the size of the embedding vector.\n",
    "* hidden_size: the size of the hidden vector. This is the size of the output vector of the RNN layer.\n",
    "* batch_first: if True, the input and output tensors will have the shape (batch_size, seq_len, hidden_size). Otherwise, the shape will be (seq_len, batch_size, hidden_size).\n",
    "\n",
    "Let's an example of a RNN layer that receives as input the embedding we just created:"
   ]
  },
  {
   "cell_type": "code",
   "execution_count": 24,
   "metadata": {},
   "outputs": [],
   "source": [
    "rnn_layer = nn.RNN(\n",
    "        7,  # dimension of the input. It is the same as the embedding dimension\n",
    "        5,  # dimension of the hidden state\n",
    "        batch_first=True) # if the input and output tensors are provided as (batch, seq, feature)"
   ]
  },
  {
   "cell_type": "markdown",
   "metadata": {},
   "source": [
    "Now lets suppose we have the sequence of tokens  [4,2,3,9]\n",
    "We first look up the embedding for each token:"
   ]
  },
  {
   "cell_type": "code",
   "execution_count": 25,
   "metadata": {},
   "outputs": [
    {
     "data": {
      "text/plain": [
       "tensor([[-0.1557, -0.6846, -0.7219, -0.3413, -1.4996, -0.1387,  1.6648],\n",
       "        [ 0.6102, -1.8001,  1.0985, -1.4031,  0.1936,  0.6545,  0.9164],\n",
       "        [-1.1998,  1.8247,  0.0066, -0.2990, -0.7800,  0.5601, -1.4515],\n",
       "        [-1.2491, -1.9218, -0.2032,  0.1040,  1.9599,  1.0225,  1.0087]],\n",
       "       grad_fn=<EmbeddingBackward0>)"
      ]
     },
     "execution_count": 25,
     "metadata": {},
     "output_type": "execute_result"
    }
   ],
   "source": [
    "embedding_seq = embedding_layer(torch.IntTensor([4,2,3,9]))\n",
    "embedding_seq"
   ]
  },
  {
   "cell_type": "markdown",
   "metadata": {},
   "source": [
    "And then we can feed the embedding to the RNN layer:"
   ]
  },
  {
   "cell_type": "code",
   "execution_count": 26,
   "metadata": {},
   "outputs": [
    {
     "name": "stdout",
     "output_type": "stream",
     "text": [
      "out:\n",
      "tensor([[-0.3708, -0.1232, -0.2305, -0.6924,  0.8073],\n",
      "        [-0.0552,  0.6245, -0.7801, -0.1343, -0.0075],\n",
      "        [-0.7834, -0.6678,  0.1214, -0.6272,  0.0161],\n",
      "        [ 0.7272,  0.6300, -0.6650,  0.4390, -0.3755]],\n",
      "       grad_fn=<SqueezeBackward1>)\n",
      "\n",
      "hidden:\n",
      "tensor([[ 0.7272,  0.6300, -0.6650,  0.4390, -0.3755]],\n",
      "       grad_fn=<SqueezeBackward1>)\n"
     ]
    }
   ],
   "source": [
    "out, hidden = rnn_layer(embedding_seq)\n",
    "print(\"out:\")\n",
    "print(out)\n",
    "print(\"\")\n",
    "print(\"hidden:\")\n",
    "print(hidden)"
   ]
  },
  {
   "cell_type": "markdown",
   "metadata": {},
   "source": [
    "Note that the hidden vector is the output of the RNN layer for the last token of the sequence.\n",
    "\n",
    "Let's now build the main RNN model. "
   ]
  },
  {
   "cell_type": "code",
   "execution_count": 27,
   "metadata": {},
   "outputs": [],
   "source": [
    "# The main class of the RNN built from the nn.Module class\n",
    "class SentRNN(nn.Module):\n",
    "\n",
    "    def __init__(self, vocab_size, output_size, emb_d,hidden_d,n_layers, drop_prob = 0.5, lstm = False):\n",
    "        \"\"\"\n",
    "        Initialize the RNN Module\n",
    "\n",
    "        Arguments:\n",
    "        vocab_size: size of the vocabulary\n",
    "        output_size: size of the output layer\n",
    "        emb_d: size of the embedding layer\n",
    "        h_d: size of the hidden layer\n",
    "        n_layers: number of layers\n",
    "        drop_prob: dropout probability\n",
    "        \"\"\"\n",
    "    \n",
    "        super().__init__()\n",
    "\n",
    "        self.output_size = output_size\n",
    "        self.n_layers = n_layers\n",
    "        self.hidden_d = hidden_d\n",
    "\n",
    "        # define the embedding layer\n",
    "        self.embedding = nn.Embedding(vocab_size, emb_d)\n",
    "\n",
    "        # define a RNN layer\n",
    "        if lstm:\n",
    "            self.rnn = nn.LSTM(emb_d, hidden_d, n_layers, dropout = drop_prob, batch_first=True) # batch_first=True means that the first dimension of the input and output will be the batch_size\n",
    "        else:\n",
    "            self.rnn = nn.RNN(emb_d, hidden_d, n_layers, dropout = drop_prob, batch_first=True)\n",
    "\n",
    "        # define a dropout layer\n",
    "        self.dropout = nn.Dropout(drop_prob)\n",
    "\n",
    "        # define a fully-connected layer\n",
    "        self.fc = nn.Linear(hidden_d, output_size)\n",
    "\n",
    "        # We use sigmoid activation function because we want to predict a probability between 0 and 1\n",
    "        # In case of more than 2 classes, we would use softmax\n",
    "        self.sigmoid = nn.Sigmoid()         \n",
    "\n",
    "    def forward(self, x):\n",
    "        \"\"\"\n",
    "        Perform a forward pass of our model on some input and hidden state.\n",
    "\n",
    "        Arguments:\n",
    "        x: input to the model\n",
    "        hidden: hidden state\n",
    "\n",
    "        Returns:\n",
    "        output: output of the model\n",
    "        hidden: hidden state\n",
    "        \"\"\"\n",
    "\n",
    "        # define batch size\n",
    "        # batch_size = x.size(0)\n",
    "\n",
    "        # embeddings \n",
    "        embeds = self.embedding(x)\n",
    "        out, _ = self.rnn(embeds)\n",
    "        out = self.dropout(out)\n",
    "        out = self.fc(out[:, -1, :])\n",
    "        out = self.sigmoid(out)\n",
    "        return out\n"
   ]
  },
  {
   "cell_type": "markdown",
   "metadata": {},
   "source": [
    "We now can instantiate the main model "
   ]
  },
  {
   "cell_type": "code",
   "execution_count": 28,
   "metadata": {},
   "outputs": [
    {
     "name": "stderr",
     "output_type": "stream",
     "text": [
      "100%|██████████| 25000/25000 [00:19<00:00, 1298.41it/s]\n"
     ]
    }
   ],
   "source": [
    "review_token_ids = []\n",
    "review_labels = []\n",
    "for review in tqdm(dados_imdb['train']):\n",
    "    texto = review['text']\n",
    "    tokens = tokenize(texto)\n",
    "    tokens_ids = [tok2id[tk] for tk in tokens if tk in tok2id]\n",
    "    review_token_ids.append(tokens_ids)\n",
    "    review_labels.append(review['label'])"
   ]
  },
  {
   "cell_type": "code",
   "execution_count": 31,
   "metadata": {},
   "outputs": [
    {
     "name": "stderr",
     "output_type": "stream",
     "text": [
      "/Users/miguelwon/opt/miniconda3/envs/ml-pt-2/lib/python3.10/site-packages/torch/nn/modules/rnn.py:82: UserWarning: dropout option adds dropout after all but last recurrent layer, so non-zero dropout expects num_layers greater than 1, but got dropout=0.5 and num_layers=1\n",
      "  warnings.warn(\"dropout option adds dropout after all but last \"\n"
     ]
    },
    {
     "data": {
      "text/plain": [
       "SentRNN(\n",
       "  (embedding): Embedding(19584, 50)\n",
       "  (rnn): RNN(50, 32, batch_first=True, dropout=0.5)\n",
       "  (dropout): Dropout(p=0.5, inplace=False)\n",
       "  (fc): Linear(in_features=32, out_features=1, bias=True)\n",
       "  (sigmoid): Sigmoid()\n",
       ")"
      ]
     },
     "execution_count": 31,
     "metadata": {},
     "output_type": "execute_result"
    }
   ],
   "source": [
    "vocab_size = len(tok2id) \n",
    "output_size = 1\n",
    "embedding_dim = 50\n",
    "hidden_dim = 32\n",
    "n_layers = 1\n",
    "device = \"mps\"\n",
    "\n",
    "model = SentRNN(vocab_size, output_size, embedding_dim, hidden_dim, n_layers).to(device)\n",
    "model"
   ]
  },
  {
   "cell_type": "markdown",
   "metadata": {},
   "source": [
    "# Training"
   ]
  },
  {
   "cell_type": "markdown",
   "metadata": {},
   "source": [
    "Ok we are now ready to train the model. We will use the Adam optimizer and the BCELoss loss because we are dealing with a binary classification problem."
   ]
  },
  {
   "cell_type": "code",
   "execution_count": 32,
   "metadata": {},
   "outputs": [
    {
     "name": "stdout",
     "output_type": "stream",
     "text": [
      "Epochs: 1 | Step: 500 | Train Loss:  0.699 | Val Loss:  0.686\n",
      "Epochs: 2 | Step: 1000 | Train Loss:  0.645 | Val Loss:  0.633\n",
      "Epochs: 2 | Step: 1500 | Train Loss:  0.619 | Val Loss:  0.587\n",
      "Epochs: 3 | Step: 2000 | Train Loss:  0.554 | Val Loss:  0.581\n",
      "Epochs: 4 | Step: 2500 | Train Loss:  0.489 | Val Loss:  0.536\n",
      "Epochs: 4 | Step: 3000 | Train Loss:  0.485 | Val Loss:  0.529\n"
     ]
    }
   ],
   "source": [
    "# main training loop\n",
    "n_epochs = 4\n",
    "lr=1e-3\n",
    "clip = 1\n",
    "criterion = nn.BCELoss()\n",
    "optimizer = torch.optim.Adam(model.parameters(), lr=lr)\n",
    "\n",
    "step = 0\n",
    "evaluation_step = 500\n",
    "train_losses = []\n",
    "val_losses = []\n",
    "for epoch in range(n_epochs):\n",
    "    loss_train_total = 0\n",
    "    for i, batch in enumerate(train_dataloader):\n",
    "        step += 1\n",
    "        inputs = batch['review'].to(device)\n",
    "        labels = batch['label'].to(device)\n",
    "\n",
    "        # zero the gradients\n",
    "        optimizer.zero_grad()\n",
    "\n",
    "        # forward pass\n",
    "        output = model(inputs)\n",
    "        # calculate the loss\n",
    "        loss = criterion(output.squeeze(), labels.float())\n",
    "        loss_train_total += loss.item()\n",
    "        # backward pass\n",
    "        loss.backward()\n",
    "\n",
    "        # clip the gradients to prevent exploding gradient problem. This step is very important.\n",
    "        nn.utils.clip_grad_norm_(model.parameters(), clip)\n",
    "\n",
    "        # update the parameters\n",
    "        optimizer.step()\n",
    "\n",
    "        # evaluation step\n",
    "        if step % evaluation_step == 0:\n",
    "            model.eval()\n",
    "            with torch.no_grad():\n",
    "                # evaluate on training data\n",
    "                loss_val = 0\n",
    "                for j,batch in enumerate(test_dataloader):\n",
    "                    inputs = batch['review'].to(device)\n",
    "                    labels = batch['label'].to(device)\n",
    "\n",
    "                    output = model(inputs)\n",
    "                    loss = criterion(output.squeeze(), labels.float())\n",
    "                    loss_val += loss.item()\n",
    "            model.train()\n",
    "            # print the loss at each step \n",
    "            print(f'Epochs: {epoch + 1} | Step: {step} | Train Loss: {loss_train_total/i: .3f} | Val Loss: {loss_val/j: .3f}' )\n",
    "            \n",
    "            train_losses.append(loss_train_total/i)\n",
    "            val_losses.append(loss_val/j)\n",
    "    # print(f'Epochs: {epoch + 1} | Train Loss: {loss_train_total/i: .3f} | Val Loss: {loss_val/j: .3f}' )"
   ]
  },
  {
   "cell_type": "markdown",
   "metadata": {},
   "source": [
    "We can now plot the training and validation loss curves:"
   ]
  },
  {
   "cell_type": "code",
   "execution_count": 33,
   "metadata": {},
   "outputs": [
    {
     "data": {
      "text/plain": [
       "<matplotlib.legend.Legend at 0x2c17fcbe0>"
      ]
     },
     "execution_count": 33,
     "metadata": {},
     "output_type": "execute_result"
    },
    {
     "data": {
      "image/png": "[encoded data removed]",
      "text/plain": [
       "<Figure size 640x480 with 1 Axes>"
      ]
     },
     "metadata": {},
     "output_type": "display_data"
    }
   ],
   "source": [
    "from matplotlib import pyplot as plt\n",
    "# plot the training and validation losses\n",
    "plt.plot(train_losses, label='Training loss')\n",
    "plt.plot(val_losses, label='Validation loss')\n",
    "plt.legend()"
   ]
  },
  {
   "cell_type": "markdown",
   "metadata": {},
   "source": []
  },
  {
   "cell_type": "code",
   "execution_count": 34,
   "metadata": {},
   "outputs": [
    {
     "name": "stdout",
     "output_type": "stream",
     "text": [
      "Accuracy: 0.76408\n"
     ]
    }
   ],
   "source": [
    "model.eval()\n",
    "with torch.no_grad():\n",
    "    correct = 0\n",
    "    total = 0\n",
    "    for batch in test_dataloader:\n",
    "        inputs = batch['review'].to(device)\n",
    "        labels = batch['label'].to(device)\n",
    "        output = model(inputs)\n",
    "        predicted = torch.round(output.squeeze())\n",
    "        total += labels.size(0)\n",
    "        correct += (predicted == labels).sum().item()\n",
    "print(f\"Accuracy: {correct/total}\")"
   ]
  },
  {
   "cell_type": "markdown",
   "metadata": {},
   "source": [
    "Let's repeat the same process but using a LSTM layer instead of a RNN layer."
   ]
  },
  {
   "cell_type": "code",
   "execution_count": 60,
   "metadata": {},
   "outputs": [
    {
     "name": "stderr",
     "output_type": "stream",
     "text": [
      "/Users/miguelwon/opt/miniconda3/envs/ml-pt-2/lib/python3.10/site-packages/torch/nn/modules/rnn.py:82: UserWarning: dropout option adds dropout after all but last recurrent layer, so non-zero dropout expects num_layers greater than 1, but got dropout=0.5 and num_layers=1\n",
      "  warnings.warn(\"dropout option adds dropout after all but last \"\n"
     ]
    }
   ],
   "source": [
    "vocab_size = len(tok2id) + 1 # +1 because we added the padding token\n",
    "output_size = 1\n",
    "embedding_dim = 50\n",
    "hidden_dim = 32\n",
    "n_layers = 1\n",
    "device = \"mps\"\n",
    "\n",
    "model = SentRNN(vocab_size, output_size, embedding_dim, hidden_dim, n_layers, lstm=True)\n",
    "# model.embedding = embedding_layer\n",
    "# model.embedding.weight.requires_grad = False # if you want to freeze the embedding layer\n",
    "model = model.to(device)"
   ]
  },
  {
   "cell_type": "code",
   "execution_count": 61,
   "metadata": {},
   "outputs": [
    {
     "name": "stdout",
     "output_type": "stream",
     "text": [
      "Epochs: 1 | Step: 500 | Train Loss:  0.679 | Val Loss:  0.612\n",
      "Epochs: 2 | Step: 1000 | Train Loss:  0.527 | Val Loss:  0.505\n",
      "Epochs: 2 | Step: 1500 | Train Loss:  0.488 | Val Loss:  0.429\n",
      "Epochs: 3 | Step: 2000 | Train Loss:  0.382 | Val Loss:  0.454\n",
      "Epochs: 4 | Step: 2500 | Train Loss:  0.325 | Val Loss:  0.384\n",
      "Epochs: 4 | Step: 3000 | Train Loss:  0.320 | Val Loss:  0.413\n"
     ]
    }
   ],
   "source": [
    "# main training loop\n",
    "n_epochs = 4\n",
    "lr=1e-3\n",
    "clip = 1\n",
    "criterion = nn.BCELoss()\n",
    "optimizer = torch.optim.Adam(model.parameters(), lr=lr)\n",
    "\n",
    "step = 0\n",
    "evaluation_step = 500\n",
    "train_losses = []\n",
    "val_losses = []\n",
    "for epoch in range(n_epochs):\n",
    "    loss_train_total = 0\n",
    "    for i, batch in enumerate(train_dataloader):\n",
    "        step += 1\n",
    "        inputs = batch['review'].to(device)\n",
    "        labels = batch['label'].to(device)\n",
    "\n",
    "        # zero the gradients\n",
    "        optimizer.zero_grad()\n",
    "\n",
    "        # forward pass\n",
    "        output = model(inputs)\n",
    "        # calculate the loss\n",
    "        loss = criterion(output.squeeze(), labels.float())\n",
    "        loss_train_total += loss.item()\n",
    "        # backward pass\n",
    "        loss.backward()\n",
    "\n",
    "        # clip the gradients to prevent exploding gradient problem. This step is very important.\n",
    "        nn.utils.clip_grad_norm_(model.parameters(), clip)\n",
    "\n",
    "        # update the parameters\n",
    "        optimizer.step()\n",
    "\n",
    "        # evaluation step\n",
    "        if step % evaluation_step == 0:\n",
    "            model.eval()\n",
    "            with torch.no_grad():\n",
    "                # evaluate on training data\n",
    "                loss_val = 0\n",
    "                for j,batch in enumerate(test_dataloader):\n",
    "                    inputs = batch['review'].to(device)\n",
    "                    labels = batch['label'].to(device)\n",
    "\n",
    "                    output = model(inputs)\n",
    "                    loss = criterion(output.squeeze(), labels.float())\n",
    "                    loss_val += loss.item()\n",
    "            model.train()\n",
    "            # print the loss at each step \n",
    "            print(f'Epochs: {epoch + 1} | Step: {step} | Train Loss: {loss_train_total/i: .3f} | Val Loss: {loss_val/j: .3f}' )\n",
    "            \n",
    "            train_losses.append(loss_train_total/i)\n",
    "            val_losses.append(loss_val/j)\n",
    "    # print(f'Epochs: {epoch + 1} | Train Loss: {loss_train_total/i: .3f} | Val Loss: {loss_val/j: .3f}' )"
   ]
  },
  {
   "cell_type": "code",
   "execution_count": 62,
   "metadata": {},
   "outputs": [
    {
     "name": "stdout",
     "output_type": "stream",
     "text": [
      "Accuracy: 0.84332\n"
     ]
    }
   ],
   "source": [
    "model.eval()\n",
    "with torch.no_grad():\n",
    "    correct = 0\n",
    "    total = 0\n",
    "    for batch in test_dataloader:\n",
    "        inputs = batch['review'].to(device)\n",
    "        labels = batch['label'].to(device)\n",
    "        output = model(inputs)\n",
    "        predicted = torch.round(output.squeeze())\n",
    "        total += labels.size(0)\n",
    "        correct += (predicted == labels).sum().item()\n",
    "print(f\"Accuracy: {correct/total}\")"
   ]
  },
  {
   "cell_type": "code",
   "execution_count": 48,
   "metadata": {},
   "outputs": [],
   "source": [
    "def predict(text):\n",
    "    inputs = torch.IntTensor(pad_sequence([tok2id[t] for t in tokenize(text) if t in tok2id])).unsqueeze(0).to(device)\n",
    "    output = model(inputs)\n",
    "    predicted = torch.round(output.squeeze()).item()\n",
    "    if predicted == 1:\n",
    "        print(\"Positive review\")\n",
    "    else:\n",
    "        print(\"Negative review\")"
   ]
  },
  {
   "cell_type": "code",
   "execution_count": 51,
   "metadata": {},
   "outputs": [
    {
     "name": "stdout",
     "output_type": "stream",
     "text": [
      "Positive review\n"
     ]
    }
   ],
   "source": [
    "predict(\"This movie is great!\")"
   ]
  },
  {
   "cell_type": "code",
   "execution_count": 50,
   "metadata": {},
   "outputs": [
    {
     "name": "stdout",
     "output_type": "stream",
     "text": [
      "Negative review\n"
     ]
    }
   ],
   "source": [
    "predict(\"This movie is so bad!\")"
   ]
  },
  {
   "cell_type": "code",
   "execution_count": null,
   "metadata": {},
   "outputs": [],
   "source": []
  }
 ],
 "metadata": {
  "kernelspec": {
   "display_name": "ml-pt-2",
   "language": "python",
   "name": "python3"
  },
  "language_info": {
   "codemirror_mode": {
    "name": "ipython",
    "version": 3
   },
   "file_extension": ".py",
   "mimetype": "text/x-python",
   "name": "python",
   "nbconvert_exporter": "python",
   "pygments_lexer": "ipython3",
   "version": "3.10.9"
  }
 },
 "nbformat": 4,
 "nbformat_minor": 2
}
