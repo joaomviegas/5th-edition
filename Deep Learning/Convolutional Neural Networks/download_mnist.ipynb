{
 "cells": [
  {
   "cell_type": "code",
   "execution_count": 13,
   "metadata": {},
   "outputs": [],
   "source": [
    "from sklearn.datasets import fetch_openml\n",
    "import numpy as np\n",
    "from sklearn.utils import shuffle\n",
    "import os"
   ]
  },
  {
   "cell_type": "code",
   "execution_count": 14,
   "metadata": {},
   "outputs": [],
   "source": [
    "# Fetch the dataset\n",
    "#mnist = fetch_openml('mnist_784', version=1, cache=True)\n",
    "\n",
    "# shuffle the data\n",
    "X, y = shuffle(mnist.data, mnist.target, random_state=42)\n",
    "\n",
    "# Split into train and test (MNIST has 70,000 samples; the typical split is 60,000 training and 10,000 testing)\n",
    "X_train, X_test = X[:60000], X[60000:]\n",
    "y_train, y_test = y[:60000], y[60000:]\n",
    "\n",
    "# Save to CSV files\n",
    "np.savetxt(os.path.join(\"data\",\"MNIST_Original\",\"mnist_train_data.csv\"), X_train, delimiter=\",\")\n",
    "np.savetxt(os.path.join('data','MNIST_Original',\"mnist_train_labels.csv\"), y_train.astype(int), delimiter=\",\")\n",
    "np.savetxt(os.path.join('data','MNIST_Original',\"mnist_test_data.csv\"), X_test, delimiter=\",\")\n",
    "np.savetxt(os.path.join('data','MNIST_Original',\"mnist_test_labels.csv\"), y_test.astype(int), delimiter=\",\")"
   ]
  },
  {
   "cell_type": "code",
   "execution_count": null,
   "metadata": {},
   "outputs": [],
   "source": []
  }
 ],
 "metadata": {
  "kernelspec": {
   "display_name": "base",
   "language": "python",
   "name": "python3"
  },
  "language_info": {
   "codemirror_mode": {
    "name": "ipython",
    "version": 3
   },
   "file_extension": ".py",
   "mimetype": "text/x-python",
   "name": "python",
   "nbconvert_exporter": "python",
   "pygments_lexer": "ipython3",
   "version": "3.10.9"
  }
 },
 "nbformat": 4,
 "nbformat_minor": 2
}
