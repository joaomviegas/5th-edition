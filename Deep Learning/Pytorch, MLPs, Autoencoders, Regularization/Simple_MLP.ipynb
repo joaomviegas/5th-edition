{
  "nbformat": 4,
  "nbformat_minor": 0,
  "metadata": {
    "colab": {
      "provenance": []
    },
    "kernelspec": {
      "name": "python3",
      "display_name": "Python 3"
    },
    "language_info": {
      "name": "python"
    }
  },
  "cells": [
    {
      "cell_type": "code",
      "execution_count": null,
      "metadata": {
        "id": "2_sGIjQI-X_q"
      },
      "outputs": [],
      "source": [
        "from sklearn.datasets import load_iris"
      ]
    },
    {
      "cell_type": "markdown",
      "source": [
        "## Lets use sklearn implementation to compare to ours"
      ],
      "metadata": {
        "id": "Cy7tnSP9_fDj"
      }
    },
    {
      "cell_type": "code",
      "source": [
        "# Import necessary libraries\n",
        "from sklearn.neural_network import MLPClassifier\n",
        "from sklearn.datasets import load_iris\n",
        "from sklearn.model_selection import train_test_split\n",
        "from sklearn.metrics import accuracy_score\n",
        "\n",
        "# Load the Iris dataset\n",
        "iris = load_iris()\n",
        "X = iris.data\n",
        "y = iris.target\n",
        "\n",
        "# Split the dataset into training and testing sets\n",
        "X_train, X_test, y_train, y_test = train_test_split(X, y, test_size=0.2, random_state=42)\n",
        "\n",
        "# Create an MLP classifier\n",
        "mlp = MLPClassifier(hidden_layer_sizes=(10, 10), max_iter=1000, random_state=42)\n",
        "\n",
        "# Train the classifier on the training data\n",
        "mlp.fit(X_train, y_train)\n",
        "\n",
        "# Make predictions on the test data\n",
        "y_pred = mlp.predict(X_test)\n",
        "\n",
        "# Calculate the accuracy of the model\n",
        "accuracy = accuracy_score(y_test, y_pred)\n",
        "print(f'Accuracy: {accuracy:.2f}')\n"
      ],
      "metadata": {
        "colab": {
          "base_uri": "https://localhost:8080/"
        },
        "id": "IE92iZaB_UVO",
        "outputId": "e03d3e86-5943-4253-9869-1f44d951bbd6"
      },
      "execution_count": null,
      "outputs": [
        {
          "output_type": "stream",
          "name": "stdout",
          "text": [
            "Accuracy: 0.93\n"
          ]
        }
      ]
    },
    {
      "cell_type": "markdown",
      "source": [
        "# Pytorch (https://pytorch.org/)\n",
        "* Deep Learning Framework by Meta\n",
        "* Auto Differentiation\n",
        "* Python Interface\n",
        "* Open Source\n",
        "* Widely Used\n",
        "\n"
      ],
      "metadata": {
        "id": "Odn8xVZM_3R8"
      }
    },
    {
      "cell_type": "code",
      "source": [
        "#pip install torch"
      ],
      "metadata": {
        "id": "B-sb9aKu_cPp"
      },
      "execution_count": null,
      "outputs": []
    },
    {
      "cell_type": "code",
      "source": [
        "import torch\n",
        "import torch.nn as nn\n",
        "import torch.optim as optim\n",
        "from sklearn.datasets import load_iris\n",
        "from sklearn.model_selection import train_test_split\n",
        "from sklearn.metrics import accuracy_score\n",
        "from sklearn.metrics import classification_report\n",
        "\n",
        "# Load the Iris dataset\n",
        "iris = load_iris()\n",
        "X = iris.data\n",
        "y = iris.target\n",
        "\n",
        "# Split the dataset into training and testing sets\n",
        "X_train, X_test, y_train, y_test = train_test_split(X, y, test_size=0.2, random_state=42)\n",
        "\n",
        "# Convert the NumPy arrays to PyTorch tensors\n",
        "X_train = torch.FloatTensor(X_train)\n",
        "y_train = torch.LongTensor(y_train)\n",
        "X_test = torch.FloatTensor(X_test)\n",
        "y_test = torch.LongTensor(y_test)\n"
      ],
      "metadata": {
        "id": "4bzZftKYASwB"
      },
      "execution_count": null,
      "outputs": []
    },
    {
      "cell_type": "markdown",
      "source": [
        "### Define your model"
      ],
      "metadata": {
        "id": "MzFtE4htCtrh"
      }
    },
    {
      "cell_type": "code",
      "source": [
        "class MLP(nn.Module):\n",
        "    def __init__(self, input_size, hidden_size, num_classes):\n",
        "        super(MLP, self).__init__()\n",
        "        self.fc1 = nn.Linear(input_size, hidden_size)\n",
        "        self.relu = nn.ReLU() #rectified linear unit\n",
        "        self.fc2 = nn.Linear(hidden_size, num_classes)\n",
        "        #self.softmax = nn.Softmax(dim = 1)\n",
        "\n",
        "    def forward(self, x):\n",
        "        x = self.fc1(x)\n",
        "        x = self.relu(x)\n",
        "        x = self.fc2(x)\n",
        "        #x = self.softmax(x)\n",
        "        return x"
      ],
      "metadata": {
        "id": "p4DnUjBUCwpj"
      },
      "execution_count": null,
      "outputs": []
    },
    {
      "cell_type": "markdown",
      "source": [
        "### Train your model"
      ],
      "metadata": {
        "id": "FiGsiqF7C4Ym"
      }
    },
    {
      "cell_type": "code",
      "source": [
        "# Initialize the model and set hyperparameters\n",
        "input_size = 4  # Number of features in the Iris dataset\n",
        "hidden_size = 10\n",
        "num_classes = 3  # Three classes in the Iris dataset\n",
        "model = MLP(input_size, hidden_size, num_classes)\n",
        "criterion = nn.CrossEntropyLoss()\n",
        "optimizer = optim.SGD(model.parameters(), lr=0.01)\n",
        "\n",
        "# Train the model\n",
        "num_epochs = 1000\n",
        "for epoch in range(num_epochs):\n",
        "    outputs = model(X_train)\n",
        "    optimizer.zero_grad()\n",
        "    loss = criterion(outputs, y_train)\n",
        "    loss.backward()\n",
        "    optimizer.step()"
      ],
      "metadata": {
        "id": "6s94kscEC6U3"
      },
      "execution_count": null,
      "outputs": []
    },
    {
      "cell_type": "markdown",
      "source": [
        "### Evaluate your model"
      ],
      "metadata": {
        "id": "4AjwTyplCrNi"
      }
    },
    {
      "cell_type": "code",
      "source": [
        "with torch.no_grad():\n",
        "    y_pred = model(X_test)\n",
        "    _ , predicted = torch.max(y_pred, 1)\n",
        "    # Generate the classification report\n",
        "    report = classification_report(y_test, predicted)\n",
        "    print(report)"
      ],
      "metadata": {
        "id": "dBN2jeNwBYsO",
        "colab": {
          "base_uri": "https://localhost:8080/"
        },
        "outputId": "92746b1c-d085-481c-f7c9-229f750b0e14"
      },
      "execution_count": null,
      "outputs": [
        {
          "output_type": "stream",
          "name": "stdout",
          "text": [
            "              precision    recall  f1-score   support\n",
            "\n",
            "           0       1.00      1.00      1.00        10\n",
            "           1       1.00      1.00      1.00         9\n",
            "           2       1.00      1.00      1.00        11\n",
            "\n",
            "    accuracy                           1.00        30\n",
            "   macro avg       1.00      1.00      1.00        30\n",
            "weighted avg       1.00      1.00      1.00        30\n",
            "\n"
          ]
        }
      ]
    },
    {
      "cell_type": "code",
      "source": [],
      "metadata": {
        "id": "gW6ml_cD-MiH"
      },
      "execution_count": null,
      "outputs": []
    }
  ]
}