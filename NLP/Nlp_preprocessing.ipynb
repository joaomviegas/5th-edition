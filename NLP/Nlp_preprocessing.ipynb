{
  "nbformat": 4,
  "nbformat_minor": 0,
  "metadata": {
    "colab": {
      "provenance": []
    },
    "kernelspec": {
      "name": "python3",
      "display_name": "Python 3"
    },
    "language_info": {
      "name": "python"
    }
  },
  "cells": [
    {
      "cell_type": "markdown",
      "source": [
        "# String Manipulation and Regex in Python\n",
        "\n",
        "In Python, a **string** is a sequence of characters enclosed within either single quotes (' ') or double quotes (\" \"). Strings are a fundamental data type used to represent text data. They are versatile and offer various methods for manipulation.\n",
        "\n",
        "**Counting Occurrences**:  \n",
        "You can count the number of occurrences of a specific character or substring within a string using the `count` method.  \n",
        "  \n",
        "**Sub-String Slicing**:  \n",
        "To extract a sub-string from a string, you can use slicing. Slicing is done using square brackets.   \n",
        "  \n",
        "**Joining Strings**:  \n",
        "To join a list of string objects into a single string with a specified separator, you can use the `join` method."
      ],
      "metadata": {
        "id": "CGL5-XgS0jV1"
      }
    },
    {
      "cell_type": "code",
      "source": [],
      "metadata": {
        "id": "voDcP5A8AOOX"
      },
      "execution_count": null,
      "outputs": []
    },
    {
      "cell_type": "code",
      "source": [
        "import re"
      ],
      "metadata": {
        "id": "6oZhCK_N1lpZ"
      },
      "execution_count": null,
      "outputs": []
    },
    {
      "cell_type": "code",
      "source": [
        "words = [\"Hello\", \"world\", \"Python\"]\n",
        "sentence = \" \".join(words)\n",
        "print(sentence)  # Output: \"Hello world Python\""
      ],
      "metadata": {
        "id": "v9qgOINQ0fkg"
      },
      "execution_count": null,
      "outputs": []
    },
    {
      "cell_type": "code",
      "source": [
        "# Join the list of string objects using a space as separator.\n",
        "\" \".join(x)\n",
        "# Count the number of occurrences of 'a'.\n",
        "y.count('a')\n",
        "# Sub-string.\n",
        "y[0:10]\n",
        "\n",
        "# Substitute the matching pattern with 'X'.\n",
        "re.sub('\\d','X',x1)\n",
        "\n",
        "# Substitute the matching pattern with space.\n",
        "x2_modified = re.sub('[@~*#%+-]',' ',x2)\n",
        "x2_modified\n",
        "\n",
        "# Remove the excessive spaces.\n",
        "x2_final = re.sub('\\s+',' ',x2_modified)\n",
        "x2_final"
      ],
      "metadata": {
        "id": "xXuqoXcnze0c"
      },
      "execution_count": null,
      "outputs": []
    },
    {
      "cell_type": "code",
      "source": [],
      "metadata": {
        "id": "jg4GSAHRASAK"
      },
      "execution_count": null,
      "outputs": []
    },
    {
      "cell_type": "markdown",
      "source": [
        "##### Regex cheatsheet [\\[1\\]](https://regexr.com/)\n",
        "\n",
        "`.` - matches any character, except newline.\n",
        "\n",
        "`\\d, \\s \\S` - match digit, match whitespace, not whitespace.\n",
        "\n",
        "`\\b, \\B` - word, not word boundary.\n",
        "\n",
        "`[xyz]` - matches x, y or z.\n",
        "\n",
        "`[^xyz]` - matches anything that is not x, y or z.\n",
        "\n",
        "`[x-z]` - matches a character between x and z.\n",
        "\n",
        "`^xyz$` - `^` is the start of the string, `$` is the end of the string.\n",
        "\n",
        "`\\.` - use escaping to match special characters.\n",
        "\n",
        "`\\t`, `\\n` - matches tab and newline.\n",
        "\n",
        "`x*` - matches 0 or more symbols x.\n",
        "\n",
        "`x+` - matches 1 or more symbols x.\n",
        "\n",
        "`x?` - matches 0 or 1 symbol x.\n",
        "\n",
        "`.?`, `*?`, `+?`, etc - represent non-greedy search.\n",
        "\n",
        "`x{5}` - matches exactly 5 symbols x.\n",
        "\n",
        "`x{5,}` - matches 5 or more symbols x.\n",
        "\n",
        "`x{5, 8}` - matches between 5 and 8 symbols x.\n",
        "\n",
        "`xy|yz` - matches `xy` or `yz`."
      ],
      "metadata": {
        "id": "9oDEU3RIAS_p"
      }
    },
    {
      "cell_type": "code",
      "source": [
        "text = \"titanic titan life\"\n",
        "print(\"\\nLooking for \\\"titanic\\\":\")\n",
        "match_titanic = re.search(\"titanic\", text)\n",
        "print(match_titanic)\n",
        "\n",
        "print(\"Looking for \\\"titan\\\":\")\n",
        "match_titan= re.search(\"titan\", text)\n",
        "print(match_titan)\n",
        "\n",
        "print(\"\\nLooking for \\\"life\\\":\")\n",
        "match_life = re.search(\"life\", text)\n",
        "print(match_life)\n"
      ],
      "metadata": {
        "colab": {
          "base_uri": "https://localhost:8080/"
        },
        "id": "02jmieUVF6dj",
        "outputId": "9df61599-5be8-410b-d5ac-3b89e0479cd2"
      },
      "execution_count": null,
      "outputs": [
        {
          "output_type": "stream",
          "name": "stdout",
          "text": [
            "\n",
            "Looking for \"titanic\":\n",
            "<re.Match object; span=(0, 7), match='titanic'>\n",
            "Looking for \"titan\":\n",
            "<re.Match object; span=(0, 5), match='titan'>\n",
            "\n",
            "Looking for \"life\":\n",
            "<re.Match object; span=(14, 18), match='life'>\n"
          ]
        }
      ]
    },
    {
      "cell_type": "code",
      "source": [],
      "metadata": {
        "colab": {
          "base_uri": "https://localhost:8080/"
        },
        "id": "AW1lY-MWOE5i",
        "outputId": "0997dbfa-c353-44da-8234-b43afa728fc1"
      },
      "execution_count": null,
      "outputs": [
        {
          "output_type": "execute_result",
          "data": {
            "text/plain": [
              "0"
            ]
          },
          "metadata": {},
          "execution_count": 12
        }
      ]
    },
    {
      "cell_type": "markdown",
      "source": [
        "\n",
        "Here are some key observations:\n",
        "\n",
        "1. When a match is not found, the `search()` function returns `None`.\n",
        "\n",
        "2. The `Match` object provides the starting and ending indices of the match, which can be accessed using `match.start()` and `match.end()`.\n",
        "\n",
        "3. If a word appears multiple times in the text, only the first occurrence is retrieved by default.\n",
        "\n",
        "4. To retrieve all matches of a pattern in a given text, you can use the `findall()` function. In this case, the matched portions of the text are returned as a list, rather than as individual `Match` objects.\"\n",
        "\n",
        "5. Notice that search \"titan\" choose the first option span (0,5) if you want to find all you should use `findall` method"
      ],
      "metadata": {
        "id": "PceFuuZoIm0f"
      }
    },
    {
      "cell_type": "code",
      "source": [
        "# Substitute the matching pattern with 'X' using re.sub()\n",
        "# Hidding digits\n",
        "x1 = 'My secret code is 0000.  I       am         damn     far.        I like space'\n",
        "x1_modified  = ??\n",
        "x1_modified"
      ],
      "metadata": {
        "colab": {
          "base_uri": "https://localhost:8080/",
          "height": 35
        },
        "id": "h8vcg8sj1aGc",
        "outputId": "591c7e94-9090-46d5-9729-07e7d5603e0e"
      },
      "execution_count": null,
      "outputs": [
        {
          "output_type": "execute_result",
          "data": {
            "text/plain": [
              "'My secret code is XXXX.  I       am         damn     far.        I like space'"
            ],
            "application/vnd.google.colaboratory.intrinsic+json": {
              "type": "string"
            }
          },
          "metadata": {},
          "execution_count": 7
        }
      ]
    },
    {
      "cell_type": "code",
      "source": [
        "# Remove the excessive spaces using re.sub()\n",
        "x1_final = re.sub('\\s+',' ',x1_modified)"
      ],
      "metadata": {
        "colab": {
          "base_uri": "https://localhost:8080/",
          "height": 35
        },
        "id": "jYX4Hy7k11r-",
        "outputId": "28064d71-a04f-4dcd-b0d7-3843d7332998"
      },
      "execution_count": null,
      "outputs": [
        {
          "output_type": "execute_result",
          "data": {
            "text/plain": [
              "'My secret code is XXXX. I am damn far. I like space'"
            ],
            "application/vnd.google.colaboratory.intrinsic+json": {
              "type": "string"
            }
          },
          "metadata": {},
          "execution_count": 8
        }
      ]
    },
    {
      "cell_type": "code",
      "source": [
        "# Cleaning a messy string\n",
        "x2 = \"Hello@world~Python#programming\"\n",
        "# Replace special characters with spaces\n",
        "# Remove excessive spaces\n",
        "print(x2_final)  # Output: \"Hello world Python programming\""
      ],
      "metadata": {
        "colab": {
          "base_uri": "https://localhost:8080/"
        },
        "id": "SuUQ_h1T26Io",
        "outputId": "c2b30cb6-581c-4492-e3bc-0851952bbd12"
      },
      "execution_count": null,
      "outputs": [
        {
          "output_type": "stream",
          "name": "stdout",
          "text": [
            "Hello world Python programming\n"
          ]
        }
      ]
    },
    {
      "cell_type": "code",
      "execution_count": null,
      "metadata": {
        "colab": {
          "base_uri": "https://localhost:8080/"
        },
        "id": "mKtGlK_mpGfq",
        "outputId": "1d112457-43c5-4f73-8c9a-41a3033e82ad"
      },
      "outputs": [
        {
          "output_type": "stream",
          "name": "stdout",
          "text": [
            "Numbers in text1: ['3', '2.5']\n",
            "Numbers in text2: []\n"
          ]
        }
      ],
      "source": [
        "def extract_numbers(text):\n",
        "    # Define a regex pattern to match numbers (integers and floating-point numbers)\n",
        "    pattern = r'[-+]?\\d*\\.\\d+|\\d+'  # This pattern matches both integer and floating-point numbers\n",
        "\n",
        "    # Use findall to extract all matched numbers from the text\n",
        "    numbers = re.findall(pattern, text)\n",
        "\n",
        "    return numbers\n",
        "\n",
        "# Test the function with example text\n",
        "text1 = \"There are 3 apples and 2.5 bananas in the basket.\"\n",
        "text2 = \"No numbers in this text.\"\n",
        "\n",
        "numbers1 = extract_numbers(text1)\n",
        "numbers2 = extract_numbers(text2)\n",
        "\n",
        "print(\"Numbers in text1:\", numbers1)#Numbers in text1: ['3', '2.5']\n",
        "print(\"Numbers in text2:\", numbers2)#Numbers in text2: []"
      ]
    },
    {
      "cell_type": "code",
      "source": [
        "def extract_dates(text):\n",
        "    # Define a regex pattern to match valid dates in different formats\n",
        "    date_pattern = r'\\d{4}-\\d{2}-\\d{2}|\\d{2}-\\d{2}-\\d{4}|\\d{2}/\\d{2}/\\d{4}'  # Matches YYYY-MM-DD, DD-MM-YYYY, and MM/DD/YYYY\n",
        "\n",
        "    # Use findall to extract all matched dates from the text\n",
        "    dates = re.findall(date_pattern, text)\n",
        "\n",
        "    return dates\n",
        "\n",
        "\n",
        "# Test the function with example text\n",
        "text1 = \"Let's meet for a coffee at 2023-09-23 at 06:00:00, right when the caffeine fairy sprinkles magic dust.\"\n",
        "text2 = \"Are you being serious about that? Can we reschedule for a time when the sun is out on the 24-09-2023?\"\n",
        "text3 = \"What about on 09/23/2023 at 3:30 AM, when the world is still asleep?\"\n",
        "text4 = \"If you don't make time for me, we're gonna break up on the 09/27/2023, and I'll start a new career as a hermit.\"\n",
        "text5 = \"No funny dates in this text, just serious business.\"\n",
        "\n",
        "\n",
        "dates1 = extract_dates(text1)\n",
        "dates2 = extract_dates(text2)\n",
        "dates3 = extract_dates(text3)\n",
        "dates4 = extract_dates(text4)\n",
        "dates5 = extract_dates(text5)\n",
        "\n",
        "\n",
        "print(\"Dates in text1:\", dates1)\n",
        "print(\"Dates in text2:\", dates2)\n",
        "print(\"Dates in text3:\", dates3)\n",
        "print(\"Dates in text4:\", dates4)\n",
        "print(\"Dates in text5:\", dates5)"
      ],
      "metadata": {
        "colab": {
          "base_uri": "https://localhost:8080/"
        },
        "id": "16rjLCbM2q5H",
        "outputId": "880a1b26-4141-453b-8cc7-3567b0c770c9"
      },
      "execution_count": null,
      "outputs": [
        {
          "output_type": "stream",
          "name": "stdout",
          "text": [
            "Dates in text1: ['2023-09-23']\n",
            "Dates in text2: ['24-09-2023']\n",
            "Dates in text3: ['09/23/2023']\n",
            "Dates in text4: ['09/27/2023']\n",
            "Dates in text5: []\n"
          ]
        }
      ]
    },
    {
      "cell_type": "code",
      "source": [
        "# Function to extract phone numbers\n",
        "def extract_phone_numbers(text):\n",
        "    phone_pattern = r'\\(?\\d{3}\\)?[-.\\s]?\\d{3}[-.\\s]?\\d{4}'\n",
        "    phone_numbers = re.findall(phone_pattern, text)\n",
        "    return phone_numbers\n",
        "\n",
        "# Function to extract emails\n",
        "def extract_emails(text):\n",
        "    email_pattern = r'\\b[A-Za-z0-9._%+-]+@[A-Za-z0-9.-]+\\.[A-Z|a-z]{2,7}\\b'\n",
        "    emails = re.findall(email_pattern, text)\n",
        "    return emails\n",
        "\n",
        "difficult_job ='''Dear Applicant,\n",
        "\n",
        "We have an exciting job opportunity for you!300k a year! We are looking for a talented individual to join our team.\n",
        "Please send your resume and cover letter to hr@example.com. You should also contact John Doe: Phone - (123) 456-7890, Email - john@example.com.\n",
        "\n",
        "And don't forget to contact Jane Smith: Phone - 555-123-4567, Email - jane@example.com.\n",
        "She is a very important person, and she has a sweet tooth for chocolates. If you really want to make a good impression, think about going to this location and buying some chocolates for her.\n",
        "Once you arrive at the office in this address: 123 Main St, Springfield, IL 12345, take a picture and send it to the WhatsApp group.\n",
        "Then we will evaluate if you did all the steps correctly and get back to you using this email. Once you receive the email, please let us know by going to this  1234 Elm Street Springfield, IL 12345United States street and pressing a button.\n",
        "\n",
        "Also, did I mention the time you spent on this journey? Time is valuable. John's phone number is (123) 456-7890, and Jane's phone number is 555-123-4567. You can reach them anytime.\n",
        "\n",
        "Best regards,\n",
        "Your Future Employer'''\n",
        "\n",
        "# Test the functions on the applicant's text\n",
        "phone_numbers = extract_phone_numbers(difficult_job)\n",
        "emails = extract_emails(difficult_job)\n",
        "\n",
        "\n",
        "print(\"Phone Numbers:\", phone_numbers)\n",
        "print(\"Emails:\", emails)"
      ],
      "metadata": {
        "colab": {
          "base_uri": "https://localhost:8080/",
          "height": 366
        },
        "id": "TNMx-QrG40Zr",
        "outputId": "ff7ae89e-79f4-4021-b06c-92963de542c8"
      },
      "execution_count": null,
      "outputs": [
        {
          "output_type": "error",
          "ename": "NameError",
          "evalue": "ignored",
          "traceback": [
            "\u001b[0;31m---------------------------------------------------------------------------\u001b[0m",
            "\u001b[0;31mNameError\u001b[0m                                 Traceback (most recent call last)",
            "\u001b[0;32m<ipython-input-1-9b126ea9b9af>\u001b[0m in \u001b[0;36m<cell line: 29>\u001b[0;34m()\u001b[0m\n\u001b[1;32m     27\u001b[0m \u001b[0;34m\u001b[0m\u001b[0m\n\u001b[1;32m     28\u001b[0m \u001b[0;31m# Test the functions on the applicant's text\u001b[0m\u001b[0;34m\u001b[0m\u001b[0;34m\u001b[0m\u001b[0m\n\u001b[0;32m---> 29\u001b[0;31m \u001b[0mphone_numbers\u001b[0m \u001b[0;34m=\u001b[0m \u001b[0mextract_phone_numbers\u001b[0m\u001b[0;34m(\u001b[0m\u001b[0mdifficult_job\u001b[0m\u001b[0;34m)\u001b[0m\u001b[0;34m\u001b[0m\u001b[0;34m\u001b[0m\u001b[0m\n\u001b[0m\u001b[1;32m     30\u001b[0m \u001b[0memails\u001b[0m \u001b[0;34m=\u001b[0m \u001b[0mextract_emails\u001b[0m\u001b[0;34m(\u001b[0m\u001b[0mdifficult_job\u001b[0m\u001b[0;34m)\u001b[0m\u001b[0;34m\u001b[0m\u001b[0;34m\u001b[0m\u001b[0m\n\u001b[1;32m     31\u001b[0m \u001b[0;34m\u001b[0m\u001b[0m\n",
            "\u001b[0;32m<ipython-input-1-9b126ea9b9af>\u001b[0m in \u001b[0;36mextract_phone_numbers\u001b[0;34m(text)\u001b[0m\n\u001b[1;32m      2\u001b[0m \u001b[0;32mdef\u001b[0m \u001b[0mextract_phone_numbers\u001b[0m\u001b[0;34m(\u001b[0m\u001b[0mtext\u001b[0m\u001b[0;34m)\u001b[0m\u001b[0;34m:\u001b[0m\u001b[0;34m\u001b[0m\u001b[0;34m\u001b[0m\u001b[0m\n\u001b[1;32m      3\u001b[0m     \u001b[0mphone_pattern\u001b[0m \u001b[0;34m=\u001b[0m \u001b[0;34mr'\\(?\\d{3}\\)?[-.\\s]?\\d{3}[-.\\s]?\\d{4}'\u001b[0m\u001b[0;34m\u001b[0m\u001b[0;34m\u001b[0m\u001b[0m\n\u001b[0;32m----> 4\u001b[0;31m     \u001b[0mphone_numbers\u001b[0m \u001b[0;34m=\u001b[0m \u001b[0mre\u001b[0m\u001b[0;34m.\u001b[0m\u001b[0mfindall\u001b[0m\u001b[0;34m(\u001b[0m\u001b[0mphone_pattern\u001b[0m\u001b[0;34m,\u001b[0m \u001b[0mtext\u001b[0m\u001b[0;34m)\u001b[0m\u001b[0;34m\u001b[0m\u001b[0;34m\u001b[0m\u001b[0m\n\u001b[0m\u001b[1;32m      5\u001b[0m     \u001b[0;32mreturn\u001b[0m \u001b[0mphone_numbers\u001b[0m\u001b[0;34m\u001b[0m\u001b[0;34m\u001b[0m\u001b[0m\n\u001b[1;32m      6\u001b[0m \u001b[0;34m\u001b[0m\u001b[0m\n",
            "\u001b[0;31mNameError\u001b[0m: name 're' is not defined"
          ]
        }
      ]
    },
    {
      "cell_type": "markdown",
      "source": [
        "## Tokenization\n",
        "Tokenization is the process of breaking down a text or a sequence of characters into smaller units, usually words or subwords, to make it more manageable and suitable for natural language processing tasks. Here's another way to explain tokenization with a different example:\n",
        "\n",
        "Imagine you have a paragraph of text:\n",
        "\n",
        "\"John's dog, Max, loves chasing after tennis balls in the park. It's his favorite activity!\"\n",
        "\n",
        "Tokenizing this text would involve splitting it into individual units or tokens, which could result in something like:\n",
        "\n",
        "[\"John's\", \"dog\", \",\", \"Max\", \",\", \"loves\", \"chasing\", \"after\", \"tennis\", \"balls\", \"in\", \"the\", \"park\", \".\", \"It's\", \"his\", \"favorite\", \"activity\", \"!\"]\n",
        "\n",
        "Tokenization helps in various NLP tasks like text analysis, sentiment analysis, machine translation, and more, as it provides a structured representation of the text that algorithms can work with effectively."
      ],
      "metadata": {
        "id": "3M9u0kV5Ef1m"
      }
    },
    {
      "cell_type": "code",
      "source": [
        "import re\n",
        "import nltk\n",
        "\n",
        "from nltk.tokenize import RegexpTokenizer"
      ],
      "metadata": {
        "id": "gDOAvdpyGAR3"
      },
      "execution_count": 2,
      "outputs": []
    },
    {
      "cell_type": "code",
      "source": [
        "text = \"John's dog, Max, loves chasing after tennis balls in the park. It's his favorite activity...\""
      ],
      "metadata": {
        "id": "0Pqn_YcyF3i2"
      },
      "execution_count": 7,
      "outputs": []
    },
    {
      "cell_type": "code",
      "source": [
        "# Seperate text by spaces"
      ],
      "metadata": {
        "id": "pqa67BIZYXYG"
      },
      "execution_count": null,
      "outputs": []
    },
    {
      "cell_type": "code",
      "source": [
        "tokenizer = RegexpTokenizer('\\w+|\\$[\\d\\.]+|\\S+')\n",
        "tokens = tokenizer.tokenize(text)\n",
        "print(tokens)"
      ],
      "metadata": {
        "id": "xgbkMx3v8PBN",
        "colab": {
          "base_uri": "https://localhost:8080/"
        },
        "outputId": "4df8e3f7-b48f-4cd2-d297-1b1469b63b7a"
      },
      "execution_count": 8,
      "outputs": [
        {
          "output_type": "stream",
          "name": "stdout",
          "text": [
            "['John', \"'s\", 'dog', ',', 'Max', ',', 'loves', 'chasing', 'after', 'tennis', 'balls', 'in', 'the', 'park', '.', 'It', \"'s\", 'his', 'favorite', 'activity', '...']\n"
          ]
        }
      ]
    },
    {
      "cell_type": "code",
      "source": [
        "from nltk.tokenize import BlanklineTokenizer\n",
        "from nltk.tokenize import WordPunctTokenizer\n",
        "from nltk.tokenize import WhitespaceTokenizer"
      ],
      "metadata": {
        "id": "4IsflgSBIlsS"
      },
      "execution_count": 9,
      "outputs": []
    },
    {
      "cell_type": "code",
      "source": [
        "tokenized_text_1 = BlanklineTokenizer().tokenize(text)\n",
        "print(tokenized_text_1)\n",
        "tokenized_text_3  = WhitespaceTokenizer().tokenize(text)\n",
        "print(tokenized_text_3)\n",
        "\n",
        "tokenized_text_2= WordPunctTokenizer().tokenize(text)\n",
        "print(tokenized_text_2)"
      ],
      "metadata": {
        "id": "lUIq9zTkINA0",
        "colab": {
          "base_uri": "https://localhost:8080/"
        },
        "outputId": "31b26443-2347-43e9-bd33-78c42a1dbeab"
      },
      "execution_count": 12,
      "outputs": [
        {
          "output_type": "stream",
          "name": "stdout",
          "text": [
            "[\"John's dog, Max, loves chasing after tennis balls in the park. It's his favorite activity...\"]\n",
            "[\"John's\", 'dog,', 'Max,', 'loves', 'chasing', 'after', 'tennis', 'balls', 'in', 'the', 'park.', \"It's\", 'his', 'favorite', 'activity...']\n",
            "['John', \"'\", 's', 'dog', ',', 'Max', ',', 'loves', 'chasing', 'after', 'tennis', 'balls', 'in', 'the', 'park', '.', 'It', \"'\", 's', 'his', 'favorite', 'activity', '...']\n"
          ]
        }
      ]
    },
    {
      "cell_type": "markdown",
      "source": [
        "\"Take note that the WordPunctTokenizer() closely resembles the initial one we defined. This is the standard and default tokenization method typically employed when discussing this technique.\""
      ],
      "metadata": {
        "id": "MDoDTDtVNoES"
      }
    },
    {
      "cell_type": "code",
      "source": [],
      "metadata": {
        "id": "H6wqFheINlr0"
      },
      "execution_count": null,
      "outputs": []
    }
  ]
}