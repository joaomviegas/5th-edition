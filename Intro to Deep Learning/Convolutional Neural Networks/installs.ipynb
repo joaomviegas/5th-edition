{
 "cells": [
  {
   "cell_type": "code",
   "execution_count": null,
   "metadata": {},
   "outputs": [],
   "source": [
    "!pip install torch torchvision torchaudio"
   ]
  },
  {
   "cell_type": "code",
   "execution_count": 1,
   "metadata": {},
   "outputs": [
    {
     "name": "stdout",
     "output_type": "stream",
     "text": [
      "Collecting torchviz\n",
      "  Downloading torchviz-0.0.2.tar.gz (4.9 kB)\n",
      "  Preparing metadata (setup.py) ... \u001b[?25ldone\n",
      "\u001b[?25hRequirement already satisfied: torch in /Users/simaonovais/anaconda3/lib/python3.10/site-packages (from torchviz) (2.1.0)\n",
      "Requirement already satisfied: graphviz in /Users/simaonovais/anaconda3/lib/python3.10/site-packages (from torchviz) (0.20.1)\n",
      "Requirement already satisfied: sympy in /Users/simaonovais/anaconda3/lib/python3.10/site-packages (from torch->torchviz) (1.11.1)\n",
      "Requirement already satisfied: networkx in /Users/simaonovais/anaconda3/lib/python3.10/site-packages (from torch->torchviz) (2.8.4)\n",
      "Requirement already satisfied: jinja2 in /Users/simaonovais/anaconda3/lib/python3.10/site-packages (from torch->torchviz) (3.1.2)\n",
      "Requirement already satisfied: filelock in /Users/simaonovais/anaconda3/lib/python3.10/site-packages (from torch->torchviz) (3.9.0)\n",
      "Requirement already satisfied: fsspec in /Users/simaonovais/anaconda3/lib/python3.10/site-packages (from torch->torchviz) (2022.11.0)\n",
      "Requirement already satisfied: typing-extensions in /Users/simaonovais/anaconda3/lib/python3.10/site-packages (from torch->torchviz) (4.4.0)\n",
      "Requirement already satisfied: MarkupSafe>=2.0 in /Users/simaonovais/anaconda3/lib/python3.10/site-packages (from jinja2->torch->torchviz) (2.1.1)\n",
      "Requirement already satisfied: mpmath>=0.19 in /Users/simaonovais/anaconda3/lib/python3.10/site-packages/mpmath-1.2.1-py3.10.egg (from sympy->torch->torchviz) (1.2.1)\n",
      "Building wheels for collected packages: torchviz\n",
      "  Building wheel for torchviz (setup.py) ... \u001b[?25ldone\n",
      "\u001b[?25h  Created wheel for torchviz: filename=torchviz-0.0.2-py3-none-any.whl size=4132 sha256=88e64a46fcb5ea5168f9594d0ce14785d8d9436f1a4a14789633e124af30ecf8\n",
      "  Stored in directory: /Users/simaonovais/Library/Caches/pip/wheels/6b/07/a3/bdeec9e7658d32e105b9fa530b50d2606ca8ff89782e426e65\n",
      "Successfully built torchviz\n",
      "Installing collected packages: torchviz\n",
      "Successfully installed torchviz-0.0.2\n"
     ]
    }
   ],
   "source": [
    "!pip install torchviz"
   ]
  },
  {
   "cell_type": "code",
   "execution_count": 2,
   "metadata": {},
   "outputs": [
    {
     "name": "stdout",
     "output_type": "stream",
     "text": [
      "Collecting torchmetrics\n",
      "  Downloading torchmetrics-1.2.0-py3-none-any.whl (805 kB)\n",
      "\u001b[2K     \u001b[90m━━━━━━━━━━━━━━━━━━━━━━━━━━━━━━━━━━━━━━━\u001b[0m \u001b[32m805.2/805.2 kB\u001b[0m \u001b[31m2.7 MB/s\u001b[0m eta \u001b[36m0:00:00\u001b[0ma \u001b[36m0:00:01\u001b[0m\n",
      "\u001b[?25hCollecting lightning-utilities>=0.8.0\n",
      "  Downloading lightning_utilities-0.9.0-py3-none-any.whl (23 kB)\n",
      "Requirement already satisfied: torch>=1.8.1 in /Users/simaonovais/anaconda3/lib/python3.10/site-packages (from torchmetrics) (2.1.0)\n",
      "Requirement already satisfied: numpy>1.20.0 in /Users/simaonovais/anaconda3/lib/python3.10/site-packages (from torchmetrics) (1.23.5)\n",
      "Requirement already satisfied: typing-extensions in /Users/simaonovais/anaconda3/lib/python3.10/site-packages (from lightning-utilities>=0.8.0->torchmetrics) (4.4.0)\n",
      "Requirement already satisfied: packaging>=17.1 in /Users/simaonovais/anaconda3/lib/python3.10/site-packages (from lightning-utilities>=0.8.0->torchmetrics) (22.0)\n",
      "Requirement already satisfied: fsspec in /Users/simaonovais/anaconda3/lib/python3.10/site-packages (from torch>=1.8.1->torchmetrics) (2022.11.0)\n",
      "Requirement already satisfied: networkx in /Users/simaonovais/anaconda3/lib/python3.10/site-packages (from torch>=1.8.1->torchmetrics) (2.8.4)\n",
      "Requirement already satisfied: jinja2 in /Users/simaonovais/anaconda3/lib/python3.10/site-packages (from torch>=1.8.1->torchmetrics) (3.1.2)\n",
      "Requirement already satisfied: filelock in /Users/simaonovais/anaconda3/lib/python3.10/site-packages (from torch>=1.8.1->torchmetrics) (3.9.0)\n",
      "Requirement already satisfied: sympy in /Users/simaonovais/anaconda3/lib/python3.10/site-packages (from torch>=1.8.1->torchmetrics) (1.11.1)\n",
      "Requirement already satisfied: MarkupSafe>=2.0 in /Users/simaonovais/anaconda3/lib/python3.10/site-packages (from jinja2->torch>=1.8.1->torchmetrics) (2.1.1)\n",
      "Requirement already satisfied: mpmath>=0.19 in /Users/simaonovais/anaconda3/lib/python3.10/site-packages/mpmath-1.2.1-py3.10.egg (from sympy->torch>=1.8.1->torchmetrics) (1.2.1)\n",
      "Installing collected packages: lightning-utilities, torchmetrics\n",
      "Successfully installed lightning-utilities-0.9.0 torchmetrics-1.2.0\n"
     ]
    }
   ],
   "source": [
    "!pip install torchmetrics"
   ]
  },
  {
   "cell_type": "code",
   "execution_count": null,
   "metadata": {},
   "outputs": [],
   "source": []
  }
 ],
 "metadata": {
  "kernelspec": {
   "display_name": "base",
   "language": "python",
   "name": "python3"
  },
  "language_info": {
   "codemirror_mode": {
    "name": "ipython",
    "version": 3
   },
   "file_extension": ".py",
   "mimetype": "text/x-python",
   "name": "python",
   "nbconvert_exporter": "python",
   "pygments_lexer": "ipython3",
   "version": "3.10.9"
  }
 },
 "nbformat": 4,
 "nbformat_minor": 2
}
