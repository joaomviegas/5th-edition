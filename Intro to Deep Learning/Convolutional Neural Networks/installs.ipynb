{
 "cells": [
  {
   "cell_type": "code",
   "execution_count": 1,
   "metadata": {},
   "outputs": [
    {
     "name": "stdout",
     "output_type": "stream",
     "text": [
      "Requirement already satisfied: torch in c:\\users\\joaoviegas\\anaconda3\\lib\\site-packages (2.1.0)\n",
      "Requirement already satisfied: torchvision in c:\\users\\joaoviegas\\anaconda3\\lib\\site-packages (0.16.0)\n",
      "Requirement already satisfied: torchaudio in c:\\users\\joaoviegas\\anaconda3\\lib\\site-packages (2.1.0)\n",
      "Requirement already satisfied: filelock in c:\\users\\joaoviegas\\anaconda3\\lib\\site-packages (from torch) (3.9.0)\n",
      "Requirement already satisfied: typing-extensions in c:\\users\\joaoviegas\\anaconda3\\lib\\site-packages (from torch) (4.5.0)\n",
      "Requirement already satisfied: sympy in c:\\users\\joaoviegas\\anaconda3\\lib\\site-packages (from torch) (1.11.1)\n",
      "Requirement already satisfied: networkx in c:\\users\\joaoviegas\\anaconda3\\lib\\site-packages (from torch) (2.8.4)\n",
      "Requirement already satisfied: jinja2 in c:\\users\\joaoviegas\\anaconda3\\lib\\site-packages (from torch) (2.11.3)\n",
      "Requirement already satisfied: fsspec in c:\\users\\joaoviegas\\anaconda3\\lib\\site-packages (from torch) (2023.4.0)\n",
      "Requirement already satisfied: numpy in c:\\users\\joaoviegas\\appdata\\roaming\\python\\python39\\site-packages (from torchvision) (1.24.3)\n",
      "Requirement already satisfied: requests in c:\\users\\joaoviegas\\anaconda3\\lib\\site-packages (from torchvision) (2.29.0)\n",
      "Requirement already satisfied: pillow!=8.3.*,>=5.3.0 in c:\\users\\joaoviegas\\anaconda3\\lib\\site-packages (from torchvision) (9.4.0)\n",
      "Requirement already satisfied: MarkupSafe>=0.23 in c:\\users\\joaoviegas\\anaconda3\\lib\\site-packages (from jinja2->torch) (2.0.1)\n",
      "Requirement already satisfied: urllib3<1.27,>=1.21.1 in c:\\users\\joaoviegas\\anaconda3\\lib\\site-packages (from requests->torchvision) (1.26.15)\n",
      "Requirement already satisfied: charset-normalizer<4,>=2 in c:\\users\\joaoviegas\\anaconda3\\lib\\site-packages (from requests->torchvision) (2.0.4)\n",
      "Requirement already satisfied: certifi>=2017.4.17 in c:\\users\\joaoviegas\\anaconda3\\lib\\site-packages (from requests->torchvision) (2023.7.22)\n",
      "Requirement already satisfied: idna<4,>=2.5 in c:\\users\\joaoviegas\\anaconda3\\lib\\site-packages (from requests->torchvision) (3.4)\n",
      "Requirement already satisfied: mpmath>=0.19 in c:\\users\\joaoviegas\\anaconda3\\lib\\site-packages (from sympy->torch) (1.2.1)\n"
     ]
    }
   ],
   "source": [
    "!pip install torch torchvision torchaudio"
   ]
  },
  {
   "cell_type": "code",
   "execution_count": 3,
   "metadata": {},
   "outputs": [
    {
     "name": "stdout",
     "output_type": "stream",
     "text": [
      "Collecting torchviz\n",
      "  Downloading torchviz-0.0.2.tar.gz (4.9 kB)\n",
      "  Preparing metadata (setup.py): started\n",
      "  Preparing metadata (setup.py): finished with status 'done'\n",
      "Requirement already satisfied: torch in c:\\users\\joaoviegas\\anaconda3\\lib\\site-packages (from torchviz) (2.1.0)\n",
      "Requirement already satisfied: graphviz in c:\\users\\joaoviegas\\anaconda3\\lib\\site-packages (from torchviz) (0.20.1)\n",
      "Requirement already satisfied: filelock in c:\\users\\joaoviegas\\anaconda3\\lib\\site-packages (from torch->torchviz) (3.9.0)\n",
      "Requirement already satisfied: typing-extensions in c:\\users\\joaoviegas\\anaconda3\\lib\\site-packages (from torch->torchviz) (4.5.0)\n",
      "Requirement already satisfied: sympy in c:\\users\\joaoviegas\\anaconda3\\lib\\site-packages (from torch->torchviz) (1.11.1)\n",
      "Requirement already satisfied: networkx in c:\\users\\joaoviegas\\anaconda3\\lib\\site-packages (from torch->torchviz) (2.8.4)\n",
      "Requirement already satisfied: jinja2 in c:\\users\\joaoviegas\\anaconda3\\lib\\site-packages (from torch->torchviz) (2.11.3)\n",
      "Requirement already satisfied: fsspec in c:\\users\\joaoviegas\\anaconda3\\lib\\site-packages (from torch->torchviz) (2023.4.0)\n",
      "Requirement already satisfied: MarkupSafe>=0.23 in c:\\users\\joaoviegas\\anaconda3\\lib\\site-packages (from jinja2->torch->torchviz) (2.0.1)\n",
      "Requirement already satisfied: mpmath>=0.19 in c:\\users\\joaoviegas\\anaconda3\\lib\\site-packages (from sympy->torch->torchviz) (1.2.1)\n",
      "Building wheels for collected packages: torchviz\n",
      "  Building wheel for torchviz (setup.py): started\n",
      "  Building wheel for torchviz (setup.py): finished with status 'done'\n",
      "  Created wheel for torchviz: filename=torchviz-0.0.2-py3-none-any.whl size=4137 sha256=a151c6d4dc893ea3f92605c903b2bf0b1afa58aaf922234a6ab07a31f0abb788\n",
      "  Stored in directory: c:\\users\\joaoviegas\\appdata\\local\\pip\\cache\\wheels\\29\\65\\6e\\db2515eb1dc760fecd36b40d54df65c1e18534013f1c037e2e\n",
      "Successfully built torchviz\n",
      "Installing collected packages: torchviz\n",
      "Successfully installed torchviz-0.0.2\n"
     ]
    }
   ],
   "source": [
    "!pip install torchviz"
   ]
  },
  {
   "cell_type": "code",
   "execution_count": 4,
   "metadata": {},
   "outputs": [
    {
     "name": "stdout",
     "output_type": "stream",
     "text": [
      "Collecting torchmetrics\n",
      "  Downloading torchmetrics-1.2.0-py3-none-any.whl (805 kB)\n",
      "     ---------------------------------------- 0.0/805.2 kB ? eta -:--:--\n",
      "     ------- ------------------------------ 163.8/805.2 kB 5.0 MB/s eta 0:00:01\n",
      "     --------- ---------------------------- 204.8/805.2 kB 3.1 MB/s eta 0:00:01\n",
      "     --------------- ---------------------- 327.7/805.2 kB 2.5 MB/s eta 0:00:01\n",
      "     ----------------- -------------------- 368.6/805.2 kB 2.3 MB/s eta 0:00:01\n",
      "     ----------------------- -------------- 491.5/805.2 kB 2.4 MB/s eta 0:00:01\n",
      "     ------------------------- ------------ 532.5/805.2 kB 2.2 MB/s eta 0:00:01\n",
      "     ---------------------------- --------- 593.9/805.2 kB 2.2 MB/s eta 0:00:01\n",
      "     --------------------------------- ---- 706.6/805.2 kB 2.2 MB/s eta 0:00:01\n",
      "     -------------------------------------  788.5/805.2 kB 2.1 MB/s eta 0:00:01\n",
      "     -------------------------------------- 805.2/805.2 kB 2.0 MB/s eta 0:00:00\n",
      "Collecting lightning-utilities>=0.8.0\n",
      "  Downloading lightning_utilities-0.9.0-py3-none-any.whl (23 kB)\n",
      "Requirement already satisfied: torch>=1.8.1 in c:\\users\\joaoviegas\\anaconda3\\lib\\site-packages (from torchmetrics) (2.1.0)\n",
      "Requirement already satisfied: numpy>1.20.0 in c:\\users\\joaoviegas\\appdata\\roaming\\python\\python39\\site-packages (from torchmetrics) (1.24.3)\n",
      "Requirement already satisfied: packaging>=17.1 in c:\\users\\joaoviegas\\anaconda3\\lib\\site-packages (from lightning-utilities>=0.8.0->torchmetrics) (23.0)\n",
      "Requirement already satisfied: typing-extensions in c:\\users\\joaoviegas\\anaconda3\\lib\\site-packages (from lightning-utilities>=0.8.0->torchmetrics) (4.5.0)\n",
      "Requirement already satisfied: filelock in c:\\users\\joaoviegas\\anaconda3\\lib\\site-packages (from torch>=1.8.1->torchmetrics) (3.9.0)\n",
      "Requirement already satisfied: sympy in c:\\users\\joaoviegas\\anaconda3\\lib\\site-packages (from torch>=1.8.1->torchmetrics) (1.11.1)\n",
      "Requirement already satisfied: networkx in c:\\users\\joaoviegas\\anaconda3\\lib\\site-packages (from torch>=1.8.1->torchmetrics) (2.8.4)\n",
      "Requirement already satisfied: jinja2 in c:\\users\\joaoviegas\\anaconda3\\lib\\site-packages (from torch>=1.8.1->torchmetrics) (2.11.3)\n",
      "Requirement already satisfied: fsspec in c:\\users\\joaoviegas\\anaconda3\\lib\\site-packages (from torch>=1.8.1->torchmetrics) (2023.4.0)\n",
      "Requirement already satisfied: MarkupSafe>=0.23 in c:\\users\\joaoviegas\\anaconda3\\lib\\site-packages (from jinja2->torch>=1.8.1->torchmetrics) (2.0.1)\n",
      "Requirement already satisfied: mpmath>=0.19 in c:\\users\\joaoviegas\\anaconda3\\lib\\site-packages (from sympy->torch>=1.8.1->torchmetrics) (1.2.1)\n",
      "Installing collected packages: lightning-utilities, torchmetrics\n",
      "Successfully installed lightning-utilities-0.9.0 torchmetrics-1.2.0\n"
     ]
    }
   ],
   "source": [
    "!pip install torchmetrics"
   ]
  },
  {
   "cell_type": "code",
   "execution_count": null,
   "metadata": {},
   "outputs": [],
   "source": []
  }
 ],
 "metadata": {
  "kernelspec": {
   "display_name": "base",
   "language": "python",
   "name": "python3"
  },
  "language_info": {
   "codemirror_mode": {
    "name": "ipython",
    "version": 3
   },
   "file_extension": ".py",
   "mimetype": "text/x-python",
   "name": "python",
   "nbconvert_exporter": "python",
   "pygments_lexer": "ipython3",
   "version": "3.9.13"
  }
 },
 "nbformat": 4,
 "nbformat_minor": 2
}
