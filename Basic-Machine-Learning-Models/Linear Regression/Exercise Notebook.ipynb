{
 "cells": [
  {
   "cell_type": "markdown",
   "id": "4e8588f3-dfa7-458a-bd29-ba7a10035687",
   "metadata": {},
   "source": [
    "# Fish measurements\n",
    "\n",
    "The dataset `../data/Fish.csv` contains measurements for several fish, specifically:\n",
    "\n",
    "- **Species**: species name of fish\n",
    "- **Weight**: weight of fish in Gram g\n",
    "- **Length1**: vertical length in cm\n",
    "- **Length2**: diagonal length in cm\n",
    "- **Length3**: cross length in cm\n",
    "- **Height**: height in cm\n",
    "- **Width**: diagonal width in cm"
   ]
  },
  {
   "cell_type": "markdown",
   "id": "e2648be1-eb21-40ac-b89d-d08fa2f117d5",
   "metadata": {},
   "source": [
    "# Imports"
   ]
  },
  {
   "cell_type": "code",
   "execution_count": 4,
   "id": "88b56425-4532-4526-af87-c7dac0b01528",
   "metadata": {},
   "outputs": [],
   "source": [
    "import pandas as pd\n",
    "from sklearn.linear_model import LinearRegression"
   ]
  },
  {
   "cell_type": "markdown",
   "id": "f94a28dc-9b4c-42d3-90fb-e89b578aa9ee",
   "metadata": {},
   "source": [
    "# Exercise 1.1 - read the data"
   ]
  },
  {
   "cell_type": "code",
   "execution_count": 5,
   "id": "41ee46b4-e2de-44cf-9f7c-67da6815c30c",
   "metadata": {},
   "outputs": [],
   "source": [
    "# df = ..."
   ]
  },
  {
   "cell_type": "markdown",
   "id": "a1ca2242-cbf8-4dd9-b9ee-5772a391b18a",
   "metadata": {},
   "source": [
    "# Exercise 1.2 - display the first 5 rows of the dataset"
   ]
  },
  {
   "cell_type": "code",
   "execution_count": null,
   "id": "d7d21f5d-df49-4549-90a4-d6857a781a86",
   "metadata": {},
   "outputs": [],
   "source": [
    "# ..."
   ]
  },
  {
   "cell_type": "markdown",
   "id": "4bf7dc76-6fea-4744-bb0e-f7f242bd78a3",
   "metadata": {},
   "source": [
    "# Exercise 1.3 - display the last 3 rows of the dataset"
   ]
  },
  {
   "cell_type": "code",
   "execution_count": 9,
   "id": "336301fc-e298-4370-b180-84ed07b50d33",
   "metadata": {},
   "outputs": [],
   "source": [
    "# ..."
   ]
  },
  {
   "cell_type": "markdown",
   "id": "82b69a0a-c293-41fc-9306-b6a30e3899e6",
   "metadata": {},
   "source": [
    "# Exercise 1.4 - How many rows and columns does the dataset have?"
   ]
  },
  {
   "cell_type": "code",
   "execution_count": 7,
   "id": "366a696c-e67e-45ca-9b8f-8da30748b46c",
   "metadata": {},
   "outputs": [],
   "source": [
    "# nrows =\n",
    "# ncols = "
   ]
  },
  {
   "cell_type": "markdown",
   "id": "36d2dba2-3e31-4351-a679-02cee1020310",
   "metadata": {},
   "source": [
    "# Exercise 1.5 - define the features and target\n",
    "\n",
    "we want as features: **Length1**, **Length2**, **Length3**, **Height**, **Width**\n",
    "\n",
    "and as target: **Weight**"
   ]
  },
  {
   "cell_type": "code",
   "execution_count": 11,
   "id": "834a83a0-d170-4dee-8130-38480037fb04",
   "metadata": {},
   "outputs": [],
   "source": [
    "# X = ...\n",
    "# y = ..."
   ]
  },
  {
   "cell_type": "markdown",
   "id": "66ec3956-a05d-4dcc-abd7-21b1069076d0",
   "metadata": {},
   "source": [
    "# Exercise 1.6 - Train a Linear Regression on this data"
   ]
  },
  {
   "cell_type": "code",
   "execution_count": 13,
   "id": "6d9d6636-e636-4ecb-96f9-a6e0146d32f8",
   "metadata": {},
   "outputs": [],
   "source": [
    "# initialize the model\n",
    "# model = ...\n",
    "\n",
    "# fit/train the model\n",
    "# ..."
   ]
  },
  {
   "cell_type": "markdown",
   "id": "10af3c74-0f99-4201-ac00-43b4c73b6911",
   "metadata": {},
   "source": [
    "# Exercise 1.7 - Optimizing the business\n",
    "\n",
    "You realize that 20% of the time spent processing the fish in the market is just on weighting them!\n",
    "\n",
    "You want to present your boss a novel idea for saving workers' time by automating the weight measurement of fishes using other measurements as a proxy. \n",
    "\n",
    "So you have prepared some examples to showcase him:"
   ]
  },
  {
   "cell_type": "code",
   "execution_count": 12,
   "id": "9ca8113f-acbf-46a9-a601-f739cbaeb69a",
   "metadata": {},
   "outputs": [
    {
     "data": {
      "text/html": [
       "<div>\n",
       "<style scoped>\n",
       "    .dataframe tbody tr th:only-of-type {\n",
       "        vertical-align: middle;\n",
       "    }\n",
       "\n",
       "    .dataframe tbody tr th {\n",
       "        vertical-align: top;\n",
       "    }\n",
       "\n",
       "    .dataframe thead th {\n",
       "        text-align: right;\n",
       "    }\n",
       "</style>\n",
       "<table border=\"1\" class=\"dataframe\">\n",
       "  <thead>\n",
       "    <tr style=\"text-align: right;\">\n",
       "      <th></th>\n",
       "      <th>Length1</th>\n",
       "      <th>Length2</th>\n",
       "      <th>Length3</th>\n",
       "      <th>Height</th>\n",
       "      <th>Width</th>\n",
       "    </tr>\n",
       "  </thead>\n",
       "  <tbody>\n",
       "    <tr>\n",
       "      <th>0</th>\n",
       "      <td>22.1</td>\n",
       "      <td>24.9</td>\n",
       "      <td>29.0</td>\n",
       "      <td>10.42</td>\n",
       "      <td>3.98</td>\n",
       "    </tr>\n",
       "    <tr>\n",
       "      <th>1</th>\n",
       "      <td>23.5</td>\n",
       "      <td>23.5</td>\n",
       "      <td>31.0</td>\n",
       "      <td>10.32</td>\n",
       "      <td>4.01</td>\n",
       "    </tr>\n",
       "    <tr>\n",
       "      <th>2</th>\n",
       "      <td>24.1</td>\n",
       "      <td>22.8</td>\n",
       "      <td>30.5</td>\n",
       "      <td>10.58</td>\n",
       "      <td>3.60</td>\n",
       "    </tr>\n",
       "  </tbody>\n",
       "</table>\n",
       "</div>"
      ],
      "text/plain": [
       "   Length1  Length2  Length3  Height  Width\n",
       "0     22.1     24.9     29.0   10.42   3.98\n",
       "1     23.5     23.5     31.0   10.32   4.01\n",
       "2     24.1     22.8     30.5   10.58   3.60"
      ]
     },
     "execution_count": 12,
     "metadata": {},
     "output_type": "execute_result"
    }
   ],
   "source": [
    "# here's the data of the new batch of fish\n",
    "new_batch_of_fish = pd.DataFrame(\n",
    "                        [\n",
    "                            [22.1, 24.9, 29.0, 10.42, 3.98],\n",
    "                            [23.5, 23.5, 31.0, 10.32, 4.01],\n",
    "                            [24.1, 22.8, 30.5, 10.58, 3.60]\n",
    "                        ]\n",
    "                        ,\n",
    "                        columns=X.columns)\n",
    "new_batch_of_fish"
   ]
  },
  {
   "cell_type": "markdown",
   "id": "5bf8f586-7dcb-4a5c-8b4f-9c4a1bb5ee95",
   "metadata": {},
   "source": [
    "Now use your model to automatically assign a weight to each fish!"
   ]
  },
  {
   "cell_type": "code",
   "execution_count": 22,
   "id": "f6a3d5bd-400c-48ed-88e3-b050518d1885",
   "metadata": {},
   "outputs": [],
   "source": [
    "# predictions = ..."
   ]
  }
 ],
 "metadata": {
  "kernelspec": {
   "display_name": "Python 3 (ipykernel)",
   "language": "python",
   "name": "python3"
  },
  "language_info": {
   "codemirror_mode": {
    "name": "ipython",
    "version": 3
   },
   "file_extension": ".py",
   "mimetype": "text/x-python",
   "name": "python",
   "nbconvert_exporter": "python",
   "pygments_lexer": "ipython3",
   "version": "3.10.9"
  }
 },
 "nbformat": 4,
 "nbformat_minor": 5
}
