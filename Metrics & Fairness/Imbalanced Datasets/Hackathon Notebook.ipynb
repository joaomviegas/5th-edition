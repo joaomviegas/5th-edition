{
 "cells": [
  {
   "cell_type": "markdown",
   "metadata": {},
   "source": [
    "# Welcome\n",
    "\n",
    "In this exercises notebook you are going to to a small hackathon. The dataset is in `data/mini_hackathon_data.csv`. As you may have guessed, it is an imbalanced dataset. Your objective is to apply what you've learned in the Learning Notebook of this unit to develop a machine learning model and its respective analysis.\n",
    "\n",
    "# Dataset Overview\n",
    "\n",
    "It is important that credit card companies are able to recognize fraudulent credit card transactions so that customers are not charged for items that they did not purchase.\n",
    "\n",
    "\n",
    "The dataset contains transactions made by credit cards in September 2013 by European cardholders.\n",
    "This dataset presents transactions that occurred in two days, where we have 492 frauds out of 284,807 transactions. The dataset is highly unbalanced, the positive class (frauds) account for 0.172% of all transactions.\n",
    "\n",
    "It contains only numerical input variables which are the result of a PCA transformation. Unfortunately, due to confidentiality issues, we cannot provide the original features and more background information about the data. Features V1, V2, … V28 are the principal components obtained with PCA, the only features which have not been transformed with PCA are 'Time' and 'Amount'. Feature 'Time' contains the seconds elapsed between each transaction and the first transaction in the dataset. The feature 'Amount' is the transaction Amount, this feature can be used for example-dependant cost-sensitive learning. Feature 'Class' is the response variable and it takes value 1 in case of fraud and 0 otherwise.\n",
    "\n",
    "# Objectives\n",
    "\n",
    "1. Read and clean/preprocess the data\n",
    "2. perform Exploratory Data Analysis to understand the data\n",
    "3. create a baseline model (you shouln't try a very complex model here nor search for hyperparameters)\n",
    "4. Analyze performance of your model in different metrics.\n",
    "5. **Very Important** Perform a threshold analysis and choose a threshold that you think makes sense for the business. Justify your choice with a small text explanation in a markdown cell that highlights the trade-off you are accepting.\n",
    "6. (if you still have remaining time) perform cross validation on more complex models and a broad search of hyperparameters\n",
    "7. Redo your analysis and report the comparisson of your baseline model against your improved model\n",
    "8. List future work you would like to try if you had more time"
   ]
  },
  {
   "cell_type": "markdown",
   "metadata": {},
   "source": []
  }
 ],
 "metadata": {
  "language_info": {
   "name": "python"
  }
 },
 "nbformat": 4,
 "nbformat_minor": 2
}
