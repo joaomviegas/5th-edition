{
 "cells": [
  {
   "cell_type": "markdown",
   "id": "6ea2af7e",
   "metadata": {},
   "source": [
    "# What this notebook teaches\n",
    "\n",
    "1. Common pandas operations: **.unique**, **.value_counts**, **.where**\n",
    "2. Common numerical operations with pandas: **.mean**, **.sum**, **.max**, **.idxmax**, **.min**, **.idxmin**, **.diff**\n",
    "3. masking in pandas : the basics\n",
    "4. plotting with pandas: **bar**, **line** and **histogram** plots\n"
   ]
  },
  {
   "cell_type": "markdown",
   "id": "f7fbbc63",
   "metadata": {},
   "source": [
    "# Options"
   ]
  },
  {
   "cell_type": "code",
   "execution_count": 2,
   "id": "4553e9e5",
   "metadata": {},
   "outputs": [],
   "source": [
    "from IPython.core.interactiveshell import InteractiveShell\n",
    "InteractiveShell.ast_node_interactivity = \"all\""
   ]
  },
  {
   "cell_type": "markdown",
   "id": "fde89700",
   "metadata": {},
   "source": [
    "# Imports"
   ]
  },
  {
   "cell_type": "code",
   "execution_count": 3,
   "id": "e015b5f9",
   "metadata": {},
   "outputs": [],
   "source": [
    "import os\n",
    "import pandas as pd\n",
    "import matplotlib.pyplot as plt"
   ]
  },
  {
   "cell_type": "markdown",
   "id": "4a9dfc34",
   "metadata": {},
   "source": [
    "# Read the data"
   ]
  },
  {
   "cell_type": "code",
   "execution_count": 4,
   "id": "81ddb58e",
   "metadata": {},
   "outputs": [
    {
     "data": {
      "text/html": [
       "<div>\n",
       "<style scoped>\n",
       "    .dataframe tbody tr th:only-of-type {\n",
       "        vertical-align: middle;\n",
       "    }\n",
       "\n",
       "    .dataframe tbody tr th {\n",
       "        vertical-align: top;\n",
       "    }\n",
       "\n",
       "    .dataframe thead th {\n",
       "        text-align: right;\n",
       "    }\n",
       "</style>\n",
       "<table border=\"1\" class=\"dataframe\">\n",
       "  <thead>\n",
       "    <tr style=\"text-align: right;\">\n",
       "      <th></th>\n",
       "      <th>Entity</th>\n",
       "      <th>Year</th>\n",
       "      <th>Access to electricity (% of population)</th>\n",
       "      <th>Access to clean fuels for cooking</th>\n",
       "      <th>Renewable-electricity-generating-capacity-per-capita</th>\n",
       "      <th>Financial flows to developing countries (US $)</th>\n",
       "      <th>Renewable energy share in the total final energy consumption (%)</th>\n",
       "      <th>Electricity from fossil fuels (TWh)</th>\n",
       "      <th>Electricity from nuclear (TWh)</th>\n",
       "      <th>Electricity from renewables (TWh)</th>\n",
       "      <th>...</th>\n",
       "      <th>Primary energy consumption per capita (kWh/person)</th>\n",
       "      <th>Energy intensity level of primary energy (MJ/$2017 PPP GDP)</th>\n",
       "      <th>Value_co2_emissions_kt_by_country</th>\n",
       "      <th>Renewables (% equivalent primary energy)</th>\n",
       "      <th>gdp_growth</th>\n",
       "      <th>gdp_per_capita</th>\n",
       "      <th>Density\\n(P/Km2)</th>\n",
       "      <th>Land Area(Km2)</th>\n",
       "      <th>Latitude</th>\n",
       "      <th>Longitude</th>\n",
       "    </tr>\n",
       "  </thead>\n",
       "  <tbody>\n",
       "    <tr>\n",
       "      <th>0</th>\n",
       "      <td>Afghanistan</td>\n",
       "      <td>2000</td>\n",
       "      <td>1.613591</td>\n",
       "      <td>6.2</td>\n",
       "      <td>9.22</td>\n",
       "      <td>20000.0</td>\n",
       "      <td>44.99</td>\n",
       "      <td>0.16</td>\n",
       "      <td>0.0</td>\n",
       "      <td>0.31</td>\n",
       "      <td>...</td>\n",
       "      <td>302.59482</td>\n",
       "      <td>1.64</td>\n",
       "      <td>760.000000</td>\n",
       "      <td>NaN</td>\n",
       "      <td>NaN</td>\n",
       "      <td>NaN</td>\n",
       "      <td>60</td>\n",
       "      <td>652230.0</td>\n",
       "      <td>33.93911</td>\n",
       "      <td>67.709953</td>\n",
       "    </tr>\n",
       "    <tr>\n",
       "      <th>1</th>\n",
       "      <td>Afghanistan</td>\n",
       "      <td>2001</td>\n",
       "      <td>4.074574</td>\n",
       "      <td>7.2</td>\n",
       "      <td>8.86</td>\n",
       "      <td>130000.0</td>\n",
       "      <td>45.60</td>\n",
       "      <td>0.09</td>\n",
       "      <td>0.0</td>\n",
       "      <td>0.50</td>\n",
       "      <td>...</td>\n",
       "      <td>236.89185</td>\n",
       "      <td>1.74</td>\n",
       "      <td>730.000000</td>\n",
       "      <td>NaN</td>\n",
       "      <td>NaN</td>\n",
       "      <td>NaN</td>\n",
       "      <td>60</td>\n",
       "      <td>652230.0</td>\n",
       "      <td>33.93911</td>\n",
       "      <td>67.709953</td>\n",
       "    </tr>\n",
       "    <tr>\n",
       "      <th>2</th>\n",
       "      <td>Afghanistan</td>\n",
       "      <td>2002</td>\n",
       "      <td>9.409158</td>\n",
       "      <td>8.2</td>\n",
       "      <td>8.47</td>\n",
       "      <td>3950000.0</td>\n",
       "      <td>37.83</td>\n",
       "      <td>0.13</td>\n",
       "      <td>0.0</td>\n",
       "      <td>0.56</td>\n",
       "      <td>...</td>\n",
       "      <td>210.86215</td>\n",
       "      <td>1.40</td>\n",
       "      <td>1029.999971</td>\n",
       "      <td>NaN</td>\n",
       "      <td>NaN</td>\n",
       "      <td>179.426579</td>\n",
       "      <td>60</td>\n",
       "      <td>652230.0</td>\n",
       "      <td>33.93911</td>\n",
       "      <td>67.709953</td>\n",
       "    </tr>\n",
       "  </tbody>\n",
       "</table>\n",
       "<p>3 rows × 21 columns</p>\n",
       "</div>"
      ],
      "text/plain": [
       "        Entity  Year  Access to electricity (% of population)  \\\n",
       "0  Afghanistan  2000                                 1.613591   \n",
       "1  Afghanistan  2001                                 4.074574   \n",
       "2  Afghanistan  2002                                 9.409158   \n",
       "\n",
       "   Access to clean fuels for cooking  \\\n",
       "0                                6.2   \n",
       "1                                7.2   \n",
       "2                                8.2   \n",
       "\n",
       "   Renewable-electricity-generating-capacity-per-capita  \\\n",
       "0                                               9.22      \n",
       "1                                               8.86      \n",
       "2                                               8.47      \n",
       "\n",
       "   Financial flows to developing countries (US $)  \\\n",
       "0                                         20000.0   \n",
       "1                                        130000.0   \n",
       "2                                       3950000.0   \n",
       "\n",
       "   Renewable energy share in the total final energy consumption (%)  \\\n",
       "0                                              44.99                  \n",
       "1                                              45.60                  \n",
       "2                                              37.83                  \n",
       "\n",
       "   Electricity from fossil fuels (TWh)  Electricity from nuclear (TWh)  \\\n",
       "0                                 0.16                             0.0   \n",
       "1                                 0.09                             0.0   \n",
       "2                                 0.13                             0.0   \n",
       "\n",
       "   Electricity from renewables (TWh)  ...  \\\n",
       "0                               0.31  ...   \n",
       "1                               0.50  ...   \n",
       "2                               0.56  ...   \n",
       "\n",
       "   Primary energy consumption per capita (kWh/person)  \\\n",
       "0                                          302.59482    \n",
       "1                                          236.89185    \n",
       "2                                          210.86215    \n",
       "\n",
       "   Energy intensity level of primary energy (MJ/$2017 PPP GDP)  \\\n",
       "0                                               1.64             \n",
       "1                                               1.74             \n",
       "2                                               1.40             \n",
       "\n",
       "   Value_co2_emissions_kt_by_country  \\\n",
       "0                         760.000000   \n",
       "1                         730.000000   \n",
       "2                        1029.999971   \n",
       "\n",
       "   Renewables (% equivalent primary energy)  gdp_growth  gdp_per_capita  \\\n",
       "0                                       NaN         NaN             NaN   \n",
       "1                                       NaN         NaN             NaN   \n",
       "2                                       NaN         NaN      179.426579   \n",
       "\n",
       "   Density\\n(P/Km2) Land Area(Km2)  Latitude  Longitude  \n",
       "0                60       652230.0  33.93911  67.709953  \n",
       "1                60       652230.0  33.93911  67.709953  \n",
       "2                60       652230.0  33.93911  67.709953  \n",
       "\n",
       "[3 rows x 21 columns]"
      ]
     },
     "execution_count": 4,
     "metadata": {},
     "output_type": "execute_result"
    },
    {
     "data": {
      "text/plain": [
       "(3649, 21)"
      ]
     },
     "execution_count": 4,
     "metadata": {},
     "output_type": "execute_result"
    }
   ],
   "source": [
    "df = pd.read_csv(os.path.join('data/global-data-on-sustainable-energy.csv'))\n",
    "df.head(3)\n",
    "df.shape"
   ]
  },
  {
   "cell_type": "markdown",
   "id": "cb91c6f0",
   "metadata": {},
   "source": [
    "# Documentation"
   ]
  },
  {
   "cell_type": "markdown",
   "id": "74945c4a",
   "metadata": {},
   "source": [
    "About the Dataset: \n",
    "\n",
    "The data is collected from multiple sources including the World Bank, the International Energy Agency, and ourworldindata.org. [source](https://www.kaggle.com/datasets/anshtanwar/global-data-on-sustainable-energy)\n",
    "\n",
    "- **Entity**: The name of the country or region for which the data is reported.\n",
    "- **Year**: The year for which the data is reported, ranging from 2000 to 2020.\n",
    "- **Access to electricity (% of population)**: The percentage of population with access to electricity.\n",
    "- **Access to clean fuels for cooking (% of population)**: The percentage of the population with primary reliance on clean fuels.\n",
    "- **Renewable-electricity-generating-capacity-per-capita**: Installed Renewable energy capacity per person\n",
    "- **Financial flows to developing countries (US \\$):** Aid and assistance from developed countries for clean energy projects.\n",
    "- **Renewable energy share in total final energy consumption (\\%):** Percentage of renewable energy in final energy consumption.\n",
    "- **Electricity from fossil fuels (TWh):** Electricity generated from fossil fuels (coal, oil, gas) in terawatt-hours.\n",
    "- **Electricity from nuclear (TWh):** Electricity generated from nuclear power in terawatt-hours.\n",
    "- **Electricity from renewables (TWh):** Electricity generated from renewable sources (hydro, solar, wind, etc.) in terawatt-hours.\n",
    "- **Low-carbon electricity (\\% electricity):** Percentage of electricity from low-carbon sources (nuclear and renewables).\n",
    "- **Primary energy consumption per capita (kWh/person):** Energy consumption per person in kilowatt-hours.\n",
    "- **Energy intensity level of primary energy (MJ/\\$2011 PPP GDP):** Energy use per unit of GDP at purchasing power parity.\n",
    "- **Value_co2_emissions (metric tons per capita):** Carbon dioxide emissions per person in metric tons.\n",
    "- **Renewables (\\% equivalent primary energy):** Equivalent primary energy that is derived from renewable sources.\n",
    "- **GDP growth (annual \\%):** Annual GDP growth rate based on constant local currency.\n",
    "- **GDP per capita:** Gross domestic product per person.\n",
    "- **Density (P/Km2):** Population density in persons per square kilometer.\n",
    "- **Land Area (Km2):** Total land area in square kilometers.\n",
    "- **Latitude:** Latitude of the country's centroid in decimal degrees.\n",
    "- **Longitude:** Longitude of the country's centroid in decimal degrees."
   ]
  },
  {
   "cell_type": "markdown",
   "id": "bf05bc71",
   "metadata": {},
   "source": [
    "# Let's begin"
   ]
  },
  {
   "cell_type": "markdown",
   "id": "f4aeff15",
   "metadata": {},
   "source": [
    "Seems to be data about countries, which countries are we talking about?"
   ]
  },
  {
   "cell_type": "code",
   "execution_count": 7,
   "id": "48e6a980",
   "metadata": {},
   "outputs": [
    {
     "data": {
      "text/plain": [
       "array(['Afghanistan', 'Albania', 'Algeria', 'Angola',\n",
       "       'Antigua and Barbuda', 'Argentina', 'Armenia', 'Aruba',\n",
       "       'Australia', 'Austria', 'Azerbaijan', 'Bahamas', 'Bahrain',\n",
       "       'Bangladesh', 'Barbados', 'Belarus', 'Belgium', 'Belize', 'Benin',\n",
       "       'Bermuda', 'Bhutan', 'Bosnia and Herzegovina', 'Botswana',\n",
       "       'Brazil', 'Bulgaria', 'Burkina Faso', 'Burundi', 'Cambodia',\n",
       "       'Cameroon', 'Canada', 'Cayman Islands', 'Central African Republic',\n",
       "       'Chad', 'Chile', 'China', 'Colombia', 'Comoros', 'Congo',\n",
       "       'Costa Rica', 'Croatia', 'Cuba', 'Cyprus', 'Czechia', 'Denmark',\n",
       "       'Djibouti', 'Dominica', 'Dominican Republic', 'Ecuador', 'Egypt',\n",
       "       'El Salvador', 'Equatorial Guinea', 'Eritrea', 'Estonia',\n",
       "       'Eswatini', 'Ethiopia', 'Fiji', 'Finland', 'France',\n",
       "       'French Guiana', 'Gabon', 'Gambia', 'Georgia', 'Germany', 'Ghana',\n",
       "       'Greece', 'Grenada', 'Guatemala', 'Guinea', 'Guinea-Bissau',\n",
       "       'Guyana', 'Haiti', 'Honduras', 'Hungary', 'Iceland', 'India',\n",
       "       'Indonesia', 'Iraq', 'Ireland', 'Israel', 'Italy', 'Jamaica',\n",
       "       'Japan', 'Jordan', 'Kazakhstan', 'Kenya', 'Kiribati', 'Kuwait',\n",
       "       'Kyrgyzstan', 'Latvia', 'Lebanon', 'Lesotho', 'Liberia', 'Libya',\n",
       "       'Lithuania', 'Luxembourg', 'Madagascar', 'Malawi', 'Malaysia',\n",
       "       'Maldives', 'Mali', 'Malta', 'Mauritania', 'Mauritius', 'Mexico',\n",
       "       'Mongolia', 'Montenegro', 'Morocco', 'Mozambique', 'Myanmar',\n",
       "       'Namibia', 'Nauru', 'Nepal', 'Netherlands', 'New Caledonia',\n",
       "       'New Zealand', 'Nicaragua', 'Niger', 'Nigeria', 'North Macedonia',\n",
       "       'Norway', 'Oman', 'Pakistan', 'Panama', 'Papua New Guinea',\n",
       "       'Paraguay', 'Peru', 'Philippines', 'Poland', 'Portugal',\n",
       "       'Puerto Rico', 'Qatar', 'Romania', 'Rwanda',\n",
       "       'Saint Kitts and Nevis', 'Saint Lucia',\n",
       "       'Saint Vincent and the Grenadines', 'Samoa',\n",
       "       'Sao Tome and Principe', 'Saudi Arabia', 'Senegal', 'Serbia',\n",
       "       'Seychelles', 'Sierra Leone', 'Singapore', 'Slovakia', 'Slovenia',\n",
       "       'Solomon Islands', 'Somalia', 'South Africa', 'South Sudan',\n",
       "       'Spain', 'Sri Lanka', 'Sudan', 'Suriname', 'Sweden', 'Switzerland',\n",
       "       'Tajikistan', 'Thailand', 'Togo', 'Tonga', 'Trinidad and Tobago',\n",
       "       'Tunisia', 'Turkey', 'Turkmenistan', 'Tuvalu', 'Uganda', 'Ukraine',\n",
       "       'United Arab Emirates', 'United Kingdom', 'United States',\n",
       "       'Uruguay', 'Uzbekistan', 'Vanuatu', 'Yemen', 'Zambia', 'Zimbabwe'],\n",
       "      dtype=object)"
      ]
     },
     "execution_count": 7,
     "metadata": {},
     "output_type": "execute_result"
    }
   ],
   "source": [
    "df['Entity'].unique()"
   ]
  },
  {
   "cell_type": "markdown",
   "id": "fb36d198",
   "metadata": {},
   "source": [
    "A lot of them apparently, how many exactly?"
   ]
  },
  {
   "cell_type": "code",
   "execution_count": 8,
   "id": "d1d5f75b",
   "metadata": {},
   "outputs": [
    {
     "data": {
      "text/plain": [
       "176"
      ]
     },
     "execution_count": 8,
     "metadata": {},
     "output_type": "execute_result"
    }
   ],
   "source": [
    "df['Entity'].nunique()"
   ]
  },
  {
   "cell_type": "markdown",
   "id": "a96a0d66",
   "metadata": {},
   "source": [
    "Also what is the timeframe we have here?"
   ]
  },
  {
   "cell_type": "code",
   "execution_count": 11,
   "id": "6a04adee",
   "metadata": {},
   "outputs": [
    {
     "data": {
      "text/plain": [
       "array([2000, 2001, 2002, 2003, 2004, 2005, 2006, 2007, 2008, 2009, 2010,\n",
       "       2011, 2012, 2013, 2014, 2015, 2016, 2017, 2018, 2019, 2020])"
      ]
     },
     "execution_count": 11,
     "metadata": {},
     "output_type": "execute_result"
    }
   ],
   "source": [
    "df['Year'].unique()"
   ]
  },
  {
   "cell_type": "markdown",
   "id": "a569b3d5",
   "metadata": {},
   "source": [
    "How many data for each country?"
   ]
  },
  {
   "cell_type": "code",
   "execution_count": 10,
   "id": "3c3d5c7c",
   "metadata": {},
   "outputs": [
    {
     "data": {
      "text/plain": [
       "Entity\n",
       "Afghanistan      21\n",
       "Oman             21\n",
       "Netherlands      21\n",
       "New Caledonia    21\n",
       "New Zealand      21\n",
       "                 ..\n",
       "Zimbabwe         21\n",
       "Serbia           14\n",
       "Montenegro       14\n",
       "South Sudan       8\n",
       "French Guiana     1\n",
       "Name: count, Length: 176, dtype: int64"
      ]
     },
     "execution_count": 10,
     "metadata": {},
     "output_type": "execute_result"
    }
   ],
   "source": [
    "df['Entity'].value_counts()"
   ]
  },
  {
   "cell_type": "markdown",
   "id": "cc5dd379",
   "metadata": {},
   "source": [
    "It seems most countries have 21 datapoints which are probably one for each year. Some countries don't have all 21 datapoints though"
   ]
  },
  {
   "cell_type": "code",
   "execution_count": null,
   "id": "1a24eaad",
   "metadata": {},
   "outputs": [],
   "source": [
    "def check_if_less_than_21(value):\n",
    "    return value < 21"
   ]
  },
  {
   "cell_type": "code",
   "execution_count": 13,
   "id": "fa738811",
   "metadata": {},
   "outputs": [
    {
     "data": {
      "text/plain": [
       "Entity\n",
       "Serbia           14.0\n",
       "Montenegro       14.0\n",
       "South Sudan       8.0\n",
       "French Guiana     1.0\n",
       "Name: count, dtype: float64"
      ]
     },
     "execution_count": 13,
     "metadata": {},
     "output_type": "execute_result"
    }
   ],
   "source": [
    "df['Entity'].value_counts().where(lambda value: value < 21).dropna()\n",
    "#df['Entity'].value_counts().where(check_if_less_than_21).dropna()"
   ]
  },
  {
   "cell_type": "markdown",
   "id": "b9c90b34",
   "metadata": {},
   "source": [
    "Countries that don't have the full data: Serbia, Montenegro, South Sudan, French Guiana"
   ]
  },
  {
   "cell_type": "markdown",
   "id": "66e69f45",
   "metadata": {},
   "source": [
    "There is another way to count how many countries have the full 21 datapoints and how many have other values"
   ]
  },
  {
   "cell_type": "code",
   "execution_count": 15,
   "id": "ae04e7a8",
   "metadata": {},
   "outputs": [
    {
     "data": {
      "text/plain": [
       "count\n",
       "21    172\n",
       "14      2\n",
       "8       1\n",
       "1       1\n",
       "Name: count, dtype: int64"
      ]
     },
     "execution_count": 15,
     "metadata": {},
     "output_type": "execute_result"
    }
   ],
   "source": [
    "df['Entity'].value_counts().value_counts()"
   ]
  },
  {
   "cell_type": "markdown",
   "id": "35493dbb",
   "metadata": {},
   "source": [
    "# Math operations"
   ]
  },
  {
   "cell_type": "markdown",
   "id": "91489a1f",
   "metadata": {},
   "source": [
    "## Mean"
   ]
  },
  {
   "cell_type": "markdown",
   "id": "5486ff26",
   "metadata": {},
   "source": [
    "What is the % population with access to electricity, on average?"
   ]
  },
  {
   "cell_type": "code",
   "execution_count": 17,
   "id": "90148a67",
   "metadata": {},
   "outputs": [
    {
     "data": {
      "text/plain": [
       "78.93370216207748"
      ]
     },
     "execution_count": 17,
     "metadata": {},
     "output_type": "execute_result"
    }
   ],
   "source": [
    "df.loc[:,'Access to electricity (% of population)'].mean()"
   ]
  },
  {
   "cell_type": "markdown",
   "id": "b2f8cef0",
   "metadata": {},
   "source": [
    "## Sum"
   ]
  },
  {
   "cell_type": "markdown",
   "id": "f6ce4ec0",
   "metadata": {},
   "source": [
    "In total how much $ did these countries send to assist developing countries for clean energy projects?"
   ]
  },
  {
   "cell_type": "code",
   "execution_count": 18,
   "id": "210f42d8",
   "metadata": {},
   "outputs": [
    {
     "data": {
      "text/plain": [
       "146989440000.0"
      ]
     },
     "execution_count": 18,
     "metadata": {},
     "output_type": "execute_result"
    }
   ],
   "source": [
    "df.loc[:,'Financial flows to developing countries (US $)'].sum()"
   ]
  },
  {
   "cell_type": "markdown",
   "id": "89528ef0",
   "metadata": {},
   "source": [
    "Cool! Let's check this value in billions"
   ]
  },
  {
   "cell_type": "code",
   "execution_count": 20,
   "id": "ac063dff",
   "metadata": {},
   "outputs": [
    {
     "data": {
      "text/plain": [
       "146.98944"
      ]
     },
     "execution_count": 20,
     "metadata": {},
     "output_type": "execute_result"
    }
   ],
   "source": [
    "df.loc[:,'Financial flows to developing countries (US $)'].sum() / 1_000_000_000"
   ]
  },
  {
   "cell_type": "markdown",
   "id": "56e6e488",
   "metadata": {},
   "source": [
    "$147 billion throughout 2000-2020!"
   ]
  },
  {
   "cell_type": "markdown",
   "id": "7701db53",
   "metadata": {},
   "source": [
    "----"
   ]
  },
  {
   "cell_type": "markdown",
   "id": "25217ddc",
   "metadata": {},
   "source": [
    "## Max, idxmax, Min, idxmin"
   ]
  },
  {
   "cell_type": "markdown",
   "id": "00216971",
   "metadata": {},
   "source": [
    "What is the Country-year that had the most electricity generated from nuclear power?"
   ]
  },
  {
   "cell_type": "code",
   "execution_count": 23,
   "id": "c6e87b70",
   "metadata": {},
   "outputs": [
    {
     "data": {
      "text/plain": [
       "809.41"
      ]
     },
     "execution_count": 23,
     "metadata": {},
     "output_type": "execute_result"
    }
   ],
   "source": [
    "df['Electricity from nuclear (TWh)'].max()"
   ]
  },
  {
   "cell_type": "markdown",
   "id": "bed6eb0e",
   "metadata": {},
   "source": [
    "Ok this just returned the value of the max, but i actually want to know the Country and respective year where this happened"
   ]
  },
  {
   "cell_type": "code",
   "execution_count": 20,
   "id": "f939c8f4",
   "metadata": {},
   "outputs": [
    {
     "data": {
      "text/plain": [
       "3521"
      ]
     },
     "execution_count": 20,
     "metadata": {},
     "output_type": "execute_result"
    }
   ],
   "source": [
    "index = df['Electricity from nuclear (TWh)'].idxmax()\n",
    "index"
   ]
  },
  {
   "cell_type": "code",
   "execution_count": 21,
   "id": "a07215c9",
   "metadata": {},
   "outputs": [
    {
     "data": {
      "text/plain": [
       "Entity                            United States\n",
       "Year                                       2019\n",
       "Electricity from nuclear (TWh)           809.41\n",
       "Name: 3521, dtype: object"
      ]
     },
     "execution_count": 21,
     "metadata": {},
     "output_type": "execute_result"
    }
   ],
   "source": [
    "df.loc[index,['Entity','Year','Electricity from nuclear (TWh)']]"
   ]
  },
  {
   "cell_type": "markdown",
   "id": "41fce06d",
   "metadata": {},
   "source": [
    "Wanna do all that in a single step?"
   ]
  },
  {
   "cell_type": "code",
   "execution_count": 22,
   "id": "d6959384",
   "metadata": {},
   "outputs": [
    {
     "data": {
      "text/plain": [
       "Entity                            United States\n",
       "Year                                       2019\n",
       "Electricity from nuclear (TWh)           809.41\n",
       "Name: 3521, dtype: object"
      ]
     },
     "execution_count": 22,
     "metadata": {},
     "output_type": "execute_result"
    }
   ],
   "source": [
    "df.loc[df['Electricity from nuclear (TWh)'].idxmax(),\n",
    "       ['Entity','Year','Electricity from nuclear (TWh)']]"
   ]
  },
  {
   "cell_type": "markdown",
   "id": "50aa0993",
   "metadata": {},
   "source": [
    "----"
   ]
  },
  {
   "cell_type": "markdown",
   "id": "60979979",
   "metadata": {},
   "source": [
    "Country with the least amount of data in this dataset?"
   ]
  },
  {
   "cell_type": "code",
   "execution_count": 25,
   "id": "76252915",
   "metadata": {},
   "outputs": [
    {
     "data": {
      "text/plain": [
       "Entity\n",
       "Afghanistan      21\n",
       "Oman             21\n",
       "Netherlands      21\n",
       "New Caledonia    21\n",
       "New Zealand      21\n",
       "                 ..\n",
       "Zimbabwe         21\n",
       "Serbia           14\n",
       "Montenegro       14\n",
       "South Sudan       8\n",
       "French Guiana     1\n",
       "Name: count, Length: 176, dtype: int64"
      ]
     },
     "execution_count": 25,
     "metadata": {},
     "output_type": "execute_result"
    }
   ],
   "source": [
    "df['Entity'].value_counts()#.min()"
   ]
  },
  {
   "cell_type": "markdown",
   "id": "e9f98e85",
   "metadata": {},
   "source": [
    "Oops ran into the same problem again. The minimum is 1, but which country does it refer to?"
   ]
  },
  {
   "cell_type": "code",
   "execution_count": 26,
   "id": "5dae8896",
   "metadata": {},
   "outputs": [
    {
     "data": {
      "text/plain": [
       "'French Guiana'"
      ]
     },
     "execution_count": 26,
     "metadata": {},
     "output_type": "execute_result"
    }
   ],
   "source": [
    "df['Entity'].value_counts().idxmin()"
   ]
  },
  {
   "cell_type": "markdown",
   "id": "d725d181",
   "metadata": {},
   "source": [
    "Great!"
   ]
  },
  {
   "cell_type": "markdown",
   "id": "578fa110",
   "metadata": {},
   "source": [
    "## A lot more operations\n",
    "\n",
    "\n",
    "You can check other math operations you can do on Pandas [over here](https://pandas.pydata.org/pandas-docs/stable/user_guide/basics.html#descriptive-statistics)"
   ]
  },
  {
   "cell_type": "markdown",
   "id": "4a104750",
   "metadata": {},
   "source": [
    "# Masking"
   ]
  },
  {
   "cell_type": "markdown",
   "id": "bd51fc66",
   "metadata": {},
   "source": [
    "This is cool and all but we can only compute these stats for the whole dataset"
   ]
  },
  {
   "cell_type": "markdown",
   "id": "ad5a5496",
   "metadata": {},
   "source": [
    "![](media/will.jpeg)"
   ]
  },
  {
   "cell_type": "code",
   "execution_count": 34,
   "id": "f451f2f5",
   "metadata": {},
   "outputs": [
    {
     "data": {
      "text/plain": [
       "array(['Afghanistan', 'Albania', 'Algeria', 'Angola',\n",
       "       'Antigua and Barbuda'], dtype=object)"
      ]
     },
     "execution_count": 34,
     "metadata": {},
     "output_type": "execute_result"
    }
   ],
   "source": [
    "df['Entity'].unique()[:5]"
   ]
  },
  {
   "cell_type": "code",
   "execution_count": 30,
   "id": "1dc1cdb3",
   "metadata": {},
   "outputs": [],
   "source": [
    "angola_mask = df['Entity'] == 'Angola'"
   ]
  },
  {
   "cell_type": "markdown",
   "id": "c7a8f649",
   "metadata": {},
   "source": [
    "Let's see what we have here"
   ]
  },
  {
   "cell_type": "code",
   "execution_count": 31,
   "id": "26312d1a",
   "metadata": {},
   "outputs": [
    {
     "data": {
      "text/plain": [
       "0       False\n",
       "1       False\n",
       "2       False\n",
       "3       False\n",
       "4       False\n",
       "        ...  \n",
       "3644    False\n",
       "3645    False\n",
       "3646    False\n",
       "3647    False\n",
       "3648    False\n",
       "Name: Entity, Length: 3649, dtype: bool"
      ]
     },
     "execution_count": 31,
     "metadata": {},
     "output_type": "execute_result"
    }
   ],
   "source": [
    "angola_mask"
   ]
  },
  {
   "cell_type": "code",
   "execution_count": 32,
   "id": "3139c56b",
   "metadata": {},
   "outputs": [
    {
     "data": {
      "text/plain": [
       "Entity\n",
       "False    3628\n",
       "True       21\n",
       "Name: count, dtype: int64"
      ]
     },
     "execution_count": 32,
     "metadata": {},
     "output_type": "execute_result"
    }
   ],
   "source": [
    "angola_mask.value_counts()"
   ]
  },
  {
   "cell_type": "markdown",
   "id": "e3bbbeaa",
   "metadata": {},
   "source": [
    "- A series with a bunch of Falses and some Trues\n",
    "- The **True** values are for the rows where the condition above is ... well ... True!"
   ]
  },
  {
   "cell_type": "markdown",
   "id": "fc258dbd",
   "metadata": {},
   "source": [
    "![](media/what.jpeg)"
   ]
  },
  {
   "cell_type": "code",
   "execution_count": 39,
   "id": "386a8c8a",
   "metadata": {},
   "outputs": [
    {
     "data": {
      "text/html": [
       "<div>\n",
       "<style scoped>\n",
       "    .dataframe tbody tr th:only-of-type {\n",
       "        vertical-align: middle;\n",
       "    }\n",
       "\n",
       "    .dataframe tbody tr th {\n",
       "        vertical-align: top;\n",
       "    }\n",
       "\n",
       "    .dataframe thead th {\n",
       "        text-align: right;\n",
       "    }\n",
       "</style>\n",
       "<table border=\"1\" class=\"dataframe\">\n",
       "  <thead>\n",
       "    <tr style=\"text-align: right;\">\n",
       "      <th></th>\n",
       "      <th>Entity</th>\n",
       "      <th>Year</th>\n",
       "      <th>Access to electricity (% of population)</th>\n",
       "      <th>Access to clean fuels for cooking</th>\n",
       "      <th>Renewable-electricity-generating-capacity-per-capita</th>\n",
       "      <th>Financial flows to developing countries (US $)</th>\n",
       "      <th>Renewable energy share in the total final energy consumption (%)</th>\n",
       "      <th>Electricity from fossil fuels (TWh)</th>\n",
       "      <th>Electricity from nuclear (TWh)</th>\n",
       "      <th>Electricity from renewables (TWh)</th>\n",
       "      <th>...</th>\n",
       "      <th>Primary energy consumption per capita (kWh/person)</th>\n",
       "      <th>Energy intensity level of primary energy (MJ/$2017 PPP GDP)</th>\n",
       "      <th>Value_co2_emissions_kt_by_country</th>\n",
       "      <th>Renewables (% equivalent primary energy)</th>\n",
       "      <th>gdp_growth</th>\n",
       "      <th>gdp_per_capita</th>\n",
       "      <th>Density\\n(P/Km2)</th>\n",
       "      <th>Land Area(Km2)</th>\n",
       "      <th>Latitude</th>\n",
       "      <th>Longitude</th>\n",
       "    </tr>\n",
       "  </thead>\n",
       "  <tbody>\n",
       "    <tr>\n",
       "      <th>63</th>\n",
       "      <td>Angola</td>\n",
       "      <td>2000</td>\n",
       "      <td>24.212744</td>\n",
       "      <td>41.1</td>\n",
       "      <td>14.37</td>\n",
       "      <td>NaN</td>\n",
       "      <td>73.44</td>\n",
       "      <td>0.50</td>\n",
       "      <td>0.0</td>\n",
       "      <td>0.90</td>\n",
       "      <td>...</td>\n",
       "      <td>1979.2562</td>\n",
       "      <td>3.68</td>\n",
       "      <td>16200.00000</td>\n",
       "      <td>NaN</td>\n",
       "      <td>3.054624</td>\n",
       "      <td>556.838632</td>\n",
       "      <td>26</td>\n",
       "      <td>1246700.0</td>\n",
       "      <td>-11.202692</td>\n",
       "      <td>17.873887</td>\n",
       "    </tr>\n",
       "    <tr>\n",
       "      <th>64</th>\n",
       "      <td>Angola</td>\n",
       "      <td>2001</td>\n",
       "      <td>20.000000</td>\n",
       "      <td>41.7</td>\n",
       "      <td>13.90</td>\n",
       "      <td>NaN</td>\n",
       "      <td>72.34</td>\n",
       "      <td>0.58</td>\n",
       "      <td>0.0</td>\n",
       "      <td>1.01</td>\n",
       "      <td>...</td>\n",
       "      <td>2079.7320</td>\n",
       "      <td>3.65</td>\n",
       "      <td>15960.00000</td>\n",
       "      <td>NaN</td>\n",
       "      <td>4.205999</td>\n",
       "      <td>527.333529</td>\n",
       "      <td>26</td>\n",
       "      <td>1246700.0</td>\n",
       "      <td>-11.202692</td>\n",
       "      <td>17.873887</td>\n",
       "    </tr>\n",
       "    <tr>\n",
       "      <th>65</th>\n",
       "      <td>Angola</td>\n",
       "      <td>2002</td>\n",
       "      <td>26.352118</td>\n",
       "      <td>41.7</td>\n",
       "      <td>13.46</td>\n",
       "      <td>NaN</td>\n",
       "      <td>70.42</td>\n",
       "      <td>0.58</td>\n",
       "      <td>0.0</td>\n",
       "      <td>1.13</td>\n",
       "      <td>...</td>\n",
       "      <td>2143.5280</td>\n",
       "      <td>3.34</td>\n",
       "      <td>15689.99958</td>\n",
       "      <td>NaN</td>\n",
       "      <td>13.665687</td>\n",
       "      <td>872.494442</td>\n",
       "      <td>26</td>\n",
       "      <td>1246700.0</td>\n",
       "      <td>-11.202692</td>\n",
       "      <td>17.873887</td>\n",
       "    </tr>\n",
       "    <tr>\n",
       "      <th>66</th>\n",
       "      <td>Angola</td>\n",
       "      <td>2003</td>\n",
       "      <td>27.412777</td>\n",
       "      <td>42.0</td>\n",
       "      <td>13.01</td>\n",
       "      <td>50000.0</td>\n",
       "      <td>65.14</td>\n",
       "      <td>0.71</td>\n",
       "      <td>0.0</td>\n",
       "      <td>1.23</td>\n",
       "      <td>...</td>\n",
       "      <td>2298.9023</td>\n",
       "      <td>3.49</td>\n",
       "      <td>16760.00023</td>\n",
       "      <td>NaN</td>\n",
       "      <td>2.989850</td>\n",
       "      <td>982.961008</td>\n",
       "      <td>26</td>\n",
       "      <td>1246700.0</td>\n",
       "      <td>-11.202692</td>\n",
       "      <td>17.873887</td>\n",
       "    </tr>\n",
       "    <tr>\n",
       "      <th>67</th>\n",
       "      <td>Angola</td>\n",
       "      <td>2004</td>\n",
       "      <td>28.470550</td>\n",
       "      <td>41.9</td>\n",
       "      <td>26.44</td>\n",
       "      <td>40000.0</td>\n",
       "      <td>61.92</td>\n",
       "      <td>0.45</td>\n",
       "      <td>0.0</td>\n",
       "      <td>1.73</td>\n",
       "      <td>...</td>\n",
       "      <td>2454.6700</td>\n",
       "      <td>3.17</td>\n",
       "      <td>17450.00076</td>\n",
       "      <td>NaN</td>\n",
       "      <td>10.952862</td>\n",
       "      <td>1255.564513</td>\n",
       "      <td>26</td>\n",
       "      <td>1246700.0</td>\n",
       "      <td>-11.202692</td>\n",
       "      <td>17.873887</td>\n",
       "    </tr>\n",
       "    <tr>\n",
       "      <th>68</th>\n",
       "      <td>Angola</td>\n",
       "      <td>2005</td>\n",
       "      <td>29.527786</td>\n",
       "      <td>42.6</td>\n",
       "      <td>25.53</td>\n",
       "      <td>NaN</td>\n",
       "      <td>68.38</td>\n",
       "      <td>0.53</td>\n",
       "      <td>0.0</td>\n",
       "      <td>2.20</td>\n",
       "      <td>...</td>\n",
       "      <td>2016.8517</td>\n",
       "      <td>2.60</td>\n",
       "      <td>15810.00042</td>\n",
       "      <td>NaN</td>\n",
       "      <td>15.028915</td>\n",
       "      <td>1902.422150</td>\n",
       "      <td>26</td>\n",
       "      <td>1246700.0</td>\n",
       "      <td>-11.202692</td>\n",
       "      <td>17.873887</td>\n",
       "    </tr>\n",
       "    <tr>\n",
       "      <th>69</th>\n",
       "      <td>Angola</td>\n",
       "      <td>2006</td>\n",
       "      <td>30.586895</td>\n",
       "      <td>42.9</td>\n",
       "      <td>24.63</td>\n",
       "      <td>NaN</td>\n",
       "      <td>62.13</td>\n",
       "      <td>0.60</td>\n",
       "      <td>0.0</td>\n",
       "      <td>2.64</td>\n",
       "      <td>...</td>\n",
       "      <td>2453.2468</td>\n",
       "      <td>2.62</td>\n",
       "      <td>16559.99947</td>\n",
       "      <td>NaN</td>\n",
       "      <td>11.547683</td>\n",
       "      <td>2599.565948</td>\n",
       "      <td>26</td>\n",
       "      <td>1246700.0</td>\n",
       "      <td>-11.202692</td>\n",
       "      <td>17.873887</td>\n",
       "    </tr>\n",
       "    <tr>\n",
       "      <th>70</th>\n",
       "      <td>Angola</td>\n",
       "      <td>2007</td>\n",
       "      <td>37.500000</td>\n",
       "      <td>43.5</td>\n",
       "      <td>36.27</td>\n",
       "      <td>760000.0</td>\n",
       "      <td>58.49</td>\n",
       "      <td>0.68</td>\n",
       "      <td>0.0</td>\n",
       "      <td>2.47</td>\n",
       "      <td>...</td>\n",
       "      <td>2719.0603</td>\n",
       "      <td>2.50</td>\n",
       "      <td>16969.99931</td>\n",
       "      <td>NaN</td>\n",
       "      <td>14.010018</td>\n",
       "      <td>3121.996085</td>\n",
       "      <td>26</td>\n",
       "      <td>1246700.0</td>\n",
       "      <td>-11.202692</td>\n",
       "      <td>17.873887</td>\n",
       "    </tr>\n",
       "    <tr>\n",
       "      <th>71</th>\n",
       "      <td>Angola</td>\n",
       "      <td>2008</td>\n",
       "      <td>38.490000</td>\n",
       "      <td>43.6</td>\n",
       "      <td>36.52</td>\n",
       "      <td>NaN</td>\n",
       "      <td>54.88</td>\n",
       "      <td>0.96</td>\n",
       "      <td>0.0</td>\n",
       "      <td>3.10</td>\n",
       "      <td>...</td>\n",
       "      <td>3072.0240</td>\n",
       "      <td>2.48</td>\n",
       "      <td>19280.00069</td>\n",
       "      <td>NaN</td>\n",
       "      <td>11.166138</td>\n",
       "      <td>4080.941034</td>\n",
       "      <td>26</td>\n",
       "      <td>1246700.0</td>\n",
       "      <td>-11.202692</td>\n",
       "      <td>17.873887</td>\n",
       "    </tr>\n",
       "    <tr>\n",
       "      <th>72</th>\n",
       "      <td>Angola</td>\n",
       "      <td>2009</td>\n",
       "      <td>33.802190</td>\n",
       "      <td>43.8</td>\n",
       "      <td>35.22</td>\n",
       "      <td>NaN</td>\n",
       "      <td>52.41</td>\n",
       "      <td>1.54</td>\n",
       "      <td>0.0</td>\n",
       "      <td>3.06</td>\n",
       "      <td>...</td>\n",
       "      <td>3368.8357</td>\n",
       "      <td>2.71</td>\n",
       "      <td>21149.99962</td>\n",
       "      <td>NaN</td>\n",
       "      <td>0.858713</td>\n",
       "      <td>3122.781599</td>\n",
       "      <td>26</td>\n",
       "      <td>1246700.0</td>\n",
       "      <td>-11.202692</td>\n",
       "      <td>17.873887</td>\n",
       "    </tr>\n",
       "    <tr>\n",
       "      <th>73</th>\n",
       "      <td>Angola</td>\n",
       "      <td>2010</td>\n",
       "      <td>34.895638</td>\n",
       "      <td>44.3</td>\n",
       "      <td>34.02</td>\n",
       "      <td>20000.0</td>\n",
       "      <td>52.51</td>\n",
       "      <td>1.64</td>\n",
       "      <td>0.0</td>\n",
       "      <td>3.68</td>\n",
       "      <td>...</td>\n",
       "      <td>3560.0942</td>\n",
       "      <td>2.61</td>\n",
       "      <td>22799.99924</td>\n",
       "      <td>NaN</td>\n",
       "      <td>4.403933</td>\n",
       "      <td>3587.883645</td>\n",
       "      <td>26</td>\n",
       "      <td>1246700.0</td>\n",
       "      <td>-11.202692</td>\n",
       "      <td>17.873887</td>\n",
       "    </tr>\n",
       "    <tr>\n",
       "      <th>74</th>\n",
       "      <td>Angola</td>\n",
       "      <td>2011</td>\n",
       "      <td>34.600000</td>\n",
       "      <td>44.8</td>\n",
       "      <td>32.83</td>\n",
       "      <td>220000.0</td>\n",
       "      <td>51.06</td>\n",
       "      <td>1.55</td>\n",
       "      <td>0.0</td>\n",
       "      <td>3.98</td>\n",
       "      <td>...</td>\n",
       "      <td>3594.4900</td>\n",
       "      <td>2.62</td>\n",
       "      <td>23870.00084</td>\n",
       "      <td>NaN</td>\n",
       "      <td>3.471976</td>\n",
       "      <td>4615.468219</td>\n",
       "      <td>26</td>\n",
       "      <td>1246700.0</td>\n",
       "      <td>-11.202692</td>\n",
       "      <td>17.873887</td>\n",
       "    </tr>\n",
       "    <tr>\n",
       "      <th>75</th>\n",
       "      <td>Angola</td>\n",
       "      <td>2012</td>\n",
       "      <td>37.131320</td>\n",
       "      <td>45.2</td>\n",
       "      <td>35.16</td>\n",
       "      <td>10000.0</td>\n",
       "      <td>49.47</td>\n",
       "      <td>2.29</td>\n",
       "      <td>0.0</td>\n",
       "      <td>3.74</td>\n",
       "      <td>...</td>\n",
       "      <td>3615.5242</td>\n",
       "      <td>2.71</td>\n",
       "      <td>23870.00084</td>\n",
       "      <td>NaN</td>\n",
       "      <td>8.542188</td>\n",
       "      <td>5100.097027</td>\n",
       "      <td>26</td>\n",
       "      <td>1246700.0</td>\n",
       "      <td>-11.202692</td>\n",
       "      <td>17.873887</td>\n",
       "    </tr>\n",
       "    <tr>\n",
       "      <th>76</th>\n",
       "      <td>Angola</td>\n",
       "      <td>2013</td>\n",
       "      <td>38.278030</td>\n",
       "      <td>45.8</td>\n",
       "      <td>37.05</td>\n",
       "      <td>NaN</td>\n",
       "      <td>47.95</td>\n",
       "      <td>3.24</td>\n",
       "      <td>0.0</td>\n",
       "      <td>4.73</td>\n",
       "      <td>...</td>\n",
       "      <td>3897.9126</td>\n",
       "      <td>2.60</td>\n",
       "      <td>26959.99908</td>\n",
       "      <td>NaN</td>\n",
       "      <td>4.954545</td>\n",
       "      <td>5254.881126</td>\n",
       "      <td>26</td>\n",
       "      <td>1246700.0</td>\n",
       "      <td>-11.202692</td>\n",
       "      <td>17.873887</td>\n",
       "    </tr>\n",
       "    <tr>\n",
       "      <th>77</th>\n",
       "      <td>Angola</td>\n",
       "      <td>2014</td>\n",
       "      <td>32.000000</td>\n",
       "      <td>46.5</td>\n",
       "      <td>38.31</td>\n",
       "      <td>NaN</td>\n",
       "      <td>48.23</td>\n",
       "      <td>3.98</td>\n",
       "      <td>0.0</td>\n",
       "      <td>5.24</td>\n",
       "      <td>...</td>\n",
       "      <td>4135.0474</td>\n",
       "      <td>3.28</td>\n",
       "      <td>29629.99916</td>\n",
       "      <td>NaN</td>\n",
       "      <td>4.822628</td>\n",
       "      <td>5408.411700</td>\n",
       "      <td>26</td>\n",
       "      <td>1246700.0</td>\n",
       "      <td>-11.202692</td>\n",
       "      <td>17.873887</td>\n",
       "    </tr>\n",
       "    <tr>\n",
       "      <th>78</th>\n",
       "      <td>Angola</td>\n",
       "      <td>2015</td>\n",
       "      <td>42.000000</td>\n",
       "      <td>47.2</td>\n",
       "      <td>37.05</td>\n",
       "      <td>10000.0</td>\n",
       "      <td>47.84</td>\n",
       "      <td>4.03</td>\n",
       "      <td>0.0</td>\n",
       "      <td>5.28</td>\n",
       "      <td>...</td>\n",
       "      <td>4159.5776</td>\n",
       "      <td>2.86</td>\n",
       "      <td>31649.99962</td>\n",
       "      <td>NaN</td>\n",
       "      <td>0.943572</td>\n",
       "      <td>4166.979833</td>\n",
       "      <td>26</td>\n",
       "      <td>1246700.0</td>\n",
       "      <td>-11.202692</td>\n",
       "      <td>17.873887</td>\n",
       "    </tr>\n",
       "    <tr>\n",
       "      <th>79</th>\n",
       "      <td>Angola</td>\n",
       "      <td>2016</td>\n",
       "      <td>41.813130</td>\n",
       "      <td>47.8</td>\n",
       "      <td>61.19</td>\n",
       "      <td>93960000.0</td>\n",
       "      <td>49.03</td>\n",
       "      <td>4.20</td>\n",
       "      <td>0.0</td>\n",
       "      <td>6.01</td>\n",
       "      <td>...</td>\n",
       "      <td>3661.5513</td>\n",
       "      <td>2.61</td>\n",
       "      <td>29760.00023</td>\n",
       "      <td>NaN</td>\n",
       "      <td>-2.580050</td>\n",
       "      <td>3506.073128</td>\n",
       "      <td>26</td>\n",
       "      <td>1246700.0</td>\n",
       "      <td>-11.202692</td>\n",
       "      <td>17.873887</td>\n",
       "    </tr>\n",
       "    <tr>\n",
       "      <th>80</th>\n",
       "      <td>Angola</td>\n",
       "      <td>2017</td>\n",
       "      <td>43.013260</td>\n",
       "      <td>48.4</td>\n",
       "      <td>82.43</td>\n",
       "      <td>NaN</td>\n",
       "      <td>56.25</td>\n",
       "      <td>2.99</td>\n",
       "      <td>0.0</td>\n",
       "      <td>7.69</td>\n",
       "      <td>...</td>\n",
       "      <td>3370.8962</td>\n",
       "      <td>2.51</td>\n",
       "      <td>24250.00000</td>\n",
       "      <td>NaN</td>\n",
       "      <td>-0.147213</td>\n",
       "      <td>4095.810057</td>\n",
       "      <td>26</td>\n",
       "      <td>1246700.0</td>\n",
       "      <td>-11.202692</td>\n",
       "      <td>17.873887</td>\n",
       "    </tr>\n",
       "    <tr>\n",
       "      <th>81</th>\n",
       "      <td>Angola</td>\n",
       "      <td>2018</td>\n",
       "      <td>45.290000</td>\n",
       "      <td>49.1</td>\n",
       "      <td>101.45</td>\n",
       "      <td>120000.0</td>\n",
       "      <td>57.36</td>\n",
       "      <td>2.93</td>\n",
       "      <td>0.0</td>\n",
       "      <td>9.90</td>\n",
       "      <td>...</td>\n",
       "      <td>3366.3933</td>\n",
       "      <td>2.95</td>\n",
       "      <td>23959.99908</td>\n",
       "      <td>NaN</td>\n",
       "      <td>-2.003630</td>\n",
       "      <td>3289.643995</td>\n",
       "      <td>26</td>\n",
       "      <td>1246700.0</td>\n",
       "      <td>-11.202692</td>\n",
       "      <td>17.873887</td>\n",
       "    </tr>\n",
       "    <tr>\n",
       "      <th>82</th>\n",
       "      <td>Angola</td>\n",
       "      <td>2019</td>\n",
       "      <td>45.642800</td>\n",
       "      <td>49.5</td>\n",
       "      <td>108.71</td>\n",
       "      <td>60000.0</td>\n",
       "      <td>54.69</td>\n",
       "      <td>4.38</td>\n",
       "      <td>0.0</td>\n",
       "      <td>11.02</td>\n",
       "      <td>...</td>\n",
       "      <td>3667.4238</td>\n",
       "      <td>2.94</td>\n",
       "      <td>25209.99908</td>\n",
       "      <td>NaN</td>\n",
       "      <td>-0.624644</td>\n",
       "      <td>2809.626088</td>\n",
       "      <td>26</td>\n",
       "      <td>1246700.0</td>\n",
       "      <td>-11.202692</td>\n",
       "      <td>17.873887</td>\n",
       "    </tr>\n",
       "    <tr>\n",
       "      <th>83</th>\n",
       "      <td>Angola</td>\n",
       "      <td>2020</td>\n",
       "      <td>46.890610</td>\n",
       "      <td>50.2</td>\n",
       "      <td>115.43</td>\n",
       "      <td>NaN</td>\n",
       "      <td>NaN</td>\n",
       "      <td>4.49</td>\n",
       "      <td>0.0</td>\n",
       "      <td>12.10</td>\n",
       "      <td>...</td>\n",
       "      <td>3527.1600</td>\n",
       "      <td>NaN</td>\n",
       "      <td>NaN</td>\n",
       "      <td>NaN</td>\n",
       "      <td>-5.399987</td>\n",
       "      <td>1776.166868</td>\n",
       "      <td>26</td>\n",
       "      <td>1246700.0</td>\n",
       "      <td>-11.202692</td>\n",
       "      <td>17.873887</td>\n",
       "    </tr>\n",
       "  </tbody>\n",
       "</table>\n",
       "<p>21 rows × 21 columns</p>\n",
       "</div>"
      ],
      "text/plain": [
       "    Entity  Year  Access to electricity (% of population)  \\\n",
       "63  Angola  2000                                24.212744   \n",
       "64  Angola  2001                                20.000000   \n",
       "65  Angola  2002                                26.352118   \n",
       "66  Angola  2003                                27.412777   \n",
       "67  Angola  2004                                28.470550   \n",
       "68  Angola  2005                                29.527786   \n",
       "69  Angola  2006                                30.586895   \n",
       "70  Angola  2007                                37.500000   \n",
       "71  Angola  2008                                38.490000   \n",
       "72  Angola  2009                                33.802190   \n",
       "73  Angola  2010                                34.895638   \n",
       "74  Angola  2011                                34.600000   \n",
       "75  Angola  2012                                37.131320   \n",
       "76  Angola  2013                                38.278030   \n",
       "77  Angola  2014                                32.000000   \n",
       "78  Angola  2015                                42.000000   \n",
       "79  Angola  2016                                41.813130   \n",
       "80  Angola  2017                                43.013260   \n",
       "81  Angola  2018                                45.290000   \n",
       "82  Angola  2019                                45.642800   \n",
       "83  Angola  2020                                46.890610   \n",
       "\n",
       "    Access to clean fuels for cooking  \\\n",
       "63                               41.1   \n",
       "64                               41.7   \n",
       "65                               41.7   \n",
       "66                               42.0   \n",
       "67                               41.9   \n",
       "68                               42.6   \n",
       "69                               42.9   \n",
       "70                               43.5   \n",
       "71                               43.6   \n",
       "72                               43.8   \n",
       "73                               44.3   \n",
       "74                               44.8   \n",
       "75                               45.2   \n",
       "76                               45.8   \n",
       "77                               46.5   \n",
       "78                               47.2   \n",
       "79                               47.8   \n",
       "80                               48.4   \n",
       "81                               49.1   \n",
       "82                               49.5   \n",
       "83                               50.2   \n",
       "\n",
       "    Renewable-electricity-generating-capacity-per-capita  \\\n",
       "63                                              14.37      \n",
       "64                                              13.90      \n",
       "65                                              13.46      \n",
       "66                                              13.01      \n",
       "67                                              26.44      \n",
       "68                                              25.53      \n",
       "69                                              24.63      \n",
       "70                                              36.27      \n",
       "71                                              36.52      \n",
       "72                                              35.22      \n",
       "73                                              34.02      \n",
       "74                                              32.83      \n",
       "75                                              35.16      \n",
       "76                                              37.05      \n",
       "77                                              38.31      \n",
       "78                                              37.05      \n",
       "79                                              61.19      \n",
       "80                                              82.43      \n",
       "81                                             101.45      \n",
       "82                                             108.71      \n",
       "83                                             115.43      \n",
       "\n",
       "    Financial flows to developing countries (US $)  \\\n",
       "63                                             NaN   \n",
       "64                                             NaN   \n",
       "65                                             NaN   \n",
       "66                                         50000.0   \n",
       "67                                         40000.0   \n",
       "68                                             NaN   \n",
       "69                                             NaN   \n",
       "70                                        760000.0   \n",
       "71                                             NaN   \n",
       "72                                             NaN   \n",
       "73                                         20000.0   \n",
       "74                                        220000.0   \n",
       "75                                         10000.0   \n",
       "76                                             NaN   \n",
       "77                                             NaN   \n",
       "78                                         10000.0   \n",
       "79                                      93960000.0   \n",
       "80                                             NaN   \n",
       "81                                        120000.0   \n",
       "82                                         60000.0   \n",
       "83                                             NaN   \n",
       "\n",
       "    Renewable energy share in the total final energy consumption (%)  \\\n",
       "63                                              73.44                  \n",
       "64                                              72.34                  \n",
       "65                                              70.42                  \n",
       "66                                              65.14                  \n",
       "67                                              61.92                  \n",
       "68                                              68.38                  \n",
       "69                                              62.13                  \n",
       "70                                              58.49                  \n",
       "71                                              54.88                  \n",
       "72                                              52.41                  \n",
       "73                                              52.51                  \n",
       "74                                              51.06                  \n",
       "75                                              49.47                  \n",
       "76                                              47.95                  \n",
       "77                                              48.23                  \n",
       "78                                              47.84                  \n",
       "79                                              49.03                  \n",
       "80                                              56.25                  \n",
       "81                                              57.36                  \n",
       "82                                              54.69                  \n",
       "83                                                NaN                  \n",
       "\n",
       "    Electricity from fossil fuels (TWh)  Electricity from nuclear (TWh)  \\\n",
       "63                                 0.50                             0.0   \n",
       "64                                 0.58                             0.0   \n",
       "65                                 0.58                             0.0   \n",
       "66                                 0.71                             0.0   \n",
       "67                                 0.45                             0.0   \n",
       "68                                 0.53                             0.0   \n",
       "69                                 0.60                             0.0   \n",
       "70                                 0.68                             0.0   \n",
       "71                                 0.96                             0.0   \n",
       "72                                 1.54                             0.0   \n",
       "73                                 1.64                             0.0   \n",
       "74                                 1.55                             0.0   \n",
       "75                                 2.29                             0.0   \n",
       "76                                 3.24                             0.0   \n",
       "77                                 3.98                             0.0   \n",
       "78                                 4.03                             0.0   \n",
       "79                                 4.20                             0.0   \n",
       "80                                 2.99                             0.0   \n",
       "81                                 2.93                             0.0   \n",
       "82                                 4.38                             0.0   \n",
       "83                                 4.49                             0.0   \n",
       "\n",
       "    Electricity from renewables (TWh)  ...  \\\n",
       "63                               0.90  ...   \n",
       "64                               1.01  ...   \n",
       "65                               1.13  ...   \n",
       "66                               1.23  ...   \n",
       "67                               1.73  ...   \n",
       "68                               2.20  ...   \n",
       "69                               2.64  ...   \n",
       "70                               2.47  ...   \n",
       "71                               3.10  ...   \n",
       "72                               3.06  ...   \n",
       "73                               3.68  ...   \n",
       "74                               3.98  ...   \n",
       "75                               3.74  ...   \n",
       "76                               4.73  ...   \n",
       "77                               5.24  ...   \n",
       "78                               5.28  ...   \n",
       "79                               6.01  ...   \n",
       "80                               7.69  ...   \n",
       "81                               9.90  ...   \n",
       "82                              11.02  ...   \n",
       "83                              12.10  ...   \n",
       "\n",
       "    Primary energy consumption per capita (kWh/person)  \\\n",
       "63                                          1979.2562    \n",
       "64                                          2079.7320    \n",
       "65                                          2143.5280    \n",
       "66                                          2298.9023    \n",
       "67                                          2454.6700    \n",
       "68                                          2016.8517    \n",
       "69                                          2453.2468    \n",
       "70                                          2719.0603    \n",
       "71                                          3072.0240    \n",
       "72                                          3368.8357    \n",
       "73                                          3560.0942    \n",
       "74                                          3594.4900    \n",
       "75                                          3615.5242    \n",
       "76                                          3897.9126    \n",
       "77                                          4135.0474    \n",
       "78                                          4159.5776    \n",
       "79                                          3661.5513    \n",
       "80                                          3370.8962    \n",
       "81                                          3366.3933    \n",
       "82                                          3667.4238    \n",
       "83                                          3527.1600    \n",
       "\n",
       "    Energy intensity level of primary energy (MJ/$2017 PPP GDP)  \\\n",
       "63                                               3.68             \n",
       "64                                               3.65             \n",
       "65                                               3.34             \n",
       "66                                               3.49             \n",
       "67                                               3.17             \n",
       "68                                               2.60             \n",
       "69                                               2.62             \n",
       "70                                               2.50             \n",
       "71                                               2.48             \n",
       "72                                               2.71             \n",
       "73                                               2.61             \n",
       "74                                               2.62             \n",
       "75                                               2.71             \n",
       "76                                               2.60             \n",
       "77                                               3.28             \n",
       "78                                               2.86             \n",
       "79                                               2.61             \n",
       "80                                               2.51             \n",
       "81                                               2.95             \n",
       "82                                               2.94             \n",
       "83                                                NaN             \n",
       "\n",
       "    Value_co2_emissions_kt_by_country  \\\n",
       "63                        16200.00000   \n",
       "64                        15960.00000   \n",
       "65                        15689.99958   \n",
       "66                        16760.00023   \n",
       "67                        17450.00076   \n",
       "68                        15810.00042   \n",
       "69                        16559.99947   \n",
       "70                        16969.99931   \n",
       "71                        19280.00069   \n",
       "72                        21149.99962   \n",
       "73                        22799.99924   \n",
       "74                        23870.00084   \n",
       "75                        23870.00084   \n",
       "76                        26959.99908   \n",
       "77                        29629.99916   \n",
       "78                        31649.99962   \n",
       "79                        29760.00023   \n",
       "80                        24250.00000   \n",
       "81                        23959.99908   \n",
       "82                        25209.99908   \n",
       "83                                NaN   \n",
       "\n",
       "    Renewables (% equivalent primary energy)  gdp_growth  gdp_per_capita  \\\n",
       "63                                       NaN    3.054624      556.838632   \n",
       "64                                       NaN    4.205999      527.333529   \n",
       "65                                       NaN   13.665687      872.494442   \n",
       "66                                       NaN    2.989850      982.961008   \n",
       "67                                       NaN   10.952862     1255.564513   \n",
       "68                                       NaN   15.028915     1902.422150   \n",
       "69                                       NaN   11.547683     2599.565948   \n",
       "70                                       NaN   14.010018     3121.996085   \n",
       "71                                       NaN   11.166138     4080.941034   \n",
       "72                                       NaN    0.858713     3122.781599   \n",
       "73                                       NaN    4.403933     3587.883645   \n",
       "74                                       NaN    3.471976     4615.468219   \n",
       "75                                       NaN    8.542188     5100.097027   \n",
       "76                                       NaN    4.954545     5254.881126   \n",
       "77                                       NaN    4.822628     5408.411700   \n",
       "78                                       NaN    0.943572     4166.979833   \n",
       "79                                       NaN   -2.580050     3506.073128   \n",
       "80                                       NaN   -0.147213     4095.810057   \n",
       "81                                       NaN   -2.003630     3289.643995   \n",
       "82                                       NaN   -0.624644     2809.626088   \n",
       "83                                       NaN   -5.399987     1776.166868   \n",
       "\n",
       "    Density\\n(P/Km2) Land Area(Km2)   Latitude  Longitude  \n",
       "63                26      1246700.0 -11.202692  17.873887  \n",
       "64                26      1246700.0 -11.202692  17.873887  \n",
       "65                26      1246700.0 -11.202692  17.873887  \n",
       "66                26      1246700.0 -11.202692  17.873887  \n",
       "67                26      1246700.0 -11.202692  17.873887  \n",
       "68                26      1246700.0 -11.202692  17.873887  \n",
       "69                26      1246700.0 -11.202692  17.873887  \n",
       "70                26      1246700.0 -11.202692  17.873887  \n",
       "71                26      1246700.0 -11.202692  17.873887  \n",
       "72                26      1246700.0 -11.202692  17.873887  \n",
       "73                26      1246700.0 -11.202692  17.873887  \n",
       "74                26      1246700.0 -11.202692  17.873887  \n",
       "75                26      1246700.0 -11.202692  17.873887  \n",
       "76                26      1246700.0 -11.202692  17.873887  \n",
       "77                26      1246700.0 -11.202692  17.873887  \n",
       "78                26      1246700.0 -11.202692  17.873887  \n",
       "79                26      1246700.0 -11.202692  17.873887  \n",
       "80                26      1246700.0 -11.202692  17.873887  \n",
       "81                26      1246700.0 -11.202692  17.873887  \n",
       "82                26      1246700.0 -11.202692  17.873887  \n",
       "83                26      1246700.0 -11.202692  17.873887  \n",
       "\n",
       "[21 rows x 21 columns]"
      ]
     },
     "execution_count": 39,
     "metadata": {},
     "output_type": "execute_result"
    }
   ],
   "source": [
    "df.loc[angola_mask,:]"
   ]
  },
  {
   "cell_type": "markdown",
   "id": "da5861db",
   "metadata": {},
   "source": [
    "Now we can ask questions for specific subgroups of our data!"
   ]
  },
  {
   "cell_type": "markdown",
   "id": "c8091aa0",
   "metadata": {},
   "source": [
    "Let's see what we can learn about Angola here:"
   ]
  },
  {
   "cell_type": "markdown",
   "id": "0439fc81",
   "metadata": {},
   "source": [
    "How did the Access to electricity evolved throughout the years for Angola?"
   ]
  },
  {
   "cell_type": "code",
   "execution_count": 34,
   "id": "f37524ae",
   "metadata": {},
   "outputs": [
    {
     "data": {
      "text/plain": [
       "63          NaN\n",
       "64    -4.212744\n",
       "65     6.352118\n",
       "66     1.060659\n",
       "67     1.057773\n",
       "68     1.057236\n",
       "69     1.059109\n",
       "70     6.913105\n",
       "71     0.990000\n",
       "72    -4.687810\n",
       "73     1.093448\n",
       "74    -0.295638\n",
       "75     2.531320\n",
       "76     1.146710\n",
       "77    -6.278030\n",
       "78    10.000000\n",
       "79    -0.186870\n",
       "80     1.200130\n",
       "81     2.276740\n",
       "82     0.352800\n",
       "83     1.247810\n",
       "Name: Access to electricity (% of population), dtype: float64"
      ]
     },
     "execution_count": 34,
     "metadata": {},
     "output_type": "execute_result"
    }
   ],
   "source": [
    "df.loc[angola_mask,'Access to electricity (% of population)'].diff()"
   ]
  },
  {
   "cell_type": "markdown",
   "id": "865eacc4",
   "metadata": {},
   "source": [
    "`.diff` will:\n",
    "- compute differences for each row\n",
    "- Will have Nan on the first row because there's no previous row to compare it to"
   ]
  },
  {
   "cell_type": "markdown",
   "id": "fb3c79b6",
   "metadata": {},
   "source": [
    "would be cool to assign the year as index here to understand better this analysis"
   ]
  },
  {
   "cell_type": "code",
   "execution_count": 36,
   "id": "3e823274",
   "metadata": {},
   "outputs": [
    {
     "data": {
      "text/plain": [
       "Year\n",
       "2000          NaN\n",
       "2001    -4.212744\n",
       "2002     6.352118\n",
       "2003     1.060659\n",
       "2004     1.057773\n",
       "2005     1.057236\n",
       "2006     1.059109\n",
       "2007     6.913105\n",
       "2008     0.990000\n",
       "2009    -4.687810\n",
       "2010     1.093448\n",
       "2011    -0.295638\n",
       "2012     2.531320\n",
       "2013     1.146710\n",
       "2014    -6.278030\n",
       "2015    10.000000\n",
       "2016    -0.186870\n",
       "2017     1.200130\n",
       "2018     2.276740\n",
       "2019     0.352800\n",
       "2020     1.247810\n",
       "Name: Access to electricity (% of population), dtype: float64"
      ]
     },
     "execution_count": 36,
     "metadata": {},
     "output_type": "execute_result"
    }
   ],
   "source": [
    "df.loc[angola_mask,:].set_index('Year')['Access to electricity (% of population)'].diff()"
   ]
  },
  {
   "cell_type": "markdown",
   "id": "0b87d30a",
   "metadata": {},
   "source": [
    "Most of the years, we have a positive difference which means more and more people in Angola have been getting access to electricity"
   ]
  },
  {
   "cell_type": "code",
   "execution_count": 37,
   "id": "e614d1b8",
   "metadata": {},
   "outputs": [
    {
     "data": {
      "text/plain": [
       "22.677866"
      ]
     },
     "execution_count": 37,
     "metadata": {},
     "output_type": "execute_result"
    }
   ],
   "source": [
    "(df\n",
    " .loc[angola_mask,'Access to electricity (% of population)']\n",
    " .diff()\n",
    " .sum()\n",
    ")"
   ]
  },
  {
   "cell_type": "markdown",
   "id": "6c0585f7",
   "metadata": {},
   "source": [
    "From 2000 till 2020, Angola enabled access to an additional 22% of its population!"
   ]
  },
  {
   "cell_type": "code",
   "execution_count": 38,
   "id": "b42fea5b",
   "metadata": {},
   "outputs": [
    {
     "data": {
      "text/plain": [
       "22.677866"
      ]
     },
     "execution_count": 38,
     "metadata": {},
     "output_type": "execute_result"
    }
   ],
   "source": [
    "# another way of getting the same result\n",
    "\n",
    "df.loc[angola_mask, 'Access to electricity (% of population)'].iloc[-1] - df.loc[angola_mask, 'Access to electricity (% of population)'].iloc[0]"
   ]
  },
  {
   "cell_type": "markdown",
   "id": "0cef45e3",
   "metadata": {},
   "source": [
    "# Plotting"
   ]
  },
  {
   "cell_type": "markdown",
   "id": "7571cd26",
   "metadata": {},
   "source": [
    "Now, this type of analysis is begging for a visualization"
   ]
  },
  {
   "cell_type": "code",
   "execution_count": 55,
   "id": "0e991872",
   "metadata": {},
   "outputs": [
    {
     "data": {
      "text/plain": [
       "Year\n",
       "2000         NaN\n",
       "2001   -4.212744\n",
       "2002    6.352118\n",
       "2003    1.060659\n",
       "2004    1.057773\n",
       "Name: Access to electricity (% of population), dtype: float64"
      ]
     },
     "execution_count": 55,
     "metadata": {},
     "output_type": "execute_result"
    }
   ],
   "source": [
    "angola_evolution_electricity_access = df.loc[angola_mask].set_index('Year').loc[:,'Access to electricity (% of population)'].diff()\n",
    "angola_evolution_electricity_access.head(5)"
   ]
  },
  {
   "cell_type": "markdown",
   "id": "9d92d18e",
   "metadata": {},
   "source": [
    "## bar plots"
   ]
  },
  {
   "cell_type": "code",
   "execution_count": 61,
   "id": "d0cd9424",
   "metadata": {},
   "outputs": [
    {
     "data": {
      "image/png": "[encoded data removed]",
      "text/plain": [
       "<Figure size 640x480 with 1 Axes>"
      ]
     },
     "metadata": {},
     "output_type": "display_data"
    }
   ],
   "source": [
    "angola_evolution_electricity_access.plot.bar(title='Analysis of Angola\\'s population access to electricity',xlabel='Year', ylabel='difference in % points from previous year');"
   ]
  },
  {
   "cell_type": "markdown",
   "id": "ab6787a6",
   "metadata": {},
   "source": [
    "## Line plots"
   ]
  },
  {
   "cell_type": "markdown",
   "id": "da769f00",
   "metadata": {},
   "source": [
    "Line plots are particularly useful to visualize something across time"
   ]
  },
  {
   "cell_type": "markdown",
   "id": "5cda2279",
   "metadata": {},
   "source": [
    "Let's visualize the growth of this `electricity_access` in another way"
   ]
  },
  {
   "cell_type": "code",
   "execution_count": 84,
   "id": "ddfe77c6",
   "metadata": {},
   "outputs": [
    {
     "data": {
      "text/plain": [
       "<Axes: title={'center': '(Angola) Growth in % population with access to electricity'}, xlabel='Year', ylabel='% population'>"
      ]
     },
     "execution_count": 84,
     "metadata": {},
     "output_type": "execute_result"
    },
    {
     "data": {
      "image/png": "[encoded data removed]",
      "text/plain": [
       "<Figure size 640x480 with 1 Axes>"
      ]
     },
     "metadata": {},
     "output_type": "display_data"
    }
   ],
   "source": [
    "(df\n",
    " .loc[angola_mask]\n",
    " .set_index('Year')\n",
    " .loc[:,'Access to electricity (% of population)']\n",
    " .plot(title='(Angola) Growth in % population with access to electricity', ylabel='% population')\n",
    ")"
   ]
  },
  {
   "cell_type": "markdown",
   "id": "6856d002",
   "metadata": {},
   "source": [
    "Now the x axis isn't perfect, there's a lot of ways to solve this situation which you will be using google, stackOverflow and chatgpt most of the time to solve, but here is one simple solution"
   ]
  },
  {
   "cell_type": "code",
   "execution_count": 86,
   "id": "82bdccb0",
   "metadata": {},
   "outputs": [
    {
     "data": {
      "text/plain": [
       "<Axes: title={'center': '(Angola) Growth in % population with access to electricity'}, xlabel='Year', ylabel='% population'>"
      ]
     },
     "execution_count": 86,
     "metadata": {},
     "output_type": "execute_result"
    },
    {
     "data": {
      "image/png": "[encoded data removed]",
      "text/plain": [
       "<Figure size 640x480 with 1 Axes>"
      ]
     },
     "metadata": {},
     "output_type": "display_data"
    }
   ],
   "source": [
    "(df\n",
    " .loc[angola_mask]\n",
    " .astype({'Year':'str'})\n",
    " .set_index('Year')\n",
    " .loc[:,'Access to electricity (% of population)']\n",
    " .plot(title='(Angola) Growth in % population with access to electricity', ylabel='% population')\n",
    ")"
   ]
  },
  {
   "cell_type": "markdown",
   "id": "a6dafaf6",
   "metadata": {},
   "source": [
    "## histogram plots\n",
    "\n",
    "Density plots are very useful because they give you a lot more information about a distribution than just its average"
   ]
  },
  {
   "cell_type": "markdown",
   "id": "e5227317",
   "metadata": {},
   "source": [
    "What is the distribution of co2 emissions in the year 2010?"
   ]
  },
  {
   "cell_type": "code",
   "execution_count": 40,
   "id": "02cbeaf9",
   "metadata": {},
   "outputs": [],
   "source": [
    "mask_2010 = df['Year'] == 2010"
   ]
  },
  {
   "cell_type": "markdown",
   "id": "e4df06cc",
   "metadata": {},
   "source": [
    "before the plot, `.describe` is a quick way to also have a notion of a distribution"
   ]
  },
  {
   "cell_type": "code",
   "execution_count": 42,
   "id": "18505d73",
   "metadata": {},
   "outputs": [
    {
     "data": {
      "text/plain": [
       "count        162\n",
       "mean      165706\n",
       "std       802553\n",
       "min            9\n",
       "25%         2452\n",
       "50%        10489\n",
       "75%        61397\n",
       "max      8474919\n",
       "Name: Value_co2_emissions_kt_by_country, dtype: int64"
      ]
     },
     "execution_count": 42,
     "metadata": {},
     "output_type": "execute_result"
    }
   ],
   "source": [
    "df.loc[mask_2010,'Value_co2_emissions_kt_by_country'].describe().astype(int)"
   ]
  },
  {
   "cell_type": "markdown",
   "id": "1bce68f7",
   "metadata": {},
   "source": [
    "But we can also plot to get more information about the distribution"
   ]
  },
  {
   "cell_type": "code",
   "execution_count": 102,
   "id": "ef7ee868",
   "metadata": {},
   "outputs": [
    {
     "data": {
      "text/plain": [
       "<Axes: ylabel='Frequency'>"
      ]
     },
     "execution_count": 102,
     "metadata": {},
     "output_type": "execute_result"
    },
    {
     "data": {
      "image/png": "[encoded data removed]",
      "text/plain": [
       "<Figure size 640x480 with 1 Axes>"
      ]
     },
     "metadata": {},
     "output_type": "display_data"
    }
   ],
   "source": [
    "df.loc[mask_2010,'Electricity from renewables (TWh)'].plot.hist()"
   ]
  },
  {
   "cell_type": "markdown",
   "id": "0fd67118",
   "metadata": {},
   "source": [
    "You can control the number of bins"
   ]
  },
  {
   "cell_type": "code",
   "execution_count": 45,
   "id": "337b25d6",
   "metadata": {},
   "outputs": [
    {
     "data": {
      "text/plain": [
       "<Axes: ylabel='Frequency'>"
      ]
     },
     "execution_count": 45,
     "metadata": {},
     "output_type": "execute_result"
    },
    {
     "data": {
      "image/png": "[encoded data removed]",
      "text/plain": [
       "<Figure size 640x480 with 1 Axes>"
      ]
     },
     "metadata": {},
     "output_type": "display_data"
    }
   ],
   "source": [
    "df.loc[mask_2010,'Electricity from renewables (TWh)'].plot.hist(bins = range(0,800+1,20))"
   ]
  },
  {
   "cell_type": "markdown",
   "id": "a197778b",
   "metadata": {},
   "source": [
    "or if you don't want to focus on the outliers"
   ]
  },
  {
   "cell_type": "code",
   "execution_count": 46,
   "id": "1f35e0d1",
   "metadata": {},
   "outputs": [
    {
     "data": {
      "text/plain": [
       "<Axes: ylabel='Frequency'>"
      ]
     },
     "execution_count": 46,
     "metadata": {},
     "output_type": "execute_result"
    },
    {
     "data": {
      "image/png": "[encoded data removed]",
      "text/plain": [
       "<Figure size 640x480 with 1 Axes>"
      ]
     },
     "metadata": {},
     "output_type": "display_data"
    }
   ],
   "source": [
    "df.loc[mask_2010,'Electricity from renewables (TWh)'].plot.hist(bins = range(0,200+1,10))"
   ]
  },
  {
   "cell_type": "markdown",
   "id": "ee20af8d",
   "metadata": {},
   "source": [
    "![](media/dog.jpeg)"
   ]
  },
  {
   "cell_type": "markdown",
   "id": "3927570b",
   "metadata": {},
   "source": [
    "Now proceed to the exercises notebook"
   ]
  }
 ],
 "metadata": {
  "kernelspec": {
   "display_name": "Python 3 (ipykernel)",
   "language": "python",
   "name": "python3"
  },
  "language_info": {
   "codemirror_mode": {
    "name": "ipython",
    "version": 3
   },
   "file_extension": ".py",
   "mimetype": "text/x-python",
   "name": "python",
   "nbconvert_exporter": "python",
   "pygments_lexer": "ipython3",
   "version": "3.10.9"
  }
 },
 "nbformat": 4,
 "nbformat_minor": 5
}
