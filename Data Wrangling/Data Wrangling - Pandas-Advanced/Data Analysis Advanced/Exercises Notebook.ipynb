{
 "cells": [
  {
   "cell_type": "markdown",
   "id": "241be017",
   "metadata": {},
   "source": [
    "# options"
   ]
  },
  {
   "cell_type": "code",
   "execution_count": 2,
   "id": "d84d3b57",
   "metadata": {},
   "outputs": [],
   "source": [
    "from IPython.core.interactiveshell import InteractiveShell\n",
    "InteractiveShell.ast_node_interactivity = \"all\""
   ]
  },
  {
   "cell_type": "markdown",
   "id": "79d66baa",
   "metadata": {},
   "source": [
    "# Imports"
   ]
  },
  {
   "cell_type": "code",
   "execution_count": 3,
   "id": "cd5dd2ae",
   "metadata": {},
   "outputs": [],
   "source": [
    "import pandas as pd\n",
    "import matplotlib.pyplot as plt"
   ]
  },
  {
   "cell_type": "markdown",
   "id": "1350a0db",
   "metadata": {},
   "source": [
    "# Exercise 0 - Read the data\n",
    "\n",
    "the file is under the folder data and is named `supermarket_sales_V2.csv`"
   ]
  },
  {
   "cell_type": "code",
   "execution_count": 37,
   "id": "7e329281",
   "metadata": {},
   "outputs": [],
   "source": [
    "# df = ...\n",
    "# df.head(3)\n",
    "# df.shape"
   ]
  },
  {
   "cell_type": "markdown",
   "id": "65ae0ddf",
   "metadata": {},
   "source": [
    "This data contains the necessary info to compute the remaining columns:"
   ]
  },
  {
   "cell_type": "markdown",
   "id": "be18f29a",
   "metadata": {},
   "source": [
    "# Exercise 1 - Creating new columns"
   ]
  },
  {
   "cell_type": "markdown",
   "id": "85a9630c",
   "metadata": {},
   "source": [
    "## Exercise 1.1\n",
    "\n",
    "create a new column `Total (Before Taxes)` that represents the cost of the purchase before taxes obtained by multiplying the `quantity` by the `unit price`"
   ]
  },
  {
   "cell_type": "code",
   "execution_count": 9,
   "id": "c4355d75",
   "metadata": {},
   "outputs": [],
   "source": [
    "# df['Total (Before Taxes)'] = ..."
   ]
  },
  {
   "cell_type": "markdown",
   "id": "7370f310",
   "metadata": {},
   "source": [
    "## Exercise 1.2\n",
    "\n",
    "> Create a new column `Tax 7%` that represents a 7% of the `Total (Before Taxes)`"
   ]
  },
  {
   "cell_type": "code",
   "execution_count": 10,
   "id": "c86f59c7",
   "metadata": {},
   "outputs": [],
   "source": [
    "# df['Tax 7%'] = ..."
   ]
  },
  {
   "cell_type": "markdown",
   "id": "b2732210",
   "metadata": {},
   "source": [
    "## Exercise 1.3\n",
    "> Create a new column `Total` that represents the `Total (Before Taxes)` added with the `Tax 7%`"
   ]
  },
  {
   "cell_type": "code",
   "execution_count": 11,
   "id": "4d86a474",
   "metadata": {},
   "outputs": [],
   "source": [
    "# df['Total'] = ..."
   ]
  },
  {
   "cell_type": "markdown",
   "id": "e8288a43",
   "metadata": {},
   "source": [
    "## Exercise 1.4\n",
    "> Create a new column `gross income` that represents the Total minus the cost of goods sold `cogs`"
   ]
  },
  {
   "cell_type": "code",
   "execution_count": 12,
   "id": "960ce0ce",
   "metadata": {},
   "outputs": [],
   "source": [
    "# df['gross income'] = ..."
   ]
  },
  {
   "cell_type": "markdown",
   "id": "2b851338",
   "metadata": {},
   "source": [
    "## Exercise 1.5\n",
    "> Create a new column `gross margin percentage` that represents the `gross income` as a percentage of the `Total`"
   ]
  },
  {
   "cell_type": "code",
   "execution_count": 13,
   "id": "c7d0938a",
   "metadata": {},
   "outputs": [],
   "source": [
    "# df['gross margin percentage'] = ..."
   ]
  },
  {
   "cell_type": "markdown",
   "id": "a5406486",
   "metadata": {},
   "source": [
    "## Exercise 1.6\n",
    "> Create a new column `hour` that is the hour of the day extracted from the column `Time`"
   ]
  },
  {
   "cell_type": "code",
   "execution_count": 14,
   "id": "809dad06",
   "metadata": {},
   "outputs": [],
   "source": [
    "# df['hour'] = ..."
   ]
  },
  {
   "cell_type": "markdown",
   "id": "df9bb242",
   "metadata": {},
   "source": [
    "# Exercise 2 - Masking"
   ]
  },
  {
   "cell_type": "markdown",
   "id": "6bff0750",
   "metadata": {},
   "source": [
    "## Exercise 2.1 \n",
    "> What is the median payment gross income the supermarket company has from men?"
   ]
  },
  {
   "cell_type": "code",
   "execution_count": 17,
   "id": "1902941b",
   "metadata": {},
   "outputs": [],
   "source": [
    "# gross_income_from_men = ..."
   ]
  },
  {
   "cell_type": "markdown",
   "id": "900cfac1",
   "metadata": {},
   "source": [
    "## Exercise 2.2\n",
    "> How many purchases does the store in City `Mandalay` have?"
   ]
  },
  {
   "cell_type": "code",
   "execution_count": 18,
   "id": "cdce1b84",
   "metadata": {},
   "outputs": [],
   "source": [
    "# n_purchases_mandalay = ..."
   ]
  },
  {
   "cell_type": "markdown",
   "id": "ecc25622",
   "metadata": {},
   "source": [
    "## Exercise 2.3\n",
    "\n",
    "> What is the average rating of `Member` costumers in the store `Yagon`"
   ]
  },
  {
   "cell_type": "code",
   "execution_count": 20,
   "id": "b9434c37",
   "metadata": {},
   "outputs": [],
   "source": [
    "# avg_rating_member_yagon = ..."
   ]
  },
  {
   "cell_type": "markdown",
   "id": "bdacf21e",
   "metadata": {},
   "source": [
    "## Exercise 2.4\n",
    "what is the `Invoice ID` of the the most expensive purchase (`Total`) made in the morning (in other words: until, not including, 12 o´clock)"
   ]
  },
  {
   "cell_type": "code",
   "execution_count": 21,
   "id": "198dfda5",
   "metadata": {},
   "outputs": [],
   "source": [
    "# invoice_id = "
   ]
  },
  {
   "cell_type": "markdown",
   "id": "fe052d8f",
   "metadata": {},
   "source": [
    "## Exercise 2.5\n",
    "> What is the product line `Women` buy most often at night (between 19h and 24h, all inclusive)"
   ]
  },
  {
   "cell_type": "code",
   "execution_count": 35,
   "id": "b5cbbd18",
   "metadata": {},
   "outputs": [],
   "source": [
    "# ..."
   ]
  },
  {
   "cell_type": "markdown",
   "id": "f43f60c9",
   "metadata": {},
   "source": [
    "## Exercise 2.6\n",
    "> How many purchases were made by women in both `Health and beauty` and `Home and Lifestyle` `Product lines`? "
   ]
  },
  {
   "cell_type": "code",
   "execution_count": 36,
   "id": "4402d9f6",
   "metadata": {},
   "outputs": [],
   "source": [
    "# n_purchases = "
   ]
  },
  {
   "cell_type": "markdown",
   "id": "c2f5c408",
   "metadata": {},
   "source": [
    "# Exercise 3 - Groupbys"
   ]
  },
  {
   "cell_type": "markdown",
   "id": "995542ad",
   "metadata": {},
   "source": [
    "## Exercise 3.1\n",
    "> what is the average `Total` by gender?"
   ]
  },
  {
   "cell_type": "code",
   "execution_count": 28,
   "id": "0ae9568c",
   "metadata": {},
   "outputs": [],
   "source": [
    "# ..."
   ]
  },
  {
   "cell_type": "markdown",
   "id": "df1041dd",
   "metadata": {},
   "source": [
    "## Exercise 3.1 b)\n",
    "> use a bar plot to show the previous result"
   ]
  },
  {
   "cell_type": "code",
   "execution_count": 29,
   "id": "1cb3fe11",
   "metadata": {},
   "outputs": [],
   "source": [
    "# ..."
   ]
  },
  {
   "cell_type": "markdown",
   "id": "5b42a1bc",
   "metadata": {},
   "source": [
    "## Exercise 3.2\n",
    "> What is the average Rating by City?"
   ]
  },
  {
   "cell_type": "code",
   "execution_count": 30,
   "id": "0f56f2c8",
   "metadata": {},
   "outputs": [],
   "source": [
    "# ..."
   ]
  },
  {
   "cell_type": "markdown",
   "id": "f9ee4f4d",
   "metadata": {},
   "source": [
    "## Exercise 3.2 b)\n",
    "> use a bar plot to show the previous result"
   ]
  },
  {
   "cell_type": "code",
   "execution_count": 31,
   "id": "80c11615",
   "metadata": {},
   "outputs": [],
   "source": [
    "# ..."
   ]
  },
  {
   "cell_type": "markdown",
   "id": "25f03c7a",
   "metadata": {},
   "source": [
    "## Exercise 3.3\n",
    "> What is the `Product line` that sells most items (i.e. `Quantities`) "
   ]
  },
  {
   "cell_type": "code",
   "execution_count": null,
   "id": "1d90dc50-2302-4fb8-b341-c4c92d2f1020",
   "metadata": {},
   "outputs": [],
   "source": [
    "# ..."
   ]
  },
  {
   "cell_type": "markdown",
   "id": "41602047",
   "metadata": {},
   "source": [
    "## Exercise 3.4 \n",
    "> What is the activity of customers throughout the day?\n",
    "\n",
    "Compute the number of invoices at each hour of the day"
   ]
  },
  {
   "cell_type": "code",
   "execution_count": 32,
   "id": "954e5f1b",
   "metadata": {},
   "outputs": [],
   "source": [
    "# ..."
   ]
  },
  {
   "cell_type": "markdown",
   "id": "6f2db921",
   "metadata": {},
   "source": [
    "## Exercise 3.4 b)\n",
    "> use a bar plot to show the previous result"
   ]
  },
  {
   "cell_type": "code",
   "execution_count": 33,
   "id": "b79b7dfc",
   "metadata": {},
   "outputs": [],
   "source": [
    "# ..."
   ]
  },
  {
   "cell_type": "markdown",
   "id": "e984d28c",
   "metadata": {},
   "source": [
    "## Exercise 3.5\n",
    "> For each city, what is the `Invoice ID` of the highest `gross margin` sale?"
   ]
  },
  {
   "cell_type": "code",
   "execution_count": 34,
   "id": "e72a025a",
   "metadata": {},
   "outputs": [],
   "source": [
    "# ..."
   ]
  },
  {
   "cell_type": "markdown",
   "id": "758f8e48",
   "metadata": {},
   "source": [
    "## Exercise 3.6\n",
    "\n",
    "> For each customer type, what is the average gross margin on each Product line?\n",
    "\n",
    "Try passing a list of columns to the `.groupby` method, and compute the average `gross margin` of that groupby"
   ]
  }
 ],
 "metadata": {
  "kernelspec": {
   "display_name": "Python 3 (ipykernel)",
   "language": "python",
   "name": "python3"
  },
  "language_info": {
   "codemirror_mode": {
    "name": "ipython",
    "version": 3
   },
   "file_extension": ".py",
   "mimetype": "text/x-python",
   "name": "python",
   "nbconvert_exporter": "python",
   "pygments_lexer": "ipython3",
   "version": "3.10.9"
  },
  "toc-autonumbering": false,
  "toc-showcode": false,
  "toc-showmarkdowntxt": false
 },
 "nbformat": 4,
 "nbformat_minor": 5
}
