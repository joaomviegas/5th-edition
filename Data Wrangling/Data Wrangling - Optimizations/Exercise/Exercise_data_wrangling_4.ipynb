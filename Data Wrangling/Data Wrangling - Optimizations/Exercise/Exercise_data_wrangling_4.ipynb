{
  "nbformat": 4,
  "nbformat_minor": 0,
  "metadata": {
    "colab": {
      "provenance": []
    },
    "kernelspec": {
      "name": "python3",
      "display_name": "Python 3"
    },
    "language_info": {
      "name": "python"
    }
  },
  "cells": [
    {
      "cell_type": "code",
      "execution_count": null,
      "metadata": {
        "id": "1fNPKhAPNdwa"
      },
      "outputs": [],
      "source": [
        "# Import necessary libraries\n",
        "import pandas as pd\n",
        "import numpy as np\n",
        "import matplotlib.pyplot as plt\n",
        "import seaborn as sns\n",
        "\n",
        "# Load the \"Old car price\" dataset\n",
        "\n",
        "# Analyze NaN values\n",
        "\n",
        "\n",
        "# Create a bar plot to compare NaN values before transformation\n",
        "\n",
        "# Fill NaN values with the best approach you think\n",
        "\n",
        "# Create a bar plot to compare NaN values after filling\n",
        "\n",
        "\n",
        "# Drop rows with NaN values\n",
        "\n",
        "\n",
        "# Create a bar plot to compare row count before and after dropping NaN values\n",
        "\n",
        "\n",
        "# String operations to clean string columns\n",
        "\n",
        "\n",
        "# Create a bar plot to compare string values before and after cleaning\n",
        "\n",
        "\n",
        "# Part 2: Read in Chunks and Optimize\n",
        "\n",
        "# Check the data types of columns\n",
        "print(\"Data Types Before Optimization:\")\n",
        "print(df.dtypes)\n",
        "\n",
        "# Change data types of columns\n",
        "\n",
        "# Check the data types after optimization\n",
        "\n",
        "\n",
        "# Check performance speed with a plot\n",
        "chunk_size = 10000\n",
        "load_times = []\n",
        "operation_times = []\n",
        "\n",
        "\n",
        "# Plot load times and operation times\n",
        "\n",
        "# Select columns you need only\n",
        "selected_columns = ['Brand', 'Model', 'Year', 'Price']\n",
        "\n",
        "# Check performance speed with a plot\n",
        "\n",
        "\n",
        "# Plot load times and operation times for selected columns\n",
        "\n",
        "\n",
        "# Merge everything at the end (optional)\n",
        "\n",
        "# Do some plots to the data\n",
        "\n",
        "# If needed, merge all chunks into a single DataFrame after optimizing data types\n"
      ]
    }
  ]
}