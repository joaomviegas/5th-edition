{
  "nbformat": 4,
  "nbformat_minor": 0,
  "metadata": {
    "colab": {
      "provenance": [],
      "authorship_tag": "ABX9TyMIHcFIe0aLErzOeszUslPd",
      "include_colab_link": true
    },
    "kernelspec": {
      "name": "python3",
      "display_name": "Python 3"
    },
    "language_info": {
      "name": "python"
    }
  },
  "cells": [
    {
      "cell_type": "markdown",
      "metadata": {
        "id": "view-in-github",
        "colab_type": "text"
      },
      "source": [
        "<a href=\"https://colab.research.google.com/github/djsabelo/Samsung/blob/main/Data%20Wrangling%20-%20Optimizations/tidy_data_exercise.ipynb\" target=\"_parent\"><img src=\"https://colab.research.google.com/assets/colab-badge.svg\" alt=\"Open In Colab\"/></a>"
      ]
    },
    {
      "cell_type": "code",
      "execution_count": null,
      "metadata": {
        "id": "9pLrJchBIw6r"
      },
      "outputs": [],
      "source": [
        "# Load dataset from seaborn\n",
        "base_url = \"https://github.com/byuidatascience/data4python4ds/raw/master/data-raw/\"\n",
        "table1 = pd.read_csv(\"{}table1/table1.csv\".format(base_url))\n",
        "table2 = pd.read_csv(\"{}table2/table2.csv\".format(base_url))\n",
        "table3 = pd.read_csv(\"{}table3/table3.csv\".format(base_url))\n",
        "table4a = pd.read_csv(\"{}table4a/table4a.csv\".format(base_url))\n",
        "table4b = pd.read_csv(\"{}table4b/table4b.csv\".format(base_url))\n",
        "table5 = pd.read_csv(\"{}table5/table5.csv\".format(base_url), dtype = 'object')"
      ]
    },
    {
      "cell_type": "markdown",
      "source": [
        "# Put all data into the same dataset and make a simple EDA!"
      ],
      "metadata": {
        "id": "AP7KHbsXI3s_"
      }
    },
    {
      "cell_type": "code",
      "source": [],
      "metadata": {
        "id": "aiP0hwr7JBGe"
      },
      "execution_count": null,
      "outputs": []
    }
  ]
}