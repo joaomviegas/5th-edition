{
 "cells": [
  {
   "cell_type": "markdown",
   "id": "3037be6d",
   "metadata": {},
   "source": [
    "# Contents\n",
    "\n",
    "You will learn about pandas Series, specifically:\n",
    "1. How to create pandas Series\n",
    "2. What are indexes and how to access data through them\n",
    "    1. Two very important operations `.loc` and `.iloc`\n",
    "3. What type of data a Series can store\n",
    "4. What are the datatypes of pandas Series\n",
    "5. How to extract data from a Series into numpy datatype"
   ]
  },
  {
   "cell_type": "markdown",
   "id": "000a2653",
   "metadata": {},
   "source": [
    "# Imports"
   ]
  },
  {
   "cell_type": "code",
   "execution_count": 1,
   "id": "dcce5ca9",
   "metadata": {},
   "outputs": [],
   "source": [
    "import pandas as pd"
   ]
  },
  {
   "cell_type": "markdown",
   "id": "b16e06ce",
   "metadata": {},
   "source": [
    "# What is a Pandas Series\n",
    "\n",
    "A pandas Series is a 1-dimensional array of data. The documentation for pandas.Series can be accessed through [this link](https://pandas.pydata.org/pandas-docs/stable/reference/api/pandas.Series.html)"
   ]
  },
  {
   "cell_type": "markdown",
   "id": "aec87ff9",
   "metadata": {},
   "source": [
    "# Creating a Pandas Series\n",
    "\n",
    "Creating a pandas series is very easy, you just have to call the pd.Series object on some [Iterable data](https://www.pythonlikeyoumeanit.com/Module2_EssentialsOfPython/Iterables.html) (eg.: python list, range, tuple, numpy array, etc...) that is 1-dimensional."
   ]
  },
  {
   "cell_type": "code",
   "execution_count": 2,
   "id": "ca03fc17",
   "metadata": {},
   "outputs": [
    {
     "data": {
      "text/plain": [
       "0    Washington, D.C.\n",
       "1              Ottawa\n",
       "2              London\n",
       "3              Berlin\n",
       "4               Paris\n",
       "5               Tokyo\n",
       "6            Canberra\n",
       "7            Brasília\n",
       "8           New Delhi\n",
       "9             Beijing\n",
       "dtype: object"
      ]
     },
     "execution_count": 2,
     "metadata": {},
     "output_type": "execute_result"
    }
   ],
   "source": [
    "pd.Series(['Washington, D.C.', 'Ottawa', 'London', 'Berlin', 'Paris', 'Tokyo', 'Canberra', 'Brasília', 'New Delhi', 'Beijing'])"
   ]
  },
  {
   "cell_type": "markdown",
   "id": "f5db3b0c",
   "metadata": {},
   "source": [
    "You can also pass in a dictionary"
   ]
  },
  {
   "cell_type": "code",
   "execution_count": 3,
   "id": "7f20236f",
   "metadata": {},
   "outputs": [
    {
     "data": {
      "text/plain": [
       "United States     Washington, D.C.\n",
       "Canada                      Ottawa\n",
       "United Kingdom              London\n",
       "Germany                     Berlin\n",
       "France                       Paris\n",
       "Japan                        Tokyo\n",
       "Australia                 Canberra\n",
       "Brazil                    Brasília\n",
       "India                    New Delhi\n",
       "China                      Beijing\n",
       "dtype: object"
      ]
     },
     "execution_count": 3,
     "metadata": {},
     "output_type": "execute_result"
    }
   ],
   "source": [
    "country_capital_dict = {\n",
    "    'United States': 'Washington, D.C.',\n",
    "    'Canada': 'Ottawa',\n",
    "    'United Kingdom': 'London',\n",
    "    'Germany': 'Berlin',\n",
    "    'France': 'Paris',\n",
    "    'Japan': 'Tokyo',\n",
    "    'Australia': 'Canberra',\n",
    "    'Brazil': 'Brasília',\n",
    "    'India': 'New Delhi',\n",
    "    'China': 'Beijing'\n",
    "}\n",
    "\n",
    "pd.Series(country_capital_dict)"
   ]
  },
  {
   "cell_type": "markdown",
   "id": "4eac4fac",
   "metadata": {},
   "source": [
    "# Indexes"
   ]
  },
  {
   "cell_type": "markdown",
   "id": "f1026128",
   "metadata": {},
   "source": [
    "Noticed the indexes up there? When you pass in an `Iterable`, pandas will automatically create an index for you starting from 0.\n",
    "\n",
    "But you can also use dictionaries to create a pandas series. The `keys` will be the index of the series , and the dictionary `values` will be the data of the series."
   ]
  },
  {
   "cell_type": "markdown",
   "id": "f0f2ed09",
   "metadata": {},
   "source": [
    "Of course, you can also pass the `data` and `index` separately:"
   ]
  },
  {
   "cell_type": "code",
   "execution_count": 5,
   "id": "a3e6a40a",
   "metadata": {},
   "outputs": [
    {
     "data": {
      "text/plain": [
       "United States     Washington, D.C.\n",
       "Canada                      Ottawa\n",
       "United Kingdom              London\n",
       "dtype: object"
      ]
     },
     "execution_count": 5,
     "metadata": {},
     "output_type": "execute_result"
    }
   ],
   "source": [
    "pd.Series(data=['Washington, D.C.', 'Ottawa', 'London'],\n",
    "          index=['United States', 'Canada', 'United Kingdom']\n",
    "         )"
   ]
  },
  {
   "cell_type": "markdown",
   "id": "40d4af21",
   "metadata": {},
   "source": [
    "Also,"
   ]
  },
  {
   "cell_type": "code",
   "execution_count": 6,
   "id": "b0086c2c",
   "metadata": {},
   "outputs": [
    {
     "data": {
      "text/plain": [
       "Facebook      Mark\n",
       "Google       Larry\n",
       "Apple        Steve\n",
       "Google      Sundar\n",
       "dtype: object"
      ]
     },
     "execution_count": 6,
     "metadata": {},
     "output_type": "execute_result"
    }
   ],
   "source": [
    "pd.Series(data=['Mark','Larry','Steve','Sundar'],\n",
    "          index=['Facebook','Google','Apple','Google'])"
   ]
  },
  {
   "cell_type": "markdown",
   "id": "be1c7b7f",
   "metadata": {},
   "source": [
    "Index values can be repeated!"
   ]
  },
  {
   "cell_type": "markdown",
   "id": "09d0e9b5",
   "metadata": {},
   "source": [
    "![](../media/panda-approves.jpg)"
   ]
  },
  {
   "cell_type": "markdown",
   "id": "2ed007ed",
   "metadata": {},
   "source": [
    "## How to access data in pandas Series?"
   ]
  },
  {
   "cell_type": "markdown",
   "id": "e70b281f",
   "metadata": {},
   "source": [
    "Why are indexes useful in pandas Series? They allow you to access data more easily:"
   ]
  },
  {
   "cell_type": "code",
   "execution_count": 7,
   "id": "ff8cc9ad",
   "metadata": {},
   "outputs": [
    {
     "data": {
      "text/plain": [
       "Google       Larry\n",
       "Microsoft     Bill\n",
       "Facebook      Mark\n",
       "Apple        Steve\n",
       "dtype: object"
      ]
     },
     "execution_count": 7,
     "metadata": {},
     "output_type": "execute_result"
    }
   ],
   "source": [
    "ceos = pd.Series(data=[\"Larry\", \"Bill\", \"Mark\", \"Steve\"], \n",
    "               index=[\"Google\", \"Microsoft\", \"Facebook\", \"Apple\"])\n",
    "ceos"
   ]
  },
  {
   "cell_type": "markdown",
   "id": "57cd2ea1",
   "metadata": {},
   "source": [
    "We can access a specific row using the index value"
   ]
  },
  {
   "cell_type": "code",
   "execution_count": 8,
   "id": "3cd4b524",
   "metadata": {},
   "outputs": [
    {
     "data": {
      "text/plain": [
       "'Larry'"
      ]
     },
     "execution_count": 8,
     "metadata": {},
     "output_type": "execute_result"
    }
   ],
   "source": [
    "ceos['Google']"
   ]
  },
  {
   "cell_type": "markdown",
   "id": "57c2e5c9",
   "metadata": {},
   "source": [
    "Which can also be done with `.loc[]`"
   ]
  },
  {
   "cell_type": "code",
   "execution_count": 9,
   "id": "370f22ee",
   "metadata": {},
   "outputs": [
    {
     "data": {
      "text/plain": [
       "'Larry'"
      ]
     },
     "execution_count": 9,
     "metadata": {},
     "output_type": "execute_result"
    }
   ],
   "source": [
    "ceos.loc['Google']"
   ]
  },
  {
   "cell_type": "markdown",
   "id": "3fda292e",
   "metadata": {},
   "source": [
    "We can also access by position like we already do in lists:"
   ]
  },
  {
   "cell_type": "code",
   "execution_count": 10,
   "id": "c5b8ff4b",
   "metadata": {},
   "outputs": [
    {
     "data": {
      "text/plain": [
       "'Larry'"
      ]
     },
     "execution_count": 10,
     "metadata": {},
     "output_type": "execute_result"
    }
   ],
   "source": [
    "ceos.iloc[0]"
   ]
  },
  {
   "cell_type": "markdown",
   "id": "e02fc34d",
   "metadata": {},
   "source": [
    "Negative positions work as well"
   ]
  },
  {
   "cell_type": "code",
   "execution_count": 11,
   "id": "b959d459",
   "metadata": {},
   "outputs": [
    {
     "data": {
      "text/plain": [
       "'Steve'"
      ]
     },
     "execution_count": 11,
     "metadata": {},
     "output_type": "execute_result"
    }
   ],
   "source": [
    "ceos.iloc[-1]"
   ]
  },
  {
   "cell_type": "markdown",
   "id": "a1068a43",
   "metadata": {},
   "source": [
    "And of course, slicing also works here"
   ]
  },
  {
   "cell_type": "code",
   "execution_count": 12,
   "id": "2e76a7f9",
   "metadata": {},
   "outputs": [
    {
     "data": {
      "text/plain": [
       "Microsoft    Bill\n",
       "Facebook     Mark\n",
       "dtype: object"
      ]
     },
     "execution_count": 12,
     "metadata": {},
     "output_type": "execute_result"
    }
   ],
   "source": [
    "ceos.iloc[1:3] # returns another Series object with only these two elements! "
   ]
  },
  {
   "cell_type": "markdown",
   "id": "5876bce5",
   "metadata": {},
   "source": [
    "What is the difference between **.loc** and **.iloc**?\n",
    "\n",
    "- **.loc**: access values exactly like they appear on the index\n",
    "- **.iloc**: access **i**ndex positions"
   ]
  },
  {
   "cell_type": "markdown",
   "id": "614c95f4",
   "metadata": {},
   "source": [
    "![](../media/dory.jpg)"
   ]
  },
  {
   "cell_type": "markdown",
   "id": "55d6ec0b",
   "metadata": {},
   "source": [
    "# What can a Pandas Series store?\n",
    "\n",
    "Anything really. Can be numbers"
   ]
  },
  {
   "cell_type": "code",
   "execution_count": 13,
   "id": "cf2f71c0",
   "metadata": {},
   "outputs": [
    {
     "data": {
      "text/plain": [
       "0    1\n",
       "1    4\n",
       "2    6\n",
       "3    3\n",
       "4    2\n",
       "dtype: int64"
      ]
     },
     "execution_count": 13,
     "metadata": {},
     "output_type": "execute_result"
    }
   ],
   "source": [
    "pd.Series([1,4,6,3,2])"
   ]
  },
  {
   "cell_type": "markdown",
   "id": "ba6520d7",
   "metadata": {},
   "source": [
    "Can be strings"
   ]
  },
  {
   "cell_type": "code",
   "execution_count": 14,
   "id": "bd8b6659",
   "metadata": {},
   "outputs": [
    {
     "data": {
      "text/plain": [
       "0    Washington, D.C.\n",
       "1              Ottawa\n",
       "2              London\n",
       "3              Berlin\n",
       "4               Paris\n",
       "dtype: object"
      ]
     },
     "execution_count": 14,
     "metadata": {},
     "output_type": "execute_result"
    }
   ],
   "source": [
    "pd.Series(['Washington, D.C.', 'Ottawa', 'London', 'Berlin', 'Paris'])"
   ]
  },
  {
   "cell_type": "markdown",
   "id": "f4a40f1d",
   "metadata": {},
   "source": [
    "any data type really"
   ]
  },
  {
   "cell_type": "code",
   "execution_count": 17,
   "id": "a9c61b6f",
   "metadata": {},
   "outputs": [
    {
     "data": {
      "text/plain": [
       "0    {'a': 1, 'b': 2}\n",
       "1    {'a': 6, 'b': 7}\n",
       "dtype: object"
      ]
     },
     "execution_count": 17,
     "metadata": {},
     "output_type": "execute_result"
    }
   ],
   "source": [
    "pd.Series([{'a':1,'b':2},{'a':6,'b':7}])"
   ]
  },
  {
   "cell_type": "markdown",
   "id": "39ff9f46",
   "metadata": {},
   "source": [
    "Including custom objects"
   ]
  },
  {
   "cell_type": "code",
   "execution_count": 18,
   "id": "690caeab",
   "metadata": {},
   "outputs": [
    {
     "data": {
      "text/plain": [
       "0     Student João, no. 54728\n",
       "1     Student Inês, no. 55782\n",
       "2    Student Diogo, no. 53829\n",
       "dtype: object"
      ]
     },
     "execution_count": 18,
     "metadata": {},
     "output_type": "execute_result"
    }
   ],
   "source": [
    "class Student:\n",
    "    def __init__(self,name, number):\n",
    "        self.name = name\n",
    "        self.number = number\n",
    "    def __repr__(self):\n",
    "        return f'Student {self.name}, no. {self.number}'\n",
    "    \n",
    "pd.Series([Student('João',54728), Student('Inês',55782), Student('Diogo', 53829)])"
   ]
  },
  {
   "cell_type": "markdown",
   "id": "db9cc029",
   "metadata": {},
   "source": [
    "Finally, it can also store a mix of different types"
   ]
  },
  {
   "cell_type": "code",
   "execution_count": 19,
   "id": "1ae6a006",
   "metadata": {},
   "outputs": [
    {
     "data": {
      "text/plain": [
       "0                          1\n",
       "1                          2\n",
       "2    Student Sara, no. 18290\n",
       "3      Apparently this works\n",
       "dtype: object"
      ]
     },
     "execution_count": 19,
     "metadata": {},
     "output_type": "execute_result"
    }
   ],
   "source": [
    "pd.Series([1,2,Student('Sara', 18290), 'Apparently this works'])"
   ]
  },
  {
   "cell_type": "markdown",
   "id": "b4ac43bd",
   "metadata": {},
   "source": [
    "![](../media/fry.jpg)"
   ]
  },
  {
   "cell_type": "markdown",
   "id": "645f9a24",
   "metadata": {},
   "source": [
    "# Datatypes"
   ]
  },
  {
   "cell_type": "markdown",
   "id": "c5586227",
   "metadata": {},
   "source": [
    "Pandas is intimately connected to NumPy and also uses its datatypes `float`, `int`, `bool`, `timedelta64[ns]` and `datetime64[ns]`. In pandas, all of these are **64bit** types by default. \n",
    "\n",
    "In addition, pandas has its own so-called extension datatypes, e.g `strings`, `periods`, `intervals`, `categoricals`. You can see the full list [here](https://pandas.pydata.org/docs/user_guide/basics.html#dtypes) (no need to memorize it)."
   ]
  },
  {
   "cell_type": "code",
   "execution_count": 21,
   "id": "48be9974",
   "metadata": {},
   "outputs": [
    {
     "data": {
      "text/plain": [
       "0    1\n",
       "1    4\n",
       "2    6\n",
       "3    3\n",
       "4    2\n",
       "dtype: int64"
      ]
     },
     "execution_count": 21,
     "metadata": {},
     "output_type": "execute_result"
    }
   ],
   "source": [
    "pd.Series([1,4,6,3,2])"
   ]
  },
  {
   "cell_type": "markdown",
   "id": "16b478c7",
   "metadata": {},
   "source": [
    "Because this series only stores numbers, pandas automatically assigns the datatype `int64` to this series."
   ]
  },
  {
   "cell_type": "code",
   "execution_count": 22,
   "id": "120f1142",
   "metadata": {},
   "outputs": [
    {
     "data": {
      "text/plain": [
       "0    Washington, D.C.\n",
       "1              Ottawa\n",
       "2              London\n",
       "3              Berlin\n",
       "4               Paris\n",
       "dtype: object"
      ]
     },
     "execution_count": 22,
     "metadata": {},
     "output_type": "execute_result"
    }
   ],
   "source": [
    "pd.Series(['Washington, D.C.', 'Ottawa', 'London', 'Berlin', 'Paris'])"
   ]
  },
  {
   "cell_type": "markdown",
   "id": "144aa929",
   "metadata": {},
   "source": [
    "If you have a Series of just strings, pandas will use the dtype `object`."
   ]
  },
  {
   "cell_type": "code",
   "execution_count": 23,
   "id": "1ac91bec",
   "metadata": {},
   "outputs": [
    {
     "data": {
      "text/plain": [
       "0      1\n",
       "1    two\n",
       "2      3\n",
       "dtype: object"
      ]
     },
     "execution_count": 23,
     "metadata": {},
     "output_type": "execute_result"
    }
   ],
   "source": [
    "pd.Series([1, 'two', 3])"
   ]
  },
  {
   "cell_type": "markdown",
   "id": "0d34c16a",
   "metadata": {},
   "source": [
    "But wait! What's happening here? This Series also says it is of type object"
   ]
  },
  {
   "cell_type": "markdown",
   "id": "bd99a478",
   "metadata": {},
   "source": [
    "The dtype `object` is pandas way of storing data when the elements of the series are heterogeneous **or** when the data types are more complex than the built-in numerical or datetime types. \n",
    "\n",
    "However it uses this same object for strings as well by default. Though you can change that:"
   ]
  },
  {
   "cell_type": "code",
   "execution_count": 24,
   "id": "13b631ca",
   "metadata": {},
   "outputs": [
    {
     "data": {
      "text/plain": [
       "0      one\n",
       "1      two\n",
       "2    three\n",
       "dtype: string"
      ]
     },
     "execution_count": 24,
     "metadata": {},
     "output_type": "execute_result"
    }
   ],
   "source": [
    "pd.Series(['one', 'two', 'three'],dtype='string')"
   ]
  },
  {
   "cell_type": "markdown",
   "id": "70c2adef",
   "metadata": {},
   "source": [
    "A series with type `string` will never allow you to store any other dtype in this object. This can be very important because during data manipulation and performing several operations you may, by mistake, try to store numbers or something else in this series. And the `string` dtype helps ensure you don't make that mistake - it's a safety mechanism."
   ]
  },
  {
   "cell_type": "markdown",
   "id": "4812881d",
   "metadata": {},
   "source": [
    "# Extracting data from a Series\n",
    "\n",
    "Sometimes you need to extract the data from your series and have it in the form of an array. The `to_numpy()` method helps you extracting the data as NumPy array"
   ]
  },
  {
   "cell_type": "code",
   "execution_count": 25,
   "id": "7d7550c8",
   "metadata": {},
   "outputs": [
    {
     "data": {
      "text/plain": [
       "A    1\n",
       "B    2\n",
       "C    3\n",
       "D    4\n",
       "E    5\n",
       "dtype: int64"
      ]
     },
     "execution_count": 25,
     "metadata": {},
     "output_type": "execute_result"
    }
   ],
   "source": [
    "my_series = pd.Series([1,2,3,4,5],index=['A','B','C','D','E'])\n",
    "my_series"
   ]
  },
  {
   "cell_type": "code",
   "execution_count": 26,
   "id": "72291602",
   "metadata": {},
   "outputs": [
    {
     "data": {
      "text/plain": [
       "array([1, 2, 3, 4, 5])"
      ]
     },
     "execution_count": 26,
     "metadata": {},
     "output_type": "execute_result"
    }
   ],
   "source": [
    "my_series.to_numpy()"
   ]
  },
  {
   "cell_type": "markdown",
   "id": "cd223bb0",
   "metadata": {},
   "source": [
    "Similar thing if you need the index"
   ]
  },
  {
   "cell_type": "code",
   "execution_count": 27,
   "id": "ac636235",
   "metadata": {},
   "outputs": [
    {
     "data": {
      "text/plain": [
       "array(['A', 'B', 'C', 'D', 'E'], dtype=object)"
      ]
     },
     "execution_count": 27,
     "metadata": {},
     "output_type": "execute_result"
    }
   ],
   "source": [
    "my_series.index.to_numpy()"
   ]
  },
  {
   "cell_type": "code",
   "execution_count": null,
   "id": "693d8dbd",
   "metadata": {},
   "outputs": [],
   "source": []
  }
 ],
 "metadata": {
  "kernelspec": {
   "display_name": "Python 3 (ipykernel)",
   "language": "python",
   "name": "python3"
  },
  "language_info": {
   "codemirror_mode": {
    "name": "ipython",
    "version": 3
   },
   "file_extension": ".py",
   "mimetype": "text/x-python",
   "name": "python",
   "nbconvert_exporter": "python",
   "pygments_lexer": "ipython3",
   "version": "3.10.9"
  }
 },
 "nbformat": 4,
 "nbformat_minor": 5
}
