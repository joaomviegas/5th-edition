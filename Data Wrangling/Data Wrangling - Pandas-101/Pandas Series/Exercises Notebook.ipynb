{
 "cells": [
  {
   "cell_type": "markdown",
   "id": "6c86d7ac",
   "metadata": {},
   "source": [
    "# Imports"
   ]
  },
  {
   "cell_type": "code",
   "execution_count": null,
   "id": "3bd80b32",
   "metadata": {},
   "outputs": [],
   "source": [
    "import pandas as pd\n",
    "import numpy as np"
   ]
  },
  {
   "cell_type": "markdown",
   "id": "fd1ed19e",
   "metadata": {},
   "source": [
    "# Exercise 1.1 - Create a pandas Series from a list.\n",
    "\n",
    "Create a `list` with the names of the items given in the cell below. Then create a `Series` using that list, using the order provided.\n",
    "\n",
    "Note: Let pandas generate the index on its own."
   ]
  },
  {
   "cell_type": "code",
   "execution_count": null,
   "id": "02b0f910",
   "metadata": {},
   "outputs": [],
   "source": [
    "# items (each of type string): beef, cheese, pulses, nuts, grains\n",
    "items_list = [\"beef\", \"cheese\", \"pulses\", \"nuts\", \"grains\"]\n",
    "\n",
    "# Create a series with the items above, and call it items_series\n",
    "# items_series = ..."
   ]
  },
  {
   "cell_type": "code",
   "execution_count": null,
   "id": "30264427",
   "metadata": {},
   "outputs": [],
   "source": [
    "# run this cell to see the results \n",
    "items_series"
   ]
  },
  {
   "cell_type": "markdown",
   "id": "7633a1c3",
   "metadata": {},
   "source": [
    "# Exercise 1.2 - $CO_2$ equivalents\n",
    "\n",
    "Let's now use the `items_list` as index and build a Series containing the kg $CO_2$ equivalents per item (the amount of $CO_2$ corresponding to the warming effect of greenhouse gases emitted during production of the item, [ref](https://www.science.org/doi/10.1126/science.aaq0216))."
   ]
  },
  {
   "cell_type": "code",
   "execution_count": null,
   "id": "83d0894d",
   "metadata": {},
   "outputs": [],
   "source": [
    "# kg CO2 equivalents of the foods in items_list:\n",
    "food_CO2 = np.array([50, 11, 0.8, 0.3, 2.7]) "
   ]
  },
  {
   "cell_type": "code",
   "execution_count": null,
   "id": "933df4c0",
   "metadata": {},
   "outputs": [],
   "source": [
    "# Create a series which has items_list (created in exercise 1.1) as index, \n",
    "# and the respective value in the food_CO2 list given in the cell above as values.\n",
    "# CO2_eq = ..."
   ]
  },
  {
   "cell_type": "code",
   "execution_count": null,
   "id": "f2f189f3",
   "metadata": {},
   "outputs": [],
   "source": [
    "# run this cell to see the results \n",
    "CO2_eq"
   ]
  },
  {
   "cell_type": "markdown",
   "id": "91602aac",
   "metadata": {},
   "source": [
    "# Exercise 1.3 - What is the $CO_2$ equivalent of a beef?\n",
    "\n",
    "**hint**: What makes more sense to use here `.loc` or `.iloc`?\n"
   ]
  },
  {
   "cell_type": "code",
   "execution_count": null,
   "id": "782ee173",
   "metadata": {},
   "outputs": [],
   "source": [
    "# beef_co2 = ..."
   ]
  },
  {
   "cell_type": "markdown",
   "id": "4dd47968",
   "metadata": {},
   "source": [
    "# Exercise 1.4 - What is the $CO_2$ equivalent of the last item in our list?\n",
    "\n",
    "**hint**: What makes more sense to use here `.loc` or `.iloc`?"
   ]
  },
  {
   "cell_type": "code",
   "execution_count": null,
   "id": "8af9b107",
   "metadata": {},
   "outputs": [],
   "source": [
    "# last_item_co2 = ..."
   ]
  },
  {
   "cell_type": "markdown",
   "id": "f2a1a25a",
   "metadata": {},
   "source": [
    "# Exercise 1.5 - Create a Series from a dictionary\n",
    "\n",
    "You have a grocery store with items and their quantities. (this sounds familiar...)\n",
    "\n",
    "Create a dictionary to represent this data and then create a pandas series from that dictionary"
   ]
  },
  {
   "cell_type": "code",
   "execution_count": null,
   "id": "ab79ee70",
   "metadata": {},
   "outputs": [],
   "source": [
    "# storage : 3 oranges, 2 bananas, 19 apples, 5 pears\n",
    "# storage_dictionary = ...\n",
    "\n",
    "# storage_series = ..."
   ]
  }
 ],
 "metadata": {
  "kernelspec": {
   "display_name": "Python 3 (ipykernel)",
   "language": "python",
   "name": "python3"
  },
  "language_info": {
   "codemirror_mode": {
    "name": "ipython",
    "version": 3
   },
   "file_extension": ".py",
   "mimetype": "text/x-python",
   "name": "python",
   "nbconvert_exporter": "python",
   "pygments_lexer": "ipython3",
   "version": "3.10.9"
  }
 },
 "nbformat": 4,
 "nbformat_minor": 5
}
