{
 "cells": [
  {
   "cell_type": "markdown",
   "id": "5abddba6",
   "metadata": {},
   "source": [
    "# What you will learn in this notebook\n",
    "\n",
    "In this notebook we will cover the following:\n",
    "\n",
    "1. Dataframes \n",
    "    1. Making dataframes from series\n",
    "    2. What if my data isn't a pandas Series?\n",
    "    3. Getting the index and column values\n",
    "2. Previewing and describing a DataFrame\n",
    "    1. Previewing the DataFrame or part of it\n",
    "    2. Retrieving DataFrame information\n",
    "3. Reading data from files into pandas dataframes\n",
    "4. Writing data from pandas into files"
   ]
  },
  {
   "cell_type": "markdown",
   "id": "9c64bc28",
   "metadata": {},
   "source": [
    "# Imports"
   ]
  },
  {
   "cell_type": "code",
   "execution_count": 1,
   "id": "f14e7c8c",
   "metadata": {},
   "outputs": [],
   "source": [
    "import pandas as pd\n",
    "import os"
   ]
  },
  {
   "cell_type": "markdown",
   "id": "70f32853",
   "metadata": {},
   "source": [
    "# What is a DataFrame\n",
    "\n",
    "A 2D, potentially heterogenous, tabular structure. It can be thought of as a container of Series. It is also possible to have 1-dimensional dataframes (dataframes with one column). The documentation on DataFrame is available on the `pandas.DataFrame` [documentation page](https://pandas.pydata.org/pandas-docs/stable/reference/api/pandas.DataFrame.html) \n",
    "\n",
    "Below is an example of a DataFrame with Pokémon characteristics. Notice the different datatypes - numeric, string, and boolean.\n",
    "\n",
    "\n",
    "![](../media/pokemon.png)"
   ]
  },
  {
   "cell_type": "markdown",
   "id": "795a2687",
   "metadata": {},
   "source": [
    "Let's create our first DataFrame:"
   ]
  },
  {
   "cell_type": "code",
   "execution_count": 2,
   "id": "0b9369ca",
   "metadata": {},
   "outputs": [
    {
     "data": {
      "text/html": [
       "<div>\n",
       "<style scoped>\n",
       "    .dataframe tbody tr th:only-of-type {\n",
       "        vertical-align: middle;\n",
       "    }\n",
       "\n",
       "    .dataframe tbody tr th {\n",
       "        vertical-align: top;\n",
       "    }\n",
       "\n",
       "    .dataframe thead th {\n",
       "        text-align: right;\n",
       "    }\n",
       "</style>\n",
       "<table border=\"1\" class=\"dataframe\">\n",
       "  <thead>\n",
       "    <tr style=\"text-align: right;\">\n",
       "      <th></th>\n",
       "      <th>0</th>\n",
       "    </tr>\n",
       "  </thead>\n",
       "  <tbody>\n",
       "    <tr>\n",
       "      <th>0</th>\n",
       "      <td>10</td>\n",
       "    </tr>\n",
       "    <tr>\n",
       "      <th>1</th>\n",
       "      <td>122</td>\n",
       "    </tr>\n",
       "    <tr>\n",
       "      <th>2</th>\n",
       "      <td>1</td>\n",
       "    </tr>\n",
       "  </tbody>\n",
       "</table>\n",
       "</div>"
      ],
      "text/plain": [
       "     0\n",
       "0   10\n",
       "1  122\n",
       "2    1"
      ]
     },
     "execution_count": 2,
     "metadata": {},
     "output_type": "execute_result"
    }
   ],
   "source": [
    "df1 = pd.DataFrame([10,122,1])\n",
    "df1"
   ]
  },
  {
   "cell_type": "markdown",
   "id": "ca83e30e",
   "metadata": {},
   "source": [
    "Now this might look like a pandas Series on the first sight, but it behaves differently in some ways (and similarly in others). The DataFrame has an index as a Series, but additionally it has column names (the zero above the horizontal line in this example). Remember that when printing Series, pandas automatically printed the `datatype`? It does not happen with the DataFrame. The DataFrame as a whole does not have a datatype, but each of its columns does.\n",
    "\n",
    "Let's print the dataframe column. We use **square brackets** with the column name to select it. In this case, the **column name** is just a number. (If you remember from the Series section, this was the way to select the Series rows - the first difference!)\n",
    "\n",
    "\n",
    "A DataFrame column called in this way is actually a pandas `Series`:"
   ]
  },
  {
   "cell_type": "code",
   "execution_count": 3,
   "id": "2c287302",
   "metadata": {},
   "outputs": [
    {
     "data": {
      "text/plain": [
       "0     10\n",
       "1    122\n",
       "2      1\n",
       "Name: 0, dtype: int64"
      ]
     },
     "execution_count": 3,
     "metadata": {},
     "output_type": "execute_result"
    }
   ],
   "source": [
    "df1[0] # this selects the column with name 0"
   ]
  },
  {
   "cell_type": "markdown",
   "id": "d8461188",
   "metadata": {},
   "source": [
    "You can select a column and have the result be a dataframe using **double brackets**:"
   ]
  },
  {
   "cell_type": "markdown",
   "id": "93ccce57",
   "metadata": {},
   "source": [
    "You probably guessed by the look of it that this is a `DataFrame`! \n",
    "\n",
    "Remember: \n",
    "\n",
    "1. one pair of brackets --> **Series**\n",
    "2. two pairs of brackets --> **DataFrame**"
   ]
  },
  {
   "cell_type": "markdown",
   "id": "adc471f3",
   "metadata": {},
   "source": [
    "Now on to a dataframe with more columns. We will also pass a list of `column names` and another list for the `index`, using the appropriate arguments."
   ]
  },
  {
   "cell_type": "code",
   "execution_count": 9,
   "id": "f65a187e",
   "metadata": {},
   "outputs": [
    {
     "data": {
      "text/html": [
       "<div>\n",
       "<style scoped>\n",
       "    .dataframe tbody tr th:only-of-type {\n",
       "        vertical-align: middle;\n",
       "    }\n",
       "\n",
       "    .dataframe tbody tr th {\n",
       "        vertical-align: top;\n",
       "    }\n",
       "\n",
       "    .dataframe thead th {\n",
       "        text-align: right;\n",
       "    }\n",
       "</style>\n",
       "<table border=\"1\" class=\"dataframe\">\n",
       "  <thead>\n",
       "    <tr style=\"text-align: right;\">\n",
       "      <th></th>\n",
       "      <th>col1</th>\n",
       "      <th>col2</th>\n",
       "      <th>col3</th>\n",
       "    </tr>\n",
       "  </thead>\n",
       "  <tbody>\n",
       "    <tr>\n",
       "      <th>row1</th>\n",
       "      <td>1</td>\n",
       "      <td>2</td>\n",
       "      <td>7</td>\n",
       "    </tr>\n",
       "    <tr>\n",
       "      <th>row2</th>\n",
       "      <td>4.2</td>\n",
       "      <td>6.1</td>\n",
       "      <td>-4.1</td>\n",
       "    </tr>\n",
       "    <tr>\n",
       "      <th>row3</th>\n",
       "      <td>a</td>\n",
       "      <td>b</td>\n",
       "      <td>z</td>\n",
       "    </tr>\n",
       "  </tbody>\n",
       "</table>\n",
       "</div>"
      ],
      "text/plain": [
       "     col1 col2 col3\n",
       "row1    1    2    7\n",
       "row2  4.2  6.1 -4.1\n",
       "row3    a    b    z"
      ]
     },
     "execution_count": 9,
     "metadata": {},
     "output_type": "execute_result"
    }
   ],
   "source": [
    "# ignore the weird spacing, it's just to make clear that we have 3 lists of 3 elements\n",
    "# notice that this is a list of lists\n",
    "\n",
    "df2 = pd.DataFrame([[1,   2,   7],  \n",
    "                    [4.2, 6.1, -4.1], \n",
    "                    [\"a\", \"b\", \"z\"] ],\n",
    "                    columns=['col1','col2','col3'],  # <- column names\n",
    "                    index=['row1','row2','row3'])    # <- row names\n",
    "df2"
   ]
  },
  {
   "cell_type": "code",
   "execution_count": 10,
   "id": "369310ab",
   "metadata": {},
   "outputs": [
    {
     "data": {
      "text/plain": [
       "col2    2\n",
       "col3    7\n",
       "Name: row1, dtype: object"
      ]
     },
     "execution_count": 10,
     "metadata": {},
     "output_type": "execute_result"
    }
   ],
   "source": [
    "df2.loc['row1',['col2','col3']]"
   ]
  },
  {
   "cell_type": "markdown",
   "id": "f1875b3f",
   "metadata": {},
   "source": [
    "Looking at the result, we can see that each list represents a row. What if you want to input the values by columns? You can use `dictionaries`:"
   ]
  },
  {
   "cell_type": "code",
   "execution_count": 12,
   "id": "3aa18f4c",
   "metadata": {},
   "outputs": [
    {
     "data": {
      "text/html": [
       "<div>\n",
       "<style scoped>\n",
       "    .dataframe tbody tr th:only-of-type {\n",
       "        vertical-align: middle;\n",
       "    }\n",
       "\n",
       "    .dataframe tbody tr th {\n",
       "        vertical-align: top;\n",
       "    }\n",
       "\n",
       "    .dataframe thead th {\n",
       "        text-align: right;\n",
       "    }\n",
       "</style>\n",
       "<table border=\"1\" class=\"dataframe\">\n",
       "  <thead>\n",
       "    <tr style=\"text-align: right;\">\n",
       "      <th></th>\n",
       "      <th>col1</th>\n",
       "      <th>col2</th>\n",
       "      <th>col3</th>\n",
       "    </tr>\n",
       "  </thead>\n",
       "  <tbody>\n",
       "    <tr>\n",
       "      <th>row1</th>\n",
       "      <td>1</td>\n",
       "      <td>4.2</td>\n",
       "      <td>a</td>\n",
       "    </tr>\n",
       "    <tr>\n",
       "      <th>row2</th>\n",
       "      <td>2</td>\n",
       "      <td>6.1</td>\n",
       "      <td>b</td>\n",
       "    </tr>\n",
       "    <tr>\n",
       "      <th>row3</th>\n",
       "      <td>7</td>\n",
       "      <td>-4.1</td>\n",
       "      <td>z</td>\n",
       "    </tr>\n",
       "  </tbody>\n",
       "</table>\n",
       "</div>"
      ],
      "text/plain": [
       "      col1  col2 col3\n",
       "row1     1   4.2    a\n",
       "row2     2   6.1    b\n",
       "row3     7  -4.1    z"
      ]
     },
     "execution_count": 12,
     "metadata": {},
     "output_type": "execute_result"
    }
   ],
   "source": [
    "df3=pd.DataFrame(data = { 'col1':[1,   2,   7],  \n",
    "                   'col2':[4.2, 6.1, -4.1], \n",
    "                   'col3':[\"a\", \"b\", \"z\"] \n",
    "                 },\n",
    "                 index=['row1','row2','row3']\n",
    "                )\n",
    "df3"
   ]
  },
  {
   "cell_type": "markdown",
   "id": "b9e1a2f2",
   "metadata": {},
   "source": [
    "Very often, your data comes in lists, including the column names. It's easy to zip them into a `dictionary`"
   ]
  },
  {
   "cell_type": "code",
   "execution_count": 13,
   "id": "010ac557",
   "metadata": {},
   "outputs": [],
   "source": [
    "column_names=[\"company\",\"founder_name\",\"founder_surname\"]\n",
    "\n",
    "company = [\"PiggyVest\",\"Bumble\",\"Backstage Capital\",\"Blendoor\",\"LungXpert\", \"Cisco\",\"Eventbrite\",\n",
    "                \"Adafruit Industries\",\"Verge Genomics\",\"23andme\"]\n",
    "founder_name = [\"Odunayo\",\"Whitney\",\"Arlan\",\"Stephanie\",\"Sasikala\",\"Sandy\",\"Julia\",\"Limor\",\"Alice\",\"Anne\"]\n",
    "founder_surname = [\"Eweniyi\",\"Wolfe Heard\",\"Hamilton\",\"Lampkin\",\"Devi\",\"Lerner\",\"Hartz\",\"Fried\",\"Zhang\",\"Wojcicki\"]"
   ]
  },
  {
   "cell_type": "code",
   "execution_count": 16,
   "id": "05cd0ca0",
   "metadata": {},
   "outputs": [
    {
     "data": {
      "text/plain": [
       "{'company': ['PiggyVest',\n",
       "  'Bumble',\n",
       "  'Backstage Capital',\n",
       "  'Blendoor',\n",
       "  'LungXpert',\n",
       "  'Cisco',\n",
       "  'Eventbrite',\n",
       "  'Adafruit Industries',\n",
       "  'Verge Genomics',\n",
       "  '23andme'],\n",
       " 'founder_name': ['Odunayo',\n",
       "  'Whitney',\n",
       "  'Arlan',\n",
       "  'Stephanie',\n",
       "  'Sasikala',\n",
       "  'Sandy',\n",
       "  'Julia',\n",
       "  'Limor',\n",
       "  'Alice',\n",
       "  'Anne'],\n",
       " 'founder_surname': ['Eweniyi',\n",
       "  'Wolfe Heard',\n",
       "  'Hamilton',\n",
       "  'Lampkin',\n",
       "  'Devi',\n",
       "  'Lerner',\n",
       "  'Hartz',\n",
       "  'Fried',\n",
       "  'Zhang',\n",
       "  'Wojcicki']}"
      ]
     },
     "execution_count": 16,
     "metadata": {},
     "output_type": "execute_result"
    }
   ],
   "source": [
    "tech_companies_dictionary=dict(zip(column_names,[company,founder_name,founder_surname]))\n",
    "tech_companies_dictionary"
   ]
  },
  {
   "cell_type": "markdown",
   "id": "486dc97c",
   "metadata": {},
   "source": [
    "... then pass it to a `DataFrame`\n"
   ]
  },
  {
   "cell_type": "code",
   "execution_count": 17,
   "id": "a1086930",
   "metadata": {},
   "outputs": [
    {
     "data": {
      "text/html": [
       "<div>\n",
       "<style scoped>\n",
       "    .dataframe tbody tr th:only-of-type {\n",
       "        vertical-align: middle;\n",
       "    }\n",
       "\n",
       "    .dataframe tbody tr th {\n",
       "        vertical-align: top;\n",
       "    }\n",
       "\n",
       "    .dataframe thead th {\n",
       "        text-align: right;\n",
       "    }\n",
       "</style>\n",
       "<table border=\"1\" class=\"dataframe\">\n",
       "  <thead>\n",
       "    <tr style=\"text-align: right;\">\n",
       "      <th></th>\n",
       "      <th>company</th>\n",
       "      <th>founder_name</th>\n",
       "      <th>founder_surname</th>\n",
       "    </tr>\n",
       "  </thead>\n",
       "  <tbody>\n",
       "    <tr>\n",
       "      <th>0</th>\n",
       "      <td>PiggyVest</td>\n",
       "      <td>Odunayo</td>\n",
       "      <td>Eweniyi</td>\n",
       "    </tr>\n",
       "    <tr>\n",
       "      <th>1</th>\n",
       "      <td>Bumble</td>\n",
       "      <td>Whitney</td>\n",
       "      <td>Wolfe Heard</td>\n",
       "    </tr>\n",
       "    <tr>\n",
       "      <th>2</th>\n",
       "      <td>Backstage Capital</td>\n",
       "      <td>Arlan</td>\n",
       "      <td>Hamilton</td>\n",
       "    </tr>\n",
       "    <tr>\n",
       "      <th>3</th>\n",
       "      <td>Blendoor</td>\n",
       "      <td>Stephanie</td>\n",
       "      <td>Lampkin</td>\n",
       "    </tr>\n",
       "    <tr>\n",
       "      <th>4</th>\n",
       "      <td>LungXpert</td>\n",
       "      <td>Sasikala</td>\n",
       "      <td>Devi</td>\n",
       "    </tr>\n",
       "    <tr>\n",
       "      <th>5</th>\n",
       "      <td>Cisco</td>\n",
       "      <td>Sandy</td>\n",
       "      <td>Lerner</td>\n",
       "    </tr>\n",
       "    <tr>\n",
       "      <th>6</th>\n",
       "      <td>Eventbrite</td>\n",
       "      <td>Julia</td>\n",
       "      <td>Hartz</td>\n",
       "    </tr>\n",
       "    <tr>\n",
       "      <th>7</th>\n",
       "      <td>Adafruit Industries</td>\n",
       "      <td>Limor</td>\n",
       "      <td>Fried</td>\n",
       "    </tr>\n",
       "    <tr>\n",
       "      <th>8</th>\n",
       "      <td>Verge Genomics</td>\n",
       "      <td>Alice</td>\n",
       "      <td>Zhang</td>\n",
       "    </tr>\n",
       "    <tr>\n",
       "      <th>9</th>\n",
       "      <td>23andme</td>\n",
       "      <td>Anne</td>\n",
       "      <td>Wojcicki</td>\n",
       "    </tr>\n",
       "  </tbody>\n",
       "</table>\n",
       "</div>"
      ],
      "text/plain": [
       "               company founder_name founder_surname\n",
       "0            PiggyVest      Odunayo         Eweniyi\n",
       "1               Bumble      Whitney     Wolfe Heard\n",
       "2    Backstage Capital        Arlan        Hamilton\n",
       "3             Blendoor    Stephanie         Lampkin\n",
       "4            LungXpert     Sasikala            Devi\n",
       "5                Cisco        Sandy          Lerner\n",
       "6           Eventbrite        Julia           Hartz\n",
       "7  Adafruit Industries        Limor           Fried\n",
       "8       Verge Genomics        Alice           Zhang\n",
       "9              23andme         Anne        Wojcicki"
      ]
     },
     "execution_count": 17,
     "metadata": {},
     "output_type": "execute_result"
    }
   ],
   "source": [
    "df6 = pd.DataFrame(tech_companies_dictionary)\n",
    "df6"
   ]
  },
  {
   "cell_type": "markdown",
   "id": "596f7f40",
   "metadata": {},
   "source": [
    "# Making DataFrames from Series"
   ]
  },
  {
   "cell_type": "code",
   "execution_count": 18,
   "id": "49670a13",
   "metadata": {},
   "outputs": [],
   "source": [
    "# Let's say we have these lists somewhere on our computer: \n",
    "column_names=[\"company\",\"founder_name\",\"founder_surname\"]\n",
    "\n",
    "company = [\"PiggyVest\",\"Bumble\",\"Backstage Capital\",\"Blendoor\",\"LungXpert\", \"Cisco\",\"Eventbrite\",\n",
    "                \"Adafruit Industries\",\"Verge Genomics\",\"23andme\"]\n",
    "founder_name = [\"Odunayo\",\"Whitney\",\"Arlan\",\"Stephanie\",\"Sasikala\",\"Sandy\",\"Julia\",\"Limor\",\"Alice\",\"Anne\"]\n",
    "founder_surname = [\"Eweniyi\",\"Wolfe Heard\",\"Hamilton\",\"Lampkin\",\"Devi\",\"Lerner\",\"Hartz\",\"Fried\",\"Zhang\",\"Wojcicki\"]"
   ]
  },
  {
   "cell_type": "markdown",
   "id": "e4949167",
   "metadata": {},
   "source": [
    "Let's make some series, using the company name as index:"
   ]
  },
  {
   "cell_type": "code",
   "execution_count": 20,
   "id": "f32f8154",
   "metadata": {},
   "outputs": [
    {
     "data": {
      "text/plain": [
       "PiggyVest                Odunayo\n",
       "Bumble                   Whitney\n",
       "Backstage Capital          Arlan\n",
       "Blendoor               Stephanie\n",
       "LungXpert               Sasikala\n",
       "Cisco                      Sandy\n",
       "Eventbrite                 Julia\n",
       "Adafruit Industries        Limor\n",
       "Verge Genomics             Alice\n",
       "23andme                     Anne\n",
       "dtype: object"
      ]
     },
     "execution_count": 20,
     "metadata": {},
     "output_type": "execute_result"
    }
   ],
   "source": [
    "series_of_founder_names = pd.Series(data=founder_name, # <-- data \n",
    "                                    index=company,     # <-- index \n",
    "                                   )\n",
    "series_of_founder_names"
   ]
  },
  {
   "cell_type": "markdown",
   "id": "23b8954a",
   "metadata": {},
   "source": [
    "Same thing, this time for surnames:"
   ]
  },
  {
   "cell_type": "code",
   "execution_count": 22,
   "id": "ce009b29",
   "metadata": {},
   "outputs": [
    {
     "data": {
      "text/plain": [
       "PiggyVest                  Eweniyi\n",
       "Bumble                 Wolfe Heard\n",
       "Backstage Capital         Hamilton\n",
       "Blendoor                   Lampkin\n",
       "LungXpert                     Devi\n",
       "Cisco                       Lerner\n",
       "Eventbrite                   Hartz\n",
       "Adafruit Industries          Fried\n",
       "Verge Genomics               Zhang\n",
       "23andme                   Wojcicki\n",
       "dtype: object"
      ]
     },
     "execution_count": 22,
     "metadata": {},
     "output_type": "execute_result"
    }
   ],
   "source": [
    "series_of_founder_surnames = pd.Series(data=founder_surname, # <-- different data\n",
    "                                       index=company,           # <-- same index \n",
    "                                      )\n",
    "series_of_founder_surnames"
   ]
  },
  {
   "cell_type": "markdown",
   "id": "83d01901",
   "metadata": {},
   "source": [
    "Now with these two series we can create a dataframe! Pandas will notice that they have the same index, and will give the dataframe that index:"
   ]
  },
  {
   "cell_type": "code",
   "execution_count": 23,
   "id": "b6faf8bc",
   "metadata": {},
   "outputs": [
    {
     "data": {
      "text/html": [
       "<div>\n",
       "<style scoped>\n",
       "    .dataframe tbody tr th:only-of-type {\n",
       "        vertical-align: middle;\n",
       "    }\n",
       "\n",
       "    .dataframe tbody tr th {\n",
       "        vertical-align: top;\n",
       "    }\n",
       "\n",
       "    .dataframe thead th {\n",
       "        text-align: right;\n",
       "    }\n",
       "</style>\n",
       "<table border=\"1\" class=\"dataframe\">\n",
       "  <thead>\n",
       "    <tr style=\"text-align: right;\">\n",
       "      <th></th>\n",
       "      <th>founder_name</th>\n",
       "      <th>founder_surname</th>\n",
       "    </tr>\n",
       "  </thead>\n",
       "  <tbody>\n",
       "    <tr>\n",
       "      <th>PiggyVest</th>\n",
       "      <td>Odunayo</td>\n",
       "      <td>Eweniyi</td>\n",
       "    </tr>\n",
       "    <tr>\n",
       "      <th>Bumble</th>\n",
       "      <td>Whitney</td>\n",
       "      <td>Wolfe Heard</td>\n",
       "    </tr>\n",
       "    <tr>\n",
       "      <th>Backstage Capital</th>\n",
       "      <td>Arlan</td>\n",
       "      <td>Hamilton</td>\n",
       "    </tr>\n",
       "    <tr>\n",
       "      <th>Blendoor</th>\n",
       "      <td>Stephanie</td>\n",
       "      <td>Lampkin</td>\n",
       "    </tr>\n",
       "    <tr>\n",
       "      <th>LungXpert</th>\n",
       "      <td>Sasikala</td>\n",
       "      <td>Devi</td>\n",
       "    </tr>\n",
       "    <tr>\n",
       "      <th>Cisco</th>\n",
       "      <td>Sandy</td>\n",
       "      <td>Lerner</td>\n",
       "    </tr>\n",
       "    <tr>\n",
       "      <th>Eventbrite</th>\n",
       "      <td>Julia</td>\n",
       "      <td>Hartz</td>\n",
       "    </tr>\n",
       "    <tr>\n",
       "      <th>Adafruit Industries</th>\n",
       "      <td>Limor</td>\n",
       "      <td>Fried</td>\n",
       "    </tr>\n",
       "    <tr>\n",
       "      <th>Verge Genomics</th>\n",
       "      <td>Alice</td>\n",
       "      <td>Zhang</td>\n",
       "    </tr>\n",
       "    <tr>\n",
       "      <th>23andme</th>\n",
       "      <td>Anne</td>\n",
       "      <td>Wojcicki</td>\n",
       "    </tr>\n",
       "  </tbody>\n",
       "</table>\n",
       "</div>"
      ],
      "text/plain": [
       "                    founder_name founder_surname\n",
       "PiggyVest                Odunayo         Eweniyi\n",
       "Bumble                   Whitney     Wolfe Heard\n",
       "Backstage Capital          Arlan        Hamilton\n",
       "Blendoor               Stephanie         Lampkin\n",
       "LungXpert               Sasikala            Devi\n",
       "Cisco                      Sandy          Lerner\n",
       "Eventbrite                 Julia           Hartz\n",
       "Adafruit Industries        Limor           Fried\n",
       "Verge Genomics             Alice           Zhang\n",
       "23andme                     Anne        Wojcicki"
      ]
     },
     "execution_count": 23,
     "metadata": {},
     "output_type": "execute_result"
    }
   ],
   "source": [
    "df7 = pd.DataFrame({'founder_name': series_of_founder_names,  \n",
    "                    'founder_surname': series_of_founder_surnames})\n",
    "df7"
   ]
  },
  {
   "cell_type": "markdown",
   "id": "c94bc8b6",
   "metadata": {},
   "source": [
    "Other ways you can `concatenate` two or more series into a dataframe:"
   ]
  },
  {
   "cell_type": "code",
   "execution_count": 25,
   "id": "e4b56e29",
   "metadata": {},
   "outputs": [
    {
     "data": {
      "text/html": [
       "<div>\n",
       "<style scoped>\n",
       "    .dataframe tbody tr th:only-of-type {\n",
       "        vertical-align: middle;\n",
       "    }\n",
       "\n",
       "    .dataframe tbody tr th {\n",
       "        vertical-align: top;\n",
       "    }\n",
       "\n",
       "    .dataframe thead th {\n",
       "        text-align: right;\n",
       "    }\n",
       "</style>\n",
       "<table border=\"1\" class=\"dataframe\">\n",
       "  <thead>\n",
       "    <tr style=\"text-align: right;\">\n",
       "      <th></th>\n",
       "      <th>0</th>\n",
       "      <th>1</th>\n",
       "    </tr>\n",
       "  </thead>\n",
       "  <tbody>\n",
       "    <tr>\n",
       "      <th>PiggyVest</th>\n",
       "      <td>Odunayo</td>\n",
       "      <td>Eweniyi</td>\n",
       "    </tr>\n",
       "    <tr>\n",
       "      <th>Bumble</th>\n",
       "      <td>Whitney</td>\n",
       "      <td>Wolfe Heard</td>\n",
       "    </tr>\n",
       "    <tr>\n",
       "      <th>Backstage Capital</th>\n",
       "      <td>Arlan</td>\n",
       "      <td>Hamilton</td>\n",
       "    </tr>\n",
       "    <tr>\n",
       "      <th>Blendoor</th>\n",
       "      <td>Stephanie</td>\n",
       "      <td>Lampkin</td>\n",
       "    </tr>\n",
       "    <tr>\n",
       "      <th>LungXpert</th>\n",
       "      <td>Sasikala</td>\n",
       "      <td>Devi</td>\n",
       "    </tr>\n",
       "    <tr>\n",
       "      <th>Cisco</th>\n",
       "      <td>Sandy</td>\n",
       "      <td>Lerner</td>\n",
       "    </tr>\n",
       "    <tr>\n",
       "      <th>Eventbrite</th>\n",
       "      <td>Julia</td>\n",
       "      <td>Hartz</td>\n",
       "    </tr>\n",
       "    <tr>\n",
       "      <th>Adafruit Industries</th>\n",
       "      <td>Limor</td>\n",
       "      <td>Fried</td>\n",
       "    </tr>\n",
       "    <tr>\n",
       "      <th>Verge Genomics</th>\n",
       "      <td>Alice</td>\n",
       "      <td>Zhang</td>\n",
       "    </tr>\n",
       "    <tr>\n",
       "      <th>23andme</th>\n",
       "      <td>Anne</td>\n",
       "      <td>Wojcicki</td>\n",
       "    </tr>\n",
       "  </tbody>\n",
       "</table>\n",
       "</div>"
      ],
      "text/plain": [
       "                             0            1\n",
       "PiggyVest              Odunayo      Eweniyi\n",
       "Bumble                 Whitney  Wolfe Heard\n",
       "Backstage Capital        Arlan     Hamilton\n",
       "Blendoor             Stephanie      Lampkin\n",
       "LungXpert             Sasikala         Devi\n",
       "Cisco                    Sandy       Lerner\n",
       "Eventbrite               Julia        Hartz\n",
       "Adafruit Industries      Limor        Fried\n",
       "Verge Genomics           Alice        Zhang\n",
       "23andme                   Anne     Wojcicki"
      ]
     },
     "execution_count": 25,
     "metadata": {},
     "output_type": "execute_result"
    }
   ],
   "source": [
    "pd.concat([series_of_founder_names, series_of_founder_surnames],axis=1)"
   ]
  },
  {
   "cell_type": "markdown",
   "id": "461262a7",
   "metadata": {},
   "source": [
    "Wait a minute, where are our expected `column names`?\n",
    "\n",
    "Pandas filled the columns names automatically like it always does. When concatenating multiple series to form a dataframe, pandas will use the `.name` attribute of each series as a column."
   ]
  },
  {
   "cell_type": "code",
   "execution_count": 26,
   "id": "ac36de34",
   "metadata": {},
   "outputs": [],
   "source": [
    "series_of_founder_names.name"
   ]
  },
  {
   "cell_type": "markdown",
   "id": "7e23a022",
   "metadata": {},
   "source": [
    "But this returned nothing, which means our series don't have a name. Let's name them!"
   ]
  },
  {
   "cell_type": "code",
   "execution_count": 27,
   "id": "aa7ce49b",
   "metadata": {},
   "outputs": [],
   "source": [
    "series_of_founder_names = series_of_founder_names.rename('founder_name')\n",
    "series_of_founder_surnames = series_of_founder_surnames.rename('founder_surname')"
   ]
  },
  {
   "cell_type": "markdown",
   "id": "16b4e0e5",
   "metadata": {},
   "source": [
    "And now we try again"
   ]
  },
  {
   "cell_type": "markdown",
   "id": "bcd3ca82",
   "metadata": {},
   "source": [
    "|We stopped here|"
   ]
  },
  {
   "cell_type": "code",
   "execution_count": 28,
   "id": "b0a7bca7",
   "metadata": {},
   "outputs": [
    {
     "data": {
      "text/html": [
       "<div>\n",
       "<style scoped>\n",
       "    .dataframe tbody tr th:only-of-type {\n",
       "        vertical-align: middle;\n",
       "    }\n",
       "\n",
       "    .dataframe tbody tr th {\n",
       "        vertical-align: top;\n",
       "    }\n",
       "\n",
       "    .dataframe thead th {\n",
       "        text-align: right;\n",
       "    }\n",
       "</style>\n",
       "<table border=\"1\" class=\"dataframe\">\n",
       "  <thead>\n",
       "    <tr style=\"text-align: right;\">\n",
       "      <th></th>\n",
       "      <th>founder_name</th>\n",
       "      <th>founder_surname</th>\n",
       "    </tr>\n",
       "  </thead>\n",
       "  <tbody>\n",
       "    <tr>\n",
       "      <th>PiggyVest</th>\n",
       "      <td>Odunayo</td>\n",
       "      <td>Eweniyi</td>\n",
       "    </tr>\n",
       "    <tr>\n",
       "      <th>Bumble</th>\n",
       "      <td>Whitney</td>\n",
       "      <td>Wolfe Heard</td>\n",
       "    </tr>\n",
       "    <tr>\n",
       "      <th>Backstage Capital</th>\n",
       "      <td>Arlan</td>\n",
       "      <td>Hamilton</td>\n",
       "    </tr>\n",
       "    <tr>\n",
       "      <th>Blendoor</th>\n",
       "      <td>Stephanie</td>\n",
       "      <td>Lampkin</td>\n",
       "    </tr>\n",
       "    <tr>\n",
       "      <th>LungXpert</th>\n",
       "      <td>Sasikala</td>\n",
       "      <td>Devi</td>\n",
       "    </tr>\n",
       "    <tr>\n",
       "      <th>Cisco</th>\n",
       "      <td>Sandy</td>\n",
       "      <td>Lerner</td>\n",
       "    </tr>\n",
       "    <tr>\n",
       "      <th>Eventbrite</th>\n",
       "      <td>Julia</td>\n",
       "      <td>Hartz</td>\n",
       "    </tr>\n",
       "    <tr>\n",
       "      <th>Adafruit Industries</th>\n",
       "      <td>Limor</td>\n",
       "      <td>Fried</td>\n",
       "    </tr>\n",
       "    <tr>\n",
       "      <th>Verge Genomics</th>\n",
       "      <td>Alice</td>\n",
       "      <td>Zhang</td>\n",
       "    </tr>\n",
       "    <tr>\n",
       "      <th>23andme</th>\n",
       "      <td>Anne</td>\n",
       "      <td>Wojcicki</td>\n",
       "    </tr>\n",
       "  </tbody>\n",
       "</table>\n",
       "</div>"
      ],
      "text/plain": [
       "                    founder_name founder_surname\n",
       "PiggyVest                Odunayo         Eweniyi\n",
       "Bumble                   Whitney     Wolfe Heard\n",
       "Backstage Capital          Arlan        Hamilton\n",
       "Blendoor               Stephanie         Lampkin\n",
       "LungXpert               Sasikala            Devi\n",
       "Cisco                      Sandy          Lerner\n",
       "Eventbrite                 Julia           Hartz\n",
       "Adafruit Industries        Limor           Fried\n",
       "Verge Genomics             Alice           Zhang\n",
       "23andme                     Anne        Wojcicki"
      ]
     },
     "execution_count": 28,
     "metadata": {},
     "output_type": "execute_result"
    }
   ],
   "source": [
    "pd.concat([series_of_founder_names, series_of_founder_surnames],axis=1)"
   ]
  },
  {
   "cell_type": "markdown",
   "id": "bcc32d91",
   "metadata": {},
   "source": [
    "great!"
   ]
  },
  {
   "cell_type": "markdown",
   "id": "ec6e7261",
   "metadata": {},
   "source": [
    "## What if the data you are merging does not have the same index?"
   ]
  },
  {
   "cell_type": "markdown",
   "id": "152ea740",
   "metadata": {},
   "source": [
    "Let's try to another another info about each company: the **number of employees** they have."
   ]
  },
  {
   "cell_type": "code",
   "execution_count": 21,
   "id": "ac71c4f4",
   "metadata": {},
   "outputs": [
    {
     "data": {
      "text/plain": [
       "0       71\n",
       "1      700\n",
       "2       12\n",
       "3       20\n",
       "4       10\n",
       "5    79500\n",
       "6     1000\n",
       "7      105\n",
       "8       49\n",
       "9      683\n",
       "dtype: int64"
      ]
     },
     "execution_count": 21,
     "metadata": {},
     "output_type": "execute_result"
    }
   ],
   "source": [
    "number_of_employees = [71, 700, 12, 20, 10, 79500, 1000, 105, 49, 683]\n",
    "\n",
    "series_number_of_employees = pd.Series(data=number_of_employees) # <-- data, no index \n",
    "# this has an index, although we did not pass it - Series always has an index\n",
    "series_number_of_employees"
   ]
  },
  {
   "cell_type": "markdown",
   "id": "eb86390b",
   "metadata": {},
   "source": [
    "Now, you may be tempted to add this series directly to the dataframe, and pandas won't stop you:"
   ]
  },
  {
   "cell_type": "code",
   "execution_count": 22,
   "id": "fd6ee6c1",
   "metadata": {},
   "outputs": [
    {
     "data": {
      "text/html": [
       "<div>\n",
       "<style scoped>\n",
       "    .dataframe tbody tr th:only-of-type {\n",
       "        vertical-align: middle;\n",
       "    }\n",
       "\n",
       "    .dataframe tbody tr th {\n",
       "        vertical-align: top;\n",
       "    }\n",
       "\n",
       "    .dataframe thead th {\n",
       "        text-align: right;\n",
       "    }\n",
       "</style>\n",
       "<table border=\"1\" class=\"dataframe\">\n",
       "  <thead>\n",
       "    <tr style=\"text-align: right;\">\n",
       "      <th></th>\n",
       "      <th>founder_name</th>\n",
       "      <th>founder_surname</th>\n",
       "      <th>number_employees</th>\n",
       "    </tr>\n",
       "  </thead>\n",
       "  <tbody>\n",
       "    <tr>\n",
       "      <th>0</th>\n",
       "      <td>NaN</td>\n",
       "      <td>NaN</td>\n",
       "      <td>71.0</td>\n",
       "    </tr>\n",
       "    <tr>\n",
       "      <th>1</th>\n",
       "      <td>NaN</td>\n",
       "      <td>NaN</td>\n",
       "      <td>700.0</td>\n",
       "    </tr>\n",
       "    <tr>\n",
       "      <th>2</th>\n",
       "      <td>NaN</td>\n",
       "      <td>NaN</td>\n",
       "      <td>12.0</td>\n",
       "    </tr>\n",
       "    <tr>\n",
       "      <th>3</th>\n",
       "      <td>NaN</td>\n",
       "      <td>NaN</td>\n",
       "      <td>20.0</td>\n",
       "    </tr>\n",
       "    <tr>\n",
       "      <th>4</th>\n",
       "      <td>NaN</td>\n",
       "      <td>NaN</td>\n",
       "      <td>10.0</td>\n",
       "    </tr>\n",
       "    <tr>\n",
       "      <th>5</th>\n",
       "      <td>NaN</td>\n",
       "      <td>NaN</td>\n",
       "      <td>79500.0</td>\n",
       "    </tr>\n",
       "    <tr>\n",
       "      <th>6</th>\n",
       "      <td>NaN</td>\n",
       "      <td>NaN</td>\n",
       "      <td>1000.0</td>\n",
       "    </tr>\n",
       "    <tr>\n",
       "      <th>7</th>\n",
       "      <td>NaN</td>\n",
       "      <td>NaN</td>\n",
       "      <td>105.0</td>\n",
       "    </tr>\n",
       "    <tr>\n",
       "      <th>8</th>\n",
       "      <td>NaN</td>\n",
       "      <td>NaN</td>\n",
       "      <td>49.0</td>\n",
       "    </tr>\n",
       "    <tr>\n",
       "      <th>9</th>\n",
       "      <td>NaN</td>\n",
       "      <td>NaN</td>\n",
       "      <td>683.0</td>\n",
       "    </tr>\n",
       "    <tr>\n",
       "      <th>23andme</th>\n",
       "      <td>Anne</td>\n",
       "      <td>Wojcicki</td>\n",
       "      <td>NaN</td>\n",
       "    </tr>\n",
       "    <tr>\n",
       "      <th>Adafruit Industries</th>\n",
       "      <td>Limor</td>\n",
       "      <td>Fried</td>\n",
       "      <td>NaN</td>\n",
       "    </tr>\n",
       "    <tr>\n",
       "      <th>Backstage Capital</th>\n",
       "      <td>Arlan</td>\n",
       "      <td>Hamilton</td>\n",
       "      <td>NaN</td>\n",
       "    </tr>\n",
       "    <tr>\n",
       "      <th>Blendoor</th>\n",
       "      <td>Stephanie</td>\n",
       "      <td>Lampkin</td>\n",
       "      <td>NaN</td>\n",
       "    </tr>\n",
       "    <tr>\n",
       "      <th>Bumble</th>\n",
       "      <td>Whitney</td>\n",
       "      <td>Wolfe Heard</td>\n",
       "      <td>NaN</td>\n",
       "    </tr>\n",
       "    <tr>\n",
       "      <th>Cisco</th>\n",
       "      <td>Sandy</td>\n",
       "      <td>Lerner</td>\n",
       "      <td>NaN</td>\n",
       "    </tr>\n",
       "    <tr>\n",
       "      <th>Eventbrite</th>\n",
       "      <td>Julia</td>\n",
       "      <td>Hartz</td>\n",
       "      <td>NaN</td>\n",
       "    </tr>\n",
       "    <tr>\n",
       "      <th>LungXpert</th>\n",
       "      <td>Sasikala</td>\n",
       "      <td>Devi</td>\n",
       "      <td>NaN</td>\n",
       "    </tr>\n",
       "    <tr>\n",
       "      <th>PiggyVest</th>\n",
       "      <td>Odunayo</td>\n",
       "      <td>Eweniyi</td>\n",
       "      <td>NaN</td>\n",
       "    </tr>\n",
       "    <tr>\n",
       "      <th>Verge Genomics</th>\n",
       "      <td>Alice</td>\n",
       "      <td>Zhang</td>\n",
       "      <td>NaN</td>\n",
       "    </tr>\n",
       "  </tbody>\n",
       "</table>\n",
       "</div>"
      ],
      "text/plain": [
       "                    founder_name founder_surname  number_employees\n",
       "0                            NaN             NaN              71.0\n",
       "1                            NaN             NaN             700.0\n",
       "2                            NaN             NaN              12.0\n",
       "3                            NaN             NaN              20.0\n",
       "4                            NaN             NaN              10.0\n",
       "5                            NaN             NaN           79500.0\n",
       "6                            NaN             NaN            1000.0\n",
       "7                            NaN             NaN             105.0\n",
       "8                            NaN             NaN              49.0\n",
       "9                            NaN             NaN             683.0\n",
       "23andme                     Anne        Wojcicki               NaN\n",
       "Adafruit Industries        Limor           Fried               NaN\n",
       "Backstage Capital          Arlan        Hamilton               NaN\n",
       "Blendoor               Stephanie         Lampkin               NaN\n",
       "Bumble                   Whitney     Wolfe Heard               NaN\n",
       "Cisco                      Sandy          Lerner               NaN\n",
       "Eventbrite                 Julia           Hartz               NaN\n",
       "LungXpert               Sasikala            Devi               NaN\n",
       "PiggyVest                Odunayo         Eweniyi               NaN\n",
       "Verge Genomics             Alice           Zhang               NaN"
      ]
     },
     "execution_count": 22,
     "metadata": {},
     "output_type": "execute_result"
    }
   ],
   "source": [
    "df8 = pd.DataFrame({'founder_name': series_of_founder_names,  \n",
    "                    'founder_surname': series_of_founder_surnames,\n",
    "                    'number_employees': series_number_of_employees})\n",
    "df8"
   ]
  },
  {
   "cell_type": "markdown",
   "id": "8145aeba",
   "metadata": {},
   "source": [
    "![](../media/what-the-hell-is-this.jpg)"
   ]
  },
  {
   "cell_type": "markdown",
   "id": "752f13df",
   "metadata": {},
   "source": [
    "When joining multiple `series` into a `dataframe`, `Pandas` will create a row for each unique index value present in all of the series. Then starts to fill the column values of each row wherever the index match. Unfortunately the first 2 series don't match any index of the this 3rd series we merged into, generating this mess.\n",
    "\n",
    "Remember to **think about the index** when combining `series` into `dataframes`!"
   ]
  },
  {
   "cell_type": "code",
   "execution_count": 23,
   "id": "c306ccaf",
   "metadata": {},
   "outputs": [
    {
     "data": {
      "text/html": [
       "<div>\n",
       "<style scoped>\n",
       "    .dataframe tbody tr th:only-of-type {\n",
       "        vertical-align: middle;\n",
       "    }\n",
       "\n",
       "    .dataframe tbody tr th {\n",
       "        vertical-align: top;\n",
       "    }\n",
       "\n",
       "    .dataframe thead th {\n",
       "        text-align: right;\n",
       "    }\n",
       "</style>\n",
       "<table border=\"1\" class=\"dataframe\">\n",
       "  <thead>\n",
       "    <tr style=\"text-align: right;\">\n",
       "      <th></th>\n",
       "      <th>founder_name</th>\n",
       "      <th>founder_surname</th>\n",
       "      <th>number_employees</th>\n",
       "    </tr>\n",
       "  </thead>\n",
       "  <tbody>\n",
       "    <tr>\n",
       "      <th>PiggyVest</th>\n",
       "      <td>Odunayo</td>\n",
       "      <td>Eweniyi</td>\n",
       "      <td>71</td>\n",
       "    </tr>\n",
       "    <tr>\n",
       "      <th>Bumble</th>\n",
       "      <td>Whitney</td>\n",
       "      <td>Wolfe Heard</td>\n",
       "      <td>700</td>\n",
       "    </tr>\n",
       "    <tr>\n",
       "      <th>Backstage Capital</th>\n",
       "      <td>Arlan</td>\n",
       "      <td>Hamilton</td>\n",
       "      <td>12</td>\n",
       "    </tr>\n",
       "    <tr>\n",
       "      <th>Blendoor</th>\n",
       "      <td>Stephanie</td>\n",
       "      <td>Lampkin</td>\n",
       "      <td>20</td>\n",
       "    </tr>\n",
       "    <tr>\n",
       "      <th>LungXpert</th>\n",
       "      <td>Sasikala</td>\n",
       "      <td>Devi</td>\n",
       "      <td>10</td>\n",
       "    </tr>\n",
       "    <tr>\n",
       "      <th>Cisco</th>\n",
       "      <td>Sandy</td>\n",
       "      <td>Lerner</td>\n",
       "      <td>79500</td>\n",
       "    </tr>\n",
       "    <tr>\n",
       "      <th>Eventbrite</th>\n",
       "      <td>Julia</td>\n",
       "      <td>Hartz</td>\n",
       "      <td>1000</td>\n",
       "    </tr>\n",
       "    <tr>\n",
       "      <th>Adafruit Industries</th>\n",
       "      <td>Limor</td>\n",
       "      <td>Fried</td>\n",
       "      <td>105</td>\n",
       "    </tr>\n",
       "    <tr>\n",
       "      <th>Verge Genomics</th>\n",
       "      <td>Alice</td>\n",
       "      <td>Zhang</td>\n",
       "      <td>49</td>\n",
       "    </tr>\n",
       "    <tr>\n",
       "      <th>23andme</th>\n",
       "      <td>Anne</td>\n",
       "      <td>Wojcicki</td>\n",
       "      <td>683</td>\n",
       "    </tr>\n",
       "  </tbody>\n",
       "</table>\n",
       "</div>"
      ],
      "text/plain": [
       "                    founder_name founder_surname  number_employees\n",
       "PiggyVest                Odunayo         Eweniyi                71\n",
       "Bumble                   Whitney     Wolfe Heard               700\n",
       "Backstage Capital          Arlan        Hamilton                12\n",
       "Blendoor               Stephanie         Lampkin                20\n",
       "LungXpert               Sasikala            Devi                10\n",
       "Cisco                      Sandy          Lerner             79500\n",
       "Eventbrite                 Julia           Hartz              1000\n",
       "Adafruit Industries        Limor           Fried               105\n",
       "Verge Genomics             Alice           Zhang                49\n",
       "23andme                     Anne        Wojcicki               683"
      ]
     },
     "execution_count": 23,
     "metadata": {},
     "output_type": "execute_result"
    }
   ],
   "source": [
    "series_number_of_employees_indexed = pd.Series(data=number_of_employees,index=company)\n",
    "df9 = pd.DataFrame({'founder_name': series_of_founder_names,  \n",
    "                    'founder_surname': series_of_founder_surnames,\n",
    "                    'number_employees': series_number_of_employees_indexed})\n",
    "df9"
   ]
  },
  {
   "cell_type": "markdown",
   "id": "c57a5095",
   "metadata": {},
   "source": [
    "That's better!"
   ]
  },
  {
   "cell_type": "markdown",
   "id": "84dc0e48",
   "metadata": {},
   "source": [
    "# Getting the index and column values"
   ]
  },
  {
   "cell_type": "markdown",
   "id": "c0f2dda1",
   "metadata": {},
   "source": [
    "The `DataFrame object contains a few attributes that are useful for getting an overview of your data.\n",
    "\n",
    "Get the index (row names), with `.index`:"
   ]
  },
  {
   "cell_type": "code",
   "execution_count": 24,
   "id": "6bb6cf96",
   "metadata": {},
   "outputs": [
    {
     "data": {
      "text/plain": [
       "Index(['PiggyVest', 'Bumble', 'Backstage Capital', 'Blendoor', 'LungXpert',\n",
       "       'Cisco', 'Eventbrite', 'Adafruit Industries', 'Verge Genomics',\n",
       "       '23andme'],\n",
       "      dtype='object')"
      ]
     },
     "execution_count": 24,
     "metadata": {},
     "output_type": "execute_result"
    }
   ],
   "source": [
    "df9.index"
   ]
  },
  {
   "cell_type": "markdown",
   "id": "cbdbe449",
   "metadata": {},
   "source": [
    "Get the column names, with `.columns`:"
   ]
  },
  {
   "cell_type": "code",
   "execution_count": 25,
   "id": "5bff6587",
   "metadata": {},
   "outputs": [
    {
     "data": {
      "text/plain": [
       "Index(['founder_name', 'founder_surname', 'number_employees'], dtype='object')"
      ]
     },
     "execution_count": 25,
     "metadata": {},
     "output_type": "execute_result"
    }
   ],
   "source": [
    "df9.columns"
   ]
  },
  {
   "cell_type": "markdown",
   "id": "004deb86",
   "metadata": {},
   "source": [
    "Among other things, this might be used to **iterate** over the column names:"
   ]
  },
  {
   "cell_type": "code",
   "execution_count": 26,
   "id": "d6c79809",
   "metadata": {},
   "outputs": [
    {
     "name": "stdout",
     "output_type": "stream",
     "text": [
      "founder_name\n",
      "founder_surname\n",
      "number_employees\n"
     ]
    }
   ],
   "source": [
    "for col in df9.columns:\n",
    "    print(col)"
   ]
  },
  {
   "cell_type": "markdown",
   "id": "6cae0fff",
   "metadata": {},
   "source": [
    "We can also use `dtypes` to know the type of each column in the dataframe:"
   ]
  },
  {
   "cell_type": "code",
   "execution_count": 27,
   "id": "c264895c",
   "metadata": {},
   "outputs": [
    {
     "data": {
      "text/plain": [
       "founder_name        object\n",
       "founder_surname     object\n",
       "number_employees     int64\n",
       "dtype: object"
      ]
     },
     "execution_count": 27,
     "metadata": {},
     "output_type": "execute_result"
    }
   ],
   "source": [
    "df9.dtypes"
   ]
  },
  {
   "cell_type": "markdown",
   "id": "94daac79",
   "metadata": {},
   "source": [
    "To get the underlying data as an array, use `.to_numpy()` or `.values`. The array will be 2D, as the dataframe. "
   ]
  },
  {
   "cell_type": "code",
   "execution_count": 32,
   "id": "877bb12c",
   "metadata": {},
   "outputs": [
    {
     "data": {
      "text/plain": [
       "array([['Odunayo', 'Eweniyi', 71],\n",
       "       ['Whitney', 'Wolfe Heard', 700],\n",
       "       ['Arlan', 'Hamilton', 12],\n",
       "       ['Stephanie', 'Lampkin', 20],\n",
       "       ['Sasikala', 'Devi', 10],\n",
       "       ['Sandy', 'Lerner', 79500],\n",
       "       ['Julia', 'Hartz', 1000],\n",
       "       ['Limor', 'Fried', 105],\n",
       "       ['Alice', 'Zhang', 49],\n",
       "       ['Anne', 'Wojcicki', 683]], dtype=object)"
      ]
     },
     "execution_count": 32,
     "metadata": {},
     "output_type": "execute_result"
    }
   ],
   "source": [
    "df9.to_numpy()"
   ]
  },
  {
   "cell_type": "code",
   "execution_count": 33,
   "id": "43b4a7c8",
   "metadata": {},
   "outputs": [
    {
     "data": {
      "text/plain": [
       "array([['Odunayo', 'Eweniyi', 71],\n",
       "       ['Whitney', 'Wolfe Heard', 700],\n",
       "       ['Arlan', 'Hamilton', 12],\n",
       "       ['Stephanie', 'Lampkin', 20],\n",
       "       ['Sasikala', 'Devi', 10],\n",
       "       ['Sandy', 'Lerner', 79500],\n",
       "       ['Julia', 'Hartz', 1000],\n",
       "       ['Limor', 'Fried', 105],\n",
       "       ['Alice', 'Zhang', 49],\n",
       "       ['Anne', 'Wojcicki', 683]], dtype=object)"
      ]
     },
     "execution_count": 33,
     "metadata": {},
     "output_type": "execute_result"
    }
   ],
   "source": [
    "df9.values"
   ]
  },
  {
   "cell_type": "markdown",
   "id": "677f2468",
   "metadata": {},
   "source": [
    "# Previewing and Describing a DataFrame"
   ]
  },
  {
   "cell_type": "markdown",
   "id": "cc5efcee",
   "metadata": {},
   "source": [
    "In a jupyter notebook, calling a DataFrame will display it (as seen previously):"
   ]
  },
  {
   "cell_type": "code",
   "execution_count": 34,
   "id": "4778cdf5",
   "metadata": {},
   "outputs": [
    {
     "data": {
      "text/html": [
       "<div>\n",
       "<style scoped>\n",
       "    .dataframe tbody tr th:only-of-type {\n",
       "        vertical-align: middle;\n",
       "    }\n",
       "\n",
       "    .dataframe tbody tr th {\n",
       "        vertical-align: top;\n",
       "    }\n",
       "\n",
       "    .dataframe thead th {\n",
       "        text-align: right;\n",
       "    }\n",
       "</style>\n",
       "<table border=\"1\" class=\"dataframe\">\n",
       "  <thead>\n",
       "    <tr style=\"text-align: right;\">\n",
       "      <th></th>\n",
       "      <th>founder_name</th>\n",
       "      <th>founder_surname</th>\n",
       "      <th>number_employees</th>\n",
       "    </tr>\n",
       "  </thead>\n",
       "  <tbody>\n",
       "    <tr>\n",
       "      <th>PiggyVest</th>\n",
       "      <td>Odunayo</td>\n",
       "      <td>Eweniyi</td>\n",
       "      <td>71</td>\n",
       "    </tr>\n",
       "    <tr>\n",
       "      <th>Bumble</th>\n",
       "      <td>Whitney</td>\n",
       "      <td>Wolfe Heard</td>\n",
       "      <td>700</td>\n",
       "    </tr>\n",
       "    <tr>\n",
       "      <th>Backstage Capital</th>\n",
       "      <td>Arlan</td>\n",
       "      <td>Hamilton</td>\n",
       "      <td>12</td>\n",
       "    </tr>\n",
       "    <tr>\n",
       "      <th>Blendoor</th>\n",
       "      <td>Stephanie</td>\n",
       "      <td>Lampkin</td>\n",
       "      <td>20</td>\n",
       "    </tr>\n",
       "    <tr>\n",
       "      <th>LungXpert</th>\n",
       "      <td>Sasikala</td>\n",
       "      <td>Devi</td>\n",
       "      <td>10</td>\n",
       "    </tr>\n",
       "    <tr>\n",
       "      <th>Cisco</th>\n",
       "      <td>Sandy</td>\n",
       "      <td>Lerner</td>\n",
       "      <td>79500</td>\n",
       "    </tr>\n",
       "    <tr>\n",
       "      <th>Eventbrite</th>\n",
       "      <td>Julia</td>\n",
       "      <td>Hartz</td>\n",
       "      <td>1000</td>\n",
       "    </tr>\n",
       "    <tr>\n",
       "      <th>Adafruit Industries</th>\n",
       "      <td>Limor</td>\n",
       "      <td>Fried</td>\n",
       "      <td>105</td>\n",
       "    </tr>\n",
       "    <tr>\n",
       "      <th>Verge Genomics</th>\n",
       "      <td>Alice</td>\n",
       "      <td>Zhang</td>\n",
       "      <td>49</td>\n",
       "    </tr>\n",
       "    <tr>\n",
       "      <th>23andme</th>\n",
       "      <td>Anne</td>\n",
       "      <td>Wojcicki</td>\n",
       "      <td>683</td>\n",
       "    </tr>\n",
       "  </tbody>\n",
       "</table>\n",
       "</div>"
      ],
      "text/plain": [
       "                    founder_name founder_surname  number_employees\n",
       "PiggyVest                Odunayo         Eweniyi                71\n",
       "Bumble                   Whitney     Wolfe Heard               700\n",
       "Backstage Capital          Arlan        Hamilton                12\n",
       "Blendoor               Stephanie         Lampkin                20\n",
       "LungXpert               Sasikala            Devi                10\n",
       "Cisco                      Sandy          Lerner             79500\n",
       "Eventbrite                 Julia           Hartz              1000\n",
       "Adafruit Industries        Limor           Fried               105\n",
       "Verge Genomics             Alice           Zhang                49\n",
       "23andme                     Anne        Wojcicki               683"
      ]
     },
     "execution_count": 34,
     "metadata": {},
     "output_type": "execute_result"
    }
   ],
   "source": [
    "df9"
   ]
  },
  {
   "cell_type": "markdown",
   "id": "cb1b5d8c",
   "metadata": {},
   "source": [
    "If the dataframe has a lot of entries, it will be only partially displayed. Nonetheless, it might still be too much information being displayed at once. An alternative are the `.head()` and `.tail()` methods which print only a certain number of entries from the top and bottom of the dataframe, respectively."
   ]
  },
  {
   "cell_type": "code",
   "execution_count": 35,
   "id": "c1ba6d67",
   "metadata": {},
   "outputs": [
    {
     "data": {
      "text/html": [
       "<div>\n",
       "<style scoped>\n",
       "    .dataframe tbody tr th:only-of-type {\n",
       "        vertical-align: middle;\n",
       "    }\n",
       "\n",
       "    .dataframe tbody tr th {\n",
       "        vertical-align: top;\n",
       "    }\n",
       "\n",
       "    .dataframe thead th {\n",
       "        text-align: right;\n",
       "    }\n",
       "</style>\n",
       "<table border=\"1\" class=\"dataframe\">\n",
       "  <thead>\n",
       "    <tr style=\"text-align: right;\">\n",
       "      <th></th>\n",
       "      <th>founder_name</th>\n",
       "      <th>founder_surname</th>\n",
       "      <th>number_employees</th>\n",
       "    </tr>\n",
       "  </thead>\n",
       "  <tbody>\n",
       "    <tr>\n",
       "      <th>PiggyVest</th>\n",
       "      <td>Odunayo</td>\n",
       "      <td>Eweniyi</td>\n",
       "      <td>71</td>\n",
       "    </tr>\n",
       "    <tr>\n",
       "      <th>Bumble</th>\n",
       "      <td>Whitney</td>\n",
       "      <td>Wolfe Heard</td>\n",
       "      <td>700</td>\n",
       "    </tr>\n",
       "  </tbody>\n",
       "</table>\n",
       "</div>"
      ],
      "text/plain": [
       "          founder_name founder_surname  number_employees\n",
       "PiggyVest      Odunayo         Eweniyi                71\n",
       "Bumble         Whitney     Wolfe Heard               700"
      ]
     },
     "execution_count": 35,
     "metadata": {},
     "output_type": "execute_result"
    }
   ],
   "source": [
    "df9.head(n=2)"
   ]
  },
  {
   "cell_type": "code",
   "execution_count": 36,
   "id": "e4f9af56",
   "metadata": {},
   "outputs": [
    {
     "data": {
      "text/html": [
       "<div>\n",
       "<style scoped>\n",
       "    .dataframe tbody tr th:only-of-type {\n",
       "        vertical-align: middle;\n",
       "    }\n",
       "\n",
       "    .dataframe tbody tr th {\n",
       "        vertical-align: top;\n",
       "    }\n",
       "\n",
       "    .dataframe thead th {\n",
       "        text-align: right;\n",
       "    }\n",
       "</style>\n",
       "<table border=\"1\" class=\"dataframe\">\n",
       "  <thead>\n",
       "    <tr style=\"text-align: right;\">\n",
       "      <th></th>\n",
       "      <th>founder_name</th>\n",
       "      <th>founder_surname</th>\n",
       "      <th>number_employees</th>\n",
       "    </tr>\n",
       "  </thead>\n",
       "  <tbody>\n",
       "    <tr>\n",
       "      <th>Adafruit Industries</th>\n",
       "      <td>Limor</td>\n",
       "      <td>Fried</td>\n",
       "      <td>105</td>\n",
       "    </tr>\n",
       "    <tr>\n",
       "      <th>Verge Genomics</th>\n",
       "      <td>Alice</td>\n",
       "      <td>Zhang</td>\n",
       "      <td>49</td>\n",
       "    </tr>\n",
       "    <tr>\n",
       "      <th>23andme</th>\n",
       "      <td>Anne</td>\n",
       "      <td>Wojcicki</td>\n",
       "      <td>683</td>\n",
       "    </tr>\n",
       "  </tbody>\n",
       "</table>\n",
       "</div>"
      ],
      "text/plain": [
       "                    founder_name founder_surname  number_employees\n",
       "Adafruit Industries        Limor           Fried               105\n",
       "Verge Genomics             Alice           Zhang                49\n",
       "23andme                     Anne        Wojcicki               683"
      ]
     },
     "execution_count": 36,
     "metadata": {},
     "output_type": "execute_result"
    }
   ],
   "source": [
    "df9.tail(n=3)"
   ]
  },
  {
   "cell_type": "markdown",
   "id": "9b992f41",
   "metadata": {},
   "source": [
    "## Retrieving DataFrame Information"
   ]
  },
  {
   "cell_type": "markdown",
   "id": "fc518c85",
   "metadata": {},
   "source": [
    "`.shape` returns a tuple with the dimensions of the dataframe (number_of_rows, number_of_columns)."
   ]
  },
  {
   "cell_type": "code",
   "execution_count": 37,
   "id": "56de3af9",
   "metadata": {},
   "outputs": [
    {
     "data": {
      "text/plain": [
       "(10, 3)"
      ]
     },
     "execution_count": 37,
     "metadata": {},
     "output_type": "execute_result"
    }
   ],
   "source": [
    "df9.shape"
   ]
  },
  {
   "cell_type": "markdown",
   "id": "957b476e",
   "metadata": {},
   "source": [
    "With `.info()`, we obtain:\n",
    "\n",
    "- the number of entries\n",
    "- the number of columns\n",
    "- the title of each column\n",
    "- the number of entries that in fact exists in each column (does not consider missing values!)\n",
    "- the type of data of the entries of a given column."
   ]
  },
  {
   "cell_type": "code",
   "execution_count": 38,
   "id": "1e319912",
   "metadata": {},
   "outputs": [
    {
     "name": "stdout",
     "output_type": "stream",
     "text": [
      "<class 'pandas.core.frame.DataFrame'>\n",
      "Index: 10 entries, PiggyVest to 23andme\n",
      "Data columns (total 3 columns):\n",
      " #   Column            Non-Null Count  Dtype \n",
      "---  ------            --------------  ----- \n",
      " 0   founder_name      10 non-null     object\n",
      " 1   founder_surname   10 non-null     object\n",
      " 2   number_employees  10 non-null     int64 \n",
      "dtypes: int64(1), object(2)\n",
      "memory usage: 620.0+ bytes\n"
     ]
    }
   ],
   "source": [
    "df9.info()"
   ]
  },
  {
   "cell_type": "markdown",
   "id": "25dafe7f",
   "metadata": {},
   "source": [
    "For the numerical columns it's also possible to obtain basic statistical information using `.describe()`:\n",
    "\n",
    "- the number of rows for each numerical column\n",
    "- the mean value\n",
    "- the standard deviation\n",
    "- the minimum and maximum value\n",
    "- the median, the 25th and 75th percentile."
   ]
  },
  {
   "cell_type": "code",
   "execution_count": 39,
   "id": "b5683729",
   "metadata": {},
   "outputs": [
    {
     "data": {
      "text/html": [
       "<div>\n",
       "<style scoped>\n",
       "    .dataframe tbody tr th:only-of-type {\n",
       "        vertical-align: middle;\n",
       "    }\n",
       "\n",
       "    .dataframe tbody tr th {\n",
       "        vertical-align: top;\n",
       "    }\n",
       "\n",
       "    .dataframe thead th {\n",
       "        text-align: right;\n",
       "    }\n",
       "</style>\n",
       "<table border=\"1\" class=\"dataframe\">\n",
       "  <thead>\n",
       "    <tr style=\"text-align: right;\">\n",
       "      <th></th>\n",
       "      <th>number_employees</th>\n",
       "    </tr>\n",
       "  </thead>\n",
       "  <tbody>\n",
       "    <tr>\n",
       "      <th>count</th>\n",
       "      <td>10.000000</td>\n",
       "    </tr>\n",
       "    <tr>\n",
       "      <th>mean</th>\n",
       "      <td>8215.000000</td>\n",
       "    </tr>\n",
       "    <tr>\n",
       "      <th>std</th>\n",
       "      <td>25049.647037</td>\n",
       "    </tr>\n",
       "    <tr>\n",
       "      <th>min</th>\n",
       "      <td>10.000000</td>\n",
       "    </tr>\n",
       "    <tr>\n",
       "      <th>25%</th>\n",
       "      <td>27.250000</td>\n",
       "    </tr>\n",
       "    <tr>\n",
       "      <th>50%</th>\n",
       "      <td>88.000000</td>\n",
       "    </tr>\n",
       "    <tr>\n",
       "      <th>75%</th>\n",
       "      <td>695.750000</td>\n",
       "    </tr>\n",
       "    <tr>\n",
       "      <th>max</th>\n",
       "      <td>79500.000000</td>\n",
       "    </tr>\n",
       "  </tbody>\n",
       "</table>\n",
       "</div>"
      ],
      "text/plain": [
       "       number_employees\n",
       "count         10.000000\n",
       "mean        8215.000000\n",
       "std        25049.647037\n",
       "min           10.000000\n",
       "25%           27.250000\n",
       "50%           88.000000\n",
       "75%          695.750000\n",
       "max        79500.000000"
      ]
     },
     "execution_count": 39,
     "metadata": {},
     "output_type": "execute_result"
    }
   ],
   "source": [
    "df9.describe()"
   ]
  },
  {
   "cell_type": "markdown",
   "id": "b979ff0d",
   "metadata": {},
   "source": [
    "# Read data from files into pandas dataframes"
   ]
  },
  {
   "cell_type": "markdown",
   "id": "b214ed04",
   "metadata": {},
   "source": [
    "Pandas has functions that allow us to create `dataframes` form several different types of data `files`:\n",
    "\n",
    "- CSV\n",
    "- JSON\n",
    "- HTML\n",
    "- ... and [many more](https://pandas.pydata.org/pandas-docs/stable/user_guide/io.html)\n",
    "\n",
    "All of this is possible by using the `pd.read_` methods.\n",
    "\n",
    "For instance, using the 2010 census profile and housing characteristics of the city of Los Angeles ([source](https://catalog.data.gov/dataset/2010-census-populations-by-zip-code)):"
   ]
  },
  {
   "cell_type": "code",
   "execution_count": 44,
   "id": "e474f10a",
   "metadata": {},
   "outputs": [],
   "source": [
    "census_2010 = pd.read_csv(os.path.join(\"..\",\"data\",\"2010_Census_Populations_by_Zip_Code.csv\"))"
   ]
  },
  {
   "cell_type": "markdown",
   "id": "9d34aec0",
   "metadata": {},
   "source": [
    "This is the resulting DataFrame:"
   ]
  },
  {
   "cell_type": "code",
   "execution_count": 45,
   "id": "501fc2ee",
   "metadata": {},
   "outputs": [
    {
     "data": {
      "text/html": [
       "<div>\n",
       "<style scoped>\n",
       "    .dataframe tbody tr th:only-of-type {\n",
       "        vertical-align: middle;\n",
       "    }\n",
       "\n",
       "    .dataframe tbody tr th {\n",
       "        vertical-align: top;\n",
       "    }\n",
       "\n",
       "    .dataframe thead th {\n",
       "        text-align: right;\n",
       "    }\n",
       "</style>\n",
       "<table border=\"1\" class=\"dataframe\">\n",
       "  <thead>\n",
       "    <tr style=\"text-align: right;\">\n",
       "      <th></th>\n",
       "      <th>Zip Code</th>\n",
       "      <th>Total Population</th>\n",
       "      <th>Median Age</th>\n",
       "      <th>Total Males</th>\n",
       "      <th>Total Females</th>\n",
       "      <th>Total Households</th>\n",
       "      <th>Average Household Size</th>\n",
       "    </tr>\n",
       "  </thead>\n",
       "  <tbody>\n",
       "    <tr>\n",
       "      <th>0</th>\n",
       "      <td>91371</td>\n",
       "      <td>1</td>\n",
       "      <td>73.5</td>\n",
       "      <td>0</td>\n",
       "      <td>1</td>\n",
       "      <td>1</td>\n",
       "      <td>1.00</td>\n",
       "    </tr>\n",
       "    <tr>\n",
       "      <th>1</th>\n",
       "      <td>90001</td>\n",
       "      <td>57110</td>\n",
       "      <td>26.6</td>\n",
       "      <td>28468</td>\n",
       "      <td>28642</td>\n",
       "      <td>12971</td>\n",
       "      <td>4.40</td>\n",
       "    </tr>\n",
       "    <tr>\n",
       "      <th>2</th>\n",
       "      <td>90002</td>\n",
       "      <td>51223</td>\n",
       "      <td>25.5</td>\n",
       "      <td>24876</td>\n",
       "      <td>26347</td>\n",
       "      <td>11731</td>\n",
       "      <td>4.36</td>\n",
       "    </tr>\n",
       "    <tr>\n",
       "      <th>3</th>\n",
       "      <td>90003</td>\n",
       "      <td>66266</td>\n",
       "      <td>26.3</td>\n",
       "      <td>32631</td>\n",
       "      <td>33635</td>\n",
       "      <td>15642</td>\n",
       "      <td>4.22</td>\n",
       "    </tr>\n",
       "    <tr>\n",
       "      <th>4</th>\n",
       "      <td>90004</td>\n",
       "      <td>62180</td>\n",
       "      <td>34.8</td>\n",
       "      <td>31302</td>\n",
       "      <td>30878</td>\n",
       "      <td>22547</td>\n",
       "      <td>2.73</td>\n",
       "    </tr>\n",
       "  </tbody>\n",
       "</table>\n",
       "</div>"
      ],
      "text/plain": [
       "   Zip Code  Total Population  Median Age  Total Males  Total Females  \\\n",
       "0     91371                 1        73.5            0              1   \n",
       "1     90001             57110        26.6        28468          28642   \n",
       "2     90002             51223        25.5        24876          26347   \n",
       "3     90003             66266        26.3        32631          33635   \n",
       "4     90004             62180        34.8        31302          30878   \n",
       "\n",
       "   Total Households  Average Household Size  \n",
       "0                 1                    1.00  \n",
       "1             12971                    4.40  \n",
       "2             11731                    4.36  \n",
       "3             15642                    4.22  \n",
       "4             22547                    2.73  "
      ]
     },
     "execution_count": 45,
     "metadata": {},
     "output_type": "execute_result"
    }
   ],
   "source": [
    "census_2010.head()"
   ]
  },
  {
   "cell_type": "markdown",
   "id": "ecbbc1ef",
   "metadata": {},
   "source": [
    "It's shape is:"
   ]
  },
  {
   "cell_type": "code",
   "execution_count": 46,
   "id": "3bde775c",
   "metadata": {},
   "outputs": [
    {
     "data": {
      "text/plain": [
       "(319, 7)"
      ]
     },
     "execution_count": 46,
     "metadata": {},
     "output_type": "execute_result"
    }
   ],
   "source": [
    "census_2010.shape"
   ]
  },
  {
   "cell_type": "markdown",
   "id": "170d768f",
   "metadata": {},
   "source": [
    "Let's use `.info()` to get an overview of the column variables:"
   ]
  },
  {
   "cell_type": "code",
   "execution_count": 48,
   "id": "a4818700",
   "metadata": {},
   "outputs": [
    {
     "name": "stdout",
     "output_type": "stream",
     "text": [
      "<class 'pandas.core.frame.DataFrame'>\n",
      "RangeIndex: 319 entries, 0 to 318\n",
      "Data columns (total 7 columns):\n",
      " #   Column                  Non-Null Count  Dtype  \n",
      "---  ------                  --------------  -----  \n",
      " 0   Zip Code                319 non-null    int64  \n",
      " 1   Total Population        319 non-null    int64  \n",
      " 2   Median Age              319 non-null    float64\n",
      " 3   Total Males             319 non-null    int64  \n",
      " 4   Total Females           319 non-null    int64  \n",
      " 5   Total Households        319 non-null    int64  \n",
      " 6   Average Household Size  319 non-null    float64\n",
      "dtypes: float64(2), int64(5)\n",
      "memory usage: 17.6 KB\n"
     ]
    }
   ],
   "source": [
    "census_2010.info()"
   ]
  },
  {
   "cell_type": "markdown",
   "id": "bc5157ba",
   "metadata": {},
   "source": [
    "Wait pandas thinks the zip code is a numerical column, let's change that:"
   ]
  },
  {
   "cell_type": "code",
   "execution_count": 55,
   "id": "ad0fe8ed",
   "metadata": {},
   "outputs": [
    {
     "data": {
      "text/plain": [
       "Zip Code                   object\n",
       "Total Population            int64\n",
       "Median Age                float64\n",
       "Total Males                 int64\n",
       "Total Females               int64\n",
       "Total Households            int64\n",
       "Average Household Size    float64\n",
       "dtype: object"
      ]
     },
     "execution_count": 55,
     "metadata": {},
     "output_type": "execute_result"
    }
   ],
   "source": [
    "census_2010 = census_2010.astype({'Zip Code':str})\n",
    "census_2010.dtypes"
   ]
  },
  {
   "cell_type": "markdown",
   "id": "dca0833c",
   "metadata": {},
   "source": [
    "Fixed!"
   ]
  },
  {
   "cell_type": "markdown",
   "id": "41b227ff",
   "metadata": {},
   "source": [
    "And `.describe()` for basic statistics:"
   ]
  },
  {
   "cell_type": "code",
   "execution_count": 56,
   "id": "9e5d0571",
   "metadata": {},
   "outputs": [
    {
     "data": {
      "text/html": [
       "<div>\n",
       "<style scoped>\n",
       "    .dataframe tbody tr th:only-of-type {\n",
       "        vertical-align: middle;\n",
       "    }\n",
       "\n",
       "    .dataframe tbody tr th {\n",
       "        vertical-align: top;\n",
       "    }\n",
       "\n",
       "    .dataframe thead th {\n",
       "        text-align: right;\n",
       "    }\n",
       "</style>\n",
       "<table border=\"1\" class=\"dataframe\">\n",
       "  <thead>\n",
       "    <tr style=\"text-align: right;\">\n",
       "      <th></th>\n",
       "      <th>Total Population</th>\n",
       "      <th>Median Age</th>\n",
       "      <th>Total Males</th>\n",
       "      <th>Total Females</th>\n",
       "      <th>Total Households</th>\n",
       "      <th>Average Household Size</th>\n",
       "    </tr>\n",
       "  </thead>\n",
       "  <tbody>\n",
       "    <tr>\n",
       "      <th>count</th>\n",
       "      <td>319.000000</td>\n",
       "      <td>319.000000</td>\n",
       "      <td>319.000000</td>\n",
       "      <td>319.000000</td>\n",
       "      <td>319.000000</td>\n",
       "      <td>319.000000</td>\n",
       "    </tr>\n",
       "    <tr>\n",
       "      <th>mean</th>\n",
       "      <td>33241.341693</td>\n",
       "      <td>36.527586</td>\n",
       "      <td>16391.564263</td>\n",
       "      <td>16849.777429</td>\n",
       "      <td>10964.570533</td>\n",
       "      <td>2.828119</td>\n",
       "    </tr>\n",
       "    <tr>\n",
       "      <th>std</th>\n",
       "      <td>21644.417455</td>\n",
       "      <td>8.692999</td>\n",
       "      <td>10747.495566</td>\n",
       "      <td>10934.986468</td>\n",
       "      <td>6270.646400</td>\n",
       "      <td>0.835658</td>\n",
       "    </tr>\n",
       "    <tr>\n",
       "      <th>min</th>\n",
       "      <td>0.000000</td>\n",
       "      <td>0.000000</td>\n",
       "      <td>0.000000</td>\n",
       "      <td>0.000000</td>\n",
       "      <td>0.000000</td>\n",
       "      <td>0.000000</td>\n",
       "    </tr>\n",
       "    <tr>\n",
       "      <th>25%</th>\n",
       "      <td>19318.500000</td>\n",
       "      <td>32.400000</td>\n",
       "      <td>9763.500000</td>\n",
       "      <td>9633.500000</td>\n",
       "      <td>6765.500000</td>\n",
       "      <td>2.435000</td>\n",
       "    </tr>\n",
       "    <tr>\n",
       "      <th>50%</th>\n",
       "      <td>31481.000000</td>\n",
       "      <td>37.100000</td>\n",
       "      <td>15283.000000</td>\n",
       "      <td>16202.000000</td>\n",
       "      <td>10968.000000</td>\n",
       "      <td>2.830000</td>\n",
       "    </tr>\n",
       "    <tr>\n",
       "      <th>75%</th>\n",
       "      <td>44978.000000</td>\n",
       "      <td>41.000000</td>\n",
       "      <td>22219.500000</td>\n",
       "      <td>22690.500000</td>\n",
       "      <td>14889.500000</td>\n",
       "      <td>3.320000</td>\n",
       "    </tr>\n",
       "    <tr>\n",
       "      <th>max</th>\n",
       "      <td>105549.000000</td>\n",
       "      <td>74.000000</td>\n",
       "      <td>52794.000000</td>\n",
       "      <td>53185.000000</td>\n",
       "      <td>31087.000000</td>\n",
       "      <td>4.670000</td>\n",
       "    </tr>\n",
       "  </tbody>\n",
       "</table>\n",
       "</div>"
      ],
      "text/plain": [
       "       Total Population  Median Age   Total Males  Total Females  \\\n",
       "count        319.000000  319.000000    319.000000     319.000000   \n",
       "mean       33241.341693   36.527586  16391.564263   16849.777429   \n",
       "std        21644.417455    8.692999  10747.495566   10934.986468   \n",
       "min            0.000000    0.000000      0.000000       0.000000   \n",
       "25%        19318.500000   32.400000   9763.500000    9633.500000   \n",
       "50%        31481.000000   37.100000  15283.000000   16202.000000   \n",
       "75%        44978.000000   41.000000  22219.500000   22690.500000   \n",
       "max       105549.000000   74.000000  52794.000000   53185.000000   \n",
       "\n",
       "       Total Households  Average Household Size  \n",
       "count        319.000000              319.000000  \n",
       "mean       10964.570533                2.828119  \n",
       "std         6270.646400                0.835658  \n",
       "min            0.000000                0.000000  \n",
       "25%         6765.500000                2.435000  \n",
       "50%        10968.000000                2.830000  \n",
       "75%        14889.500000                3.320000  \n",
       "max        31087.000000                4.670000  "
      ]
     },
     "execution_count": 56,
     "metadata": {},
     "output_type": "execute_result"
    }
   ],
   "source": [
    "census_2010.describe()"
   ]
  },
  {
   "cell_type": "markdown",
   "id": "5f0edb22",
   "metadata": {},
   "source": [
    "# Writing data from pandas into files"
   ]
  },
  {
   "cell_type": "markdown",
   "id": "f6148666",
   "metadata": {},
   "source": [
    "Besides reading from the disk, Pandas allows us to save our dataframe to a file."
   ]
  },
  {
   "cell_type": "code",
   "execution_count": 57,
   "id": "b8615d5c",
   "metadata": {},
   "outputs": [],
   "source": [
    "census_2010.to_csv(os.path.join(\"..\",\"data\",\"new_csv.csv\"))"
   ]
  },
  {
   "cell_type": "markdown",
   "id": "cb9b6ad8",
   "metadata": {},
   "source": [
    "You should now have a new file called `new_csv.csv` in your `data` folder!\n",
    "\n",
    "The same way we can read data from various files types, we can also write data to various file types (CSV, JSON, HTML, ...) All of this is possible by using the to_dataFormat method, giving as an argument the path where you want to save the file. For example, you can write to the JSON format using `to_json`, or to an Excel spreadsheet using `to_excel`, and so on."
   ]
  },
  {
   "cell_type": "markdown",
   "id": "d87c035e",
   "metadata": {},
   "source": [
    "# Useful Links\n",
    "\n",
    "- [Pandas Getting Started tutorials](https://pandas.pydata.org/pandas-docs/stable/getting_started/intro_tutorials/index.html)\n",
    "\n",
    "\n",
    "- [Intro to data structures](https://pandas.pydata.org/pandas-docs/stable/dsintro.html)"
   ]
  }
 ],
 "metadata": {
  "kernelspec": {
   "display_name": "Python 3 (ipykernel)",
   "language": "python",
   "name": "python3"
  },
  "language_info": {
   "codemirror_mode": {
    "name": "ipython",
    "version": 3
   },
   "file_extension": ".py",
   "mimetype": "text/x-python",
   "name": "python",
   "nbconvert_exporter": "python",
   "pygments_lexer": "ipython3",
   "version": "3.10.9"
  }
 },
 "nbformat": 4,
 "nbformat_minor": 5
}
